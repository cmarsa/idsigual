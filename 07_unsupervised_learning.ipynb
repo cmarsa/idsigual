{
 "cells": [
  {
   "cell_type": "markdown",
   "metadata": {},
   "source": [
    "# 07 __Unsupervised Learning__"
   ]
  },
  {
   "cell_type": "markdown",
   "metadata": {},
   "source": [
    "In machine learning, the problem of unservised learning is that of\n",
    "trying to find hidden structure in unlabeled data. Since the examples\n",
    "fuven to the learner are unlabeled, there is no error or reward signal\n",
    "to evaluate the goodness of a potential solution. This distinguishes unsupervised\n",
    "from supervised learning.\n",
    "__Unsupervised learning is defines as the task performed by algorithms\n",
    "that learn from a training set of unlabeled or unannotated examples, \n",
    "using the features of the inputs to categorize them according to some\n",
    "geometric or statistical criteria.__"
   ]
  },
  {
   "cell_type": "markdown",
   "metadata": {},
   "source": [
    "Unsupervised learning encompasses many techniques that seek to summarize and\n",
    "explain key features or structures of the data. Many methods employed in unsuper-\n",
    "vised learning are based on data mining methods used to preprocess data. Most\n",
    "unsupervised learning techniques can be summarized as those that tackle the follow-\n",
    "ing four groups of problems:\n",
    "1. __Clustering__: has a goal to partition the set of examples into groups.\n",
    "2. __Dimensionality reduction__: aims to reduce the dimensionality of the data.\n",
    "    Here we encounter techniques such as PCA, independendent component analysis,\n",
    "    and nonnegative matrix factorization.\n",
    "3. __Outlier detection__: has a purpose to find unusual events (e.g. malfunction)\n",
    "    that distinguish part of the dat afrom the rest according to certain criteria.\n",
    "4. __Novelty detection__: deals with cases when changes occur in the data\n",
    "    (e.g. in steaming data).\n",
    "\n"
   ]
  },
  {
   "cell_type": "markdown",
   "metadata": {},
   "source": [
    "## __Clustering__"
   ]
  },
  {
   "cell_type": "markdown",
   "metadata": {},
   "source": [
    "Clustering is a process of grouping similar objects together, i.e., to aprtition\n",
    "unlabeled examples into disjoint subsets of clusters, such that:\n",
    "+ Examples withing a clsuter are similar (_high interclass similarity_)\n",
    "+ Exampples in different clusters are different (_low interclass similarity_)"
   ]
  },
  {
   "cell_type": "markdown",
   "metadata": {},
   "source": [
    "When we denote data as similar and dissimilat, we should define a measure for this\n",
    "similarity/dissimilarity. Note that grouping similar data together can help\n",
    "in discovering enw categories in an unsupervised manner, even when no sample category\n",
    "lavels are provided. Moreover, two kidns of inputs can be used for grouping:\n",
    "+ in __similarity-based clustering__, the input to the algorithm is an _n_ $\\times$ _n_ \n",
    "    __dissimilarity matrix__ or __distance matrix__.\n",
    "+ in __feature-based clustering__, the input to the algorithm is an _n_ $\\times$ _D_\n",
    "    __feature matrix__ or __design matrix__, where _n_ is the number of examples in the\n",
    "    dataset and _D_ the dimensionality of each example."
   ]
  },
  {
   "cell_type": "markdown",
   "metadata": {},
   "source": [
    "Similarity-based clustering allows easy inclusion of domain-specific similarity,\n",
    "while feature-based clsutering has the advantage that it is applicable to potentially noisy\n",
    "data.\n",
    "Therefore, several questions regarding the clustering process arise.\n"
   ]
  },
  {
   "cell_type": "markdown",
   "metadata": {},
   "source": [
    "* What is a natural grouping among the objects? We need to define the \"groupness\"\n",
    "    and the \"similarity/distance\" between data.\n",
    "* How can we group samples? What are the best procedures? Are they efficient?\n",
    "    Are they fast? Are they deterministic?\n",
    "* How many clusters should we look for in the data? Shall we state his number\n",
    "    _a priori_? Should the process be completely data driven or can the user\n",
    "    guide the grouping process? How can we avoid \"trivial\" clusters? Should we allow\n",
    "    final clustering results to ahve very large or very small clusters?\n",
    "    Which methods work when the number of samples is large? Which methods work when\n",
    "    the number of classes is large?\n",
    "* What constitutes a good grouping? What objective measures can be defined to\n",
    "    evaluate the quality of the clusters?"
   ]
  },
  {
   "cell_type": "markdown",
   "metadata": {},
   "source": [
    "There is not always a single or optimal answer to these questions. It used to be said\n",
    "that clustering is a “subjective” issue. Clustering will help us to describe, analyze,\n",
    "and gain insight into the data, but the quality of the partition depends to a great extent\n",
    "on the application and the analyst."
   ]
  },
  {
   "cell_type": "markdown",
   "metadata": {},
   "source": [
    "## __Similarity and Distances__"
   ]
  },
  {
   "cell_type": "markdown",
   "metadata": {},
   "source": [
    "To speak of similar and dissimilar data, we need to introduce a notion of the similarity\n",
    "of data. There are several ways for modeling of similarity. A simple way to model\n",
    "this is by means of a Gaussian kernel:\n",
    "\n",
    "$$ s(a, b) = e^{-\\gamma d(a, b)} $$\n",
    "\n",
    "where $d(a, b)$ is a metric function, and $\\gamma$ is a constant that controls the decay\n",
    "of the function. Observe that when $a =b$, the similarity is maximum and equal to one.\n",
    "On the contrary, when $a$ is very different to $b$, the similarity tends to zero.\n",
    "\n",
    "The former modeling of the similarity function suggests that we can use the notion of\n",
    "distance as a surrogate. The most widespread distance metric is the _Minkowski distance__:\n",
    "\n",
    "$$ d(a, b) = \\big( \\sum_{i = 1}^{d} | a_i - b_i |^p \\big)^{1 / p}$$\n",
    "\n",
    "where $d(a, b)$ stands for the distance between two elements $a, b \\in \\mathbb{R}^d $, $d$ is the\n",
    "dimensionality of the data, and $p$ is a parameter.\n",
    "\n",
    "The best-known instantiations of this metric are as follows:\n",
    "\n",
    "* when $p = 2$, we have the _Euclidean distance_\n",
    "* when $p = 1$, we have the _Manhattan distance_\n",
    "* when $p = \\infty$ we have the _max-distance_. In this case the distance\n",
    "    corresponds to the component $|a_b - b_i |$ with the highest value."
   ]
  },
  {
   "cell_type": "markdown",
   "metadata": {},
   "source": [
    "## __Metrics to Measure Clustering Quality__"
   ]
  },
  {
   "cell_type": "markdown",
   "metadata": {},
   "source": [
    "When performing clustering, the question normally arises: How do we measure the\n",
    "quality of the clustering result? Note that in unsupervised clustering, we do not have\n",
    "groundtruth labels that would allow us to compute the accuracy of the algorithm. Still,\n",
    "there are several procedures for assessing quality. We find two families of techniques:\n",
    "those that allow us to __compare clustering techniques__, and those that __check on specific\n",
    "properties of the clustering__, for example “compactness”."
   ]
  },
  {
   "cell_type": "markdown",
   "metadata": {},
   "source": [
    "### __Rand Index, Homogeneity, Completeness and V-measure Scores__"
   ]
  },
  {
   "cell_type": "markdown",
   "metadata": {},
   "source": [
    "One of the best-known methods for comparing the results in clustering techniques\n",
    "in statistics is the Rand index or Rand measure (named after William M. Rand). The\n",
    "Rand index evaluates the similarity between two results of data clustering. Since\n",
    "in unsupervised clustering, class labels are not known, we use the Rand index to\n",
    "compare the coincidence of different clusterings obtained by different approaches\n",
    "or criteria. As an alternative, we later discuss the Silhouette coefficient: instead of\n",
    "comparing different clusterings, this evaluates the compactness of the results of\n",
    "applying a specific clustering approach."
   ]
  },
  {
   "cell_type": "markdown",
   "metadata": {},
   "source": [
    "Given a set of $n$ elements $S = \\{o_1, ..., o_n\\}$, we can compare two partitions of $S$:\n",
    "$X = \\{X_1, ..., X_r\\}$, a partition of $S$ into $r$ subsets; and $Y = \\{Y_1, ..., Y_s\\}$, \n",
    "a partition of $S$ into $s$ subsets. Let us use the annotations as follows:\n",
    "\n",
    "* $a$ is the number of pairs of elements in $S$ that are in the same subset in both\n",
    "    $X$ and $Y$;\n",
    "* $b$ is the number of pairs of elements on $S$ that are in different subsets in both\n",
    "    $X$ and $Y$\n",
    "* $c$ is the number of pairs of elements in $S$ that are in the same subset in $X$, but in\n",
    "    different subsets in $Y$; and\n",
    "* $d$ is the number of pairs of elements in $S$ that are in different subsets in $X$, but\n",
    "    in the same subset in $Y$.\n",
    "    \n",
    "The Rand index, $R$ is defines as:\n",
    "\n",
    "$$ R = \\frac{a + b}{a + b + c + d} $$\n",
    "\n",
    "ensuring that its value is between 0 and 1."
   ]
  },
  {
   "cell_type": "markdown",
   "metadata": {},
   "source": [
    "One of the problems of the Rand index is that when given two datasets with random\n",
    "labelings, it does not take a constant value (e.g., zero) as expected. Moreover, when\n",
    "the number of clusters increases it is desirable that the upper limit tends to the unity.\n",
    "To solve this problem, a form of the Rand index, called the Adjusted Rand index, is\n",
    "used that adjusts the Rand index with respect to chance grouping of elements. It is\n",
    "defined as follows:"
   ]
  },
  {
   "cell_type": "markdown",
   "metadata": {},
   "source": [
    "$$ AR = \\frac{\\binom{n}{2} (a + d) - [(a + b)(a + c) + (c + d)(b + d)]}{\\binom{n}{2}^2[a(a + b)(a + c) + (c + d)(b + d)]} $$"
   ]
  },
  {
   "cell_type": "markdown",
   "metadata": {},
   "source": [
    "Another way for comparing clustering results is the __V-measure__. Let us first\n",
    "introduce some concepts. \n",
    "\n",
    "We say that a clustering result satisfies a _homogeneity_\n",
    "criterion if all of its clusters contain only data points which are members of the\n",
    "same original (single) class.\n",
    "\n",
    "A clusterign result satisfies a _completeness__ criterion if all the data points\n",
    "that are members of a given class are elements of the same predicted cluster.\n",
    "\n",
    "Note that both scores have real positive values between 0.0 and 1.0, larger values\n",
    "being desireble.\n"
   ]
  },
  {
   "cell_type": "code",
   "execution_count": 8,
   "metadata": {},
   "outputs": [
    {
     "name": "stdout",
     "output_type": "stream",
     "text": [
      "0.000\n"
     ]
    }
   ],
   "source": [
    "# for example if we consider two toy clustering sets\n",
    "# (e.g. orgiinal and predicted) with four samples and two\n",
    "# labels we get\n",
    "from sklearn import metrics\n",
    "print(f'{metrics.homogeneity_score([0, 0, 1, 1],[0, 0, 0, 0]):.3f}')\n",
    "# the homogeinity is 0 since the sample sin the predicted cluster 0 come from\n",
    "# original cluster 0 and cluster 1"
   ]
  },
  {
   "cell_type": "code",
   "execution_count": 9,
   "metadata": {},
   "outputs": [
    {
     "name": "stdout",
     "output_type": "stream",
     "text": [
      "1.0\n"
     ]
    }
   ],
   "source": [
    "print(f'{metrics.completeness_score([0, 0, 1, 1], [1, 1, 0, 0])}')\n",
    "# the completeness is 1 dince all the samples from the original\n",
    "# cluster with label 0 go into the same predicted cluster\n",
    "# with label 1 and all the samples from the original cluster with\n",
    "# label 1 go into the same prdeicted clsiter with label 0"
   ]
  },
  {
   "cell_type": "markdown",
   "metadata": {},
   "source": [
    "However, how can we define a measure that takes into account the completeness\n",
    "as well as the homogeneity? The V-measure is the harmonic mean between the\n",
    "homogeneity and the completeness defined as follows:homo\n",
    "\n",
    "$$ v = 2 * (homogeinity * completeness) / (homogeinity + completeness) $$"
   ]
  },
  {
   "cell_type": "markdown",
   "metadata": {},
   "source": [
    "Note that this metric is not dependent of the absolute values of the labels: a\n",
    "permutation of the class or cluster label values will not change the score value in\n",
    "any way. Moreover, the metric is symmetric with respect to switching between the\n",
    "predicted and the original cluster label. This is very useful to measure the agreement\n",
    "of two independent label assignment strategies applied to the same dataset even\n",
    "when the real groundtruth is not known. If class members are completely split across\n",
    "different clusters, the assignment is totally incomplete, hence the V-measure is null:"
   ]
  },
  {
   "cell_type": "code",
   "execution_count": 10,
   "metadata": {},
   "outputs": [
    {
     "name": "stdout",
     "output_type": "stream",
     "text": [
      "0.0\n"
     ]
    }
   ],
   "source": [
    "print(f'{metrics.v_measure_score([0, 0, 0, 0], [0, 1, 2, 3])}')"
   ]
  },
  {
   "cell_type": "markdown",
   "metadata": {},
   "source": [
    "In contrast, clusters that include samples from different classes destroy the homo-\n",
    "geneity of the labeling, hence:\n"
   ]
  },
  {
   "cell_type": "code",
   "execution_count": 11,
   "metadata": {},
   "outputs": [
    {
     "name": "stdout",
     "output_type": "stream",
     "text": [
      "3.203426503814917e-16\n"
     ]
    }
   ],
   "source": [
    "print(f'{metrics.v_measure_score([0, 0, 1, 1], [0, 0, 0, 0])}')"
   ]
  },
  {
   "cell_type": "markdown",
   "metadata": {},
   "source": [
    "In summary, we can say that the advantages of the V-measure include that it\n",
    "has bounded scores: 0.0 means the clustering is extremely bad; 1.0 indicates a perfect clustering result. Moreover, it can be interpreted easily: when analyzing the\n",
    "V-measure, low completeness or homogeneity explain in which direction the clustering is not performing well. Furthermore, we do not assume anything about the\n",
    "cluster structure. Therefore, it can be used to compare clustering algorithms such\n",
    "as K-means, which assume isotropic blob shapes, with results of other clustering\n",
    "algorithms such as spectral clustering which can find clusters\n",
    "with “folded” shapes. As a drawback, the previously introduced metrics are not\n",
    "normalized with regard to random labeling. This means that depending on the number of samples, clusters and groundtruth classes, a completely random labeling will\n",
    "not always yield the same values for homogeneity, completeness and hence, the V-measure. In particular, random labeling will not yield a zero score, and they will tend\n",
    "further from zero as the number of clusters increases. It can be shown that this problem can reliably be overcome when the number of samples is high, i.e., more than a\n",
    "thousand, and the number of clusters is less than 10. These metrics require knowledge of the groundtruth classes, while in practice this information is almost never\n",
    "available or requires manual assignment by human annotators. Instead, as mentioned\n",
    "before, these metrics can be used to compare the results of different clusterings."
   ]
  },
  {
   "cell_type": "markdown",
   "metadata": {},
   "source": [
    "## __Silhouette Score__"
   ]
  },
  {
   "cell_type": "markdown",
   "metadata": {},
   "source": [
    "An alternative to the former scores is to evaluate the final ‘shape’ of the clustering\n",
    "result. This is the underlying idea behind the Silhouette coefficient. It is defined as\n",
    "a function of the intracluster distance of a sample in the dataset, a and the nearest-\n",
    "cluster distance, b for each sample. Later, we will discuss different ways to compute\n",
    "the distance between clusters. The Silhouette coefficient for a sample i can be written\n",
    "as follows:\n",
    "\n",
    "$$ Silhoutette(i) = \\frac{b - a}{\\max(a, b)} $$"
   ]
  },
  {
   "cell_type": "markdown",
   "metadata": {},
   "source": [
    "Hence, if the Silhouette s(i) is close to 0, it means that the sample is on the border of\n",
    "its cluster and the closest one from the rest of the dataset clusters. A negative value\n",
    "means that the sample is closer to the neighbor cluster. The average of the Silhouette\n",
    "coefficients of all samples of a given cluster defines the “goodness” of the cluster.\n",
    "A high positive value, i.e., close to 1 would mean a compact cluster, and vice versa.\n",
    "And the average of the Silhouette coefficients of all clusters gives idea of the quality\n",
    "of the clustering result. Note that the Silhouette coefficient only makes sense when\n",
    "the number of labels predicted is less than the number of samples clustered.\n",
    "The advantage of the Silhouette coefficient is that it is bounded between −1 and\n",
    "+1. Moreover, it is easy to show that the score is higher when clusters are dense\n",
    "and well separated; a logical feature when speaking about clusters. Furthermore, the\n",
    "Silhouette coefficient is generally higher when clusters are compact."
   ]
  },
  {
   "cell_type": "markdown",
   "metadata": {},
   "source": [
    "## __Taxonomies of Clustering Techniques__\n"
   ]
  },
  {
   "cell_type": "markdown",
   "metadata": {},
   "source": [
    "Within different clustering algorithms, one can find soft partition algorithms, which\n",
    "assign a probability of the data belonging to each cluster, and also hard partition\n",
    "algorithms, where each datapoint is assigned precise membership of one cluster.\n",
    "A typical example of a soft partition algorithm is the Mixture of Gaussians\n",
    "which can be viewed as a density estimator method that assigns a confidence or\n",
    "probability to each point in the space.\n",
    "\n",
    "A Gaussian mixture model is a probabilistic model that assumes all the data points\n",
    "are generated from a mixture of a finite number of gaussian distributions with\n",
    "unkown parameters. The universally used generative unsupervised clustering using a \n",
    "Gaussian mixture model is also known as _EM_ _Clustering_. Each point in the dataset\n",
    "has a soft assignment to the _K_ clusters.\n",
    "One can convert this soft probabilistic assignment into membership by picking out\n",
    "the most likeliy clusters (those with the highest probability of assignment).\n",
    "\n",
    "An alternative to soft algorithms are the hard partition algorithms, which assign a\n",
    "unique cluster value to each element in the feature space. According to the grouping\n",
    "process of the hard partition algorithm, there are two large families of clustering\n",
    "techniques:\n",
    "\n",
    "* __Partitional algorithms__: these start with a random partition and refine it\n",
    "    iteratievely. That is why sometimes these algorithms are callef \"flat\" clustering.\n",
    "* __Hierarchical algorithms__: these organize the data into hierarchical structures,\n",
    "    where data can be agglomerated in the bottom-up direction, or split in a top-down\n",
    "    manner."
   ]
  },
  {
   "cell_type": "markdown",
   "metadata": {},
   "source": [
    "### __K-means Clustering__"
   ]
  },
  {
   "cell_type": "markdown",
   "metadata": {},
   "source": [
    "K-means algorithm is a hard partition algorithm with the goal of assigning each data\n",
    "point to a single cluster. K-means algorithm divides a set of $n$ samples $X$ into $k$\n",
    "disjoint clusters $c_i, i = 1, 2, ..., k$, eacj described bu the mean $\\mu_i$ of the samples\n",
    "in the cluster. The means are commonly called cluster _centroids_. The K-means algorithm\n",
    "assumes that all $k$ groups have equal variance.\n",
    "\n",
    "K-means clustering solves the following minimization problem:\n",
    "\n",
    "$$ \\arg \\min_c \\sum_{j = 1}^{k} \\sum_{x \\in c_j} d(x, \\mu_j) = \\arg \\min_c \\sum_{j = 1}^{k} \\sum_{x \\in c_j} || x - \\mu_j ||_{2}^{2} $$"
   ]
  },
  {
   "cell_type": "markdown",
   "metadata": {},
   "source": [
    "where $c_i$ is the set of points that belong to cluster $i$ and $\\mu_i$ is the center\n",
    "of the class $c_i$. K-means clustering objective function used the square of the\n",
    "Euclidean distance $d(x, \\mu_j) = || x - \\mu_j|| ^2 $, that is also referred to as the\n",
    "__intertia__ or __within-cluster sum of squares__. This problem is not trivial\n",
    "to solve (in fact it is NP-Hard problem), so the algorithm only hopes\n",
    "to finds the glboal minimum, but may become stuck at a different solution.\n",
    "\n",
    "In other words, we may wonder whether the centroids should belong to the original\n",
    "set of points:\n",
    "\n",
    "$$ \\text{inertia} = \\sum_{i = 0}^{n} \\min_{\\mu_i \\in c} || x_i - \\mu_j || ^2$$"
   ]
  },
  {
   "cell_type": "markdown",
   "metadata": {},
   "source": [
    "The K-means algorithm, also known as Lloyd’s algorithm, is an iterative procedure\n",
    "that searches for a solution of the K-means clustering problem and works as follows.\n",
    "First, we need to decide the number of clusters, k. Then we apply the following\n",
    "procedure:\n",
    "\n",
    "1. Initialize (e.g. randomly) the $k$ cluster centers, called centroids.\n",
    "2. Decide the class memberhsip of the $n$ data samples bu assigning them to the\n",
    "    nearest.clsuter centroids. (e.g. the center of gravity or mean).\n",
    "3. Re.estimate the $k$ cluster centers, $c_i$ by assuming the membership found\n",
    "    above are correct.\n",
    "4. If one of the $n$ objects changes its membership from the last iteration, then\n",
    "    exit. Otherwise go to step 2."
   ]
  },
  {
   "cell_type": "markdown",
   "metadata": {},
   "source": [
    "Let's illustrate this"
   ]
  },
  {
   "cell_type": "code",
   "execution_count": 3,
   "metadata": {},
   "outputs": [
    {
     "data": {
      "text/plain": [
       "(120, 2)"
      ]
     },
     "execution_count": 3,
     "metadata": {},
     "output_type": "execute_result"
    }
   ],
   "source": [
    "import numpy as np\n",
    "import matplotlib.pyplot as plt\n",
    "\n",
    "MAXN = 40\n",
    "\n",
    "X = np.concatenate([1.25 * np.random.randn(MAXN, 2), 5 + 1.5 * np.random.randn(MAXN, 2)])\n",
    "X = np.concatenate([X, [8, 3] + 1.2 * np.random.randn(MAXN, 2)])\n",
    "\n",
    "X.shape"
   ]
  },
  {
   "cell_type": "code",
   "execution_count": 6,
   "metadata": {},
   "outputs": [
    {
     "data": {
      "image/png": "[encoded data removed]",
      "text/plain": [
       "<Figure size 432x288 with 2 Axes>"
      ]
     },
     "metadata": {
      "needs_background": "light"
     },
     "output_type": "display_data"
    }
   ],
   "source": [
    "#Just for visualization purposes, create the labels of the 3 distributions\n",
    "y = np.concatenate([np.ones((MAXN,1)),2*np.ones((MAXN,1))])\n",
    "y = np.concatenate([y,3*np.ones((MAXN,1))])\n",
    "\n",
    "plt.subplot(1,2,1)\n",
    "plt.scatter(X[(y==1).ravel(),0],X[(y==1).ravel(),1],color='r')\n",
    "plt.scatter(X[(y==2).ravel(),0],X[(y==2).ravel(),1],color='b')\n",
    "plt.scatter(X[(y==3).ravel(),0],X[(y==3).ravel(),1],color='g')\n",
    "plt.title('Data as were generated')\n",
    "\n",
    "plt.subplot(1,2,2)\n",
    "plt.scatter(X[:,0],X[:,1],color='r')\n",
    "plt.title('Data as the algorithm sees them')\n",
    "\n",
    "plt.savefig(\"output/ch07_sample.png\",dpi = 300, bbox_inches = 'tight')"
   ]
  },
  {
   "cell_type": "code",
   "execution_count": 8,
   "metadata": {},
   "outputs": [
    {
     "data": {
      "text/plain": [
       "KMeans(algorithm='auto', copy_x=True, init='random', max_iter=300, n_clusters=3,\n",
       "       n_init=10, n_jobs=None, precompute_distances='auto', random_state=None,\n",
       "       tol=0.0001, verbose=0)"
      ]
     },
     "execution_count": 8,
     "metadata": {},
     "output_type": "execute_result"
    }
   ],
   "source": [
    "from sklearn import cluster\n",
    "K = 3\n",
    "\n",
    "clf = cluster.KMeans(init = 'random', n_clusters = K)\n",
    "clf.fit(X)"
   ]
  },
  {
   "cell_type": "markdown",
   "metadata": {},
   "source": [
    "__Note__: Each clustering algorithm comes in two variants: a class, that implements the fit method to learn the clusters on train data, and a predict function, that, given test data, returns an array of integer labels corresponding to the different clusters. For the class, the labels over the training data can be found in the labels_ attribute."
   ]
  },
  {
   "cell_type": "code",
   "execution_count": 9,
   "metadata": {},
   "outputs": [
    {
     "name": "stdout",
     "output_type": "stream",
     "text": [
      "[1 1 1 1 1 1 1 1 1 1 1 1 1 1 1 1 1 1 1 1 1 1 1 1 1 1 1 1 1 1 1 1 1 1 1 1 1\n",
      " 1 1 1 0 0 0 0 0 2 0 0 0 0 0 2 0 0 0 0 0 0 2 0 0 2 0 0 0 0 0 0 0 0 0 0 0 0\n",
      " 0 0 0 0 0 0 2 2 2 2 2 2 2 2 2 2 2 2 2 2 2 2 2 2 2 2 2 2 2 2 2 2 2 2 2 2 2\n",
      " 2 2 2 2 2 2 2 2 2]\n",
      "[1 1 1 1 1 1 1 1 1 1 1 1 1 1 1 1 1 1 1 1 1 1 1 1 1 1 1 1 1 1 1 1 1 1 1 1 1\n",
      " 1 1 1 0 0 0 0 0 2 0 0 0 0 0 2 0 0 0 0 0 0 2 0 0 2 0 0 0 0 0 0 0 0 0 0 0 0\n",
      " 0 0 0 0 0 0 2 2 2 2 2 2 2 2 2 2 2 2 2 2 2 2 2 2 2 2 2 2 2 2 2 2 2 2 2 2 2\n",
      " 2 2 2 2 2 2 2 2 2]\n"
     ]
    }
   ],
   "source": [
    "print(clf.labels_)    ## these are\n",
    "print(clf.predict(X)) ## equivalent"
   ]
  },
  {
   "cell_type": "code",
   "execution_count": 11,
   "metadata": {},
   "outputs": [
    {
     "name": "stdout",
     "output_type": "stream",
     "text": [
      "[-0.11245493  1.61511498 -1.31656247  2.00702017 -0.86944849  2.76616109\n",
      "  1.29219164  1.18121116  0.73835597  1.88851975 -0.9217586  -0.77379156\n",
      "  1.6363454  -0.845281    1.79190641 -1.36215248 -0.33087227 -0.58022301\n",
      "  0.05592329 -0.05741747  0.84880632 -0.79144941  0.32036423  0.1136204\n",
      "  1.06575963  0.59478945  0.19479013 -1.63340513  2.22507339 -2.41732684\n",
      "  0.69469578 -2.88681108  0.0795241   0.01121827  2.07604121  3.86131486\n",
      " -0.60793616 -0.16230301  0.84639252 -2.2375162 ]\n",
      "[ 0.90373298  1.41037591  0.61652778  0.52935039  0.83693045  0.18338187\n",
      "  0.69843735 -0.6075795   0.95900041 -0.60346033  1.50795052 -0.50951284\n",
      "  0.73455554 -0.79362505 -0.37620339 -3.05610919  2.48946356  1.04245371\n",
      "  2.35196738 -2.15276769  0.52150562 -0.18597881  1.42879427  0.23212923\n",
      "  1.40976889 -0.64472454 -2.26493936 -0.3720942   0.36340347  0.31460312\n",
      " -2.38904223 -1.47360458  1.16263988  0.59891785  0.30519542  0.59556951\n",
      " -1.05043542 -0.55535887 -0.80936225  0.4904709 ]\n"
     ]
    }
   ],
   "source": [
    "print(X[(y==1).ravel(),0])\n",
    "print(X[(y==1).ravel(),1])"
   ]
  },
  {
   "cell_type": "code",
   "execution_count": 12,
   "metadata": {},
   "outputs": [
    {
     "data": {
      "image/png": "[encoded data removed]",
      "text/plain": [
       "<Figure size 432x360 with 1 Axes>"
      ]
     },
     "metadata": {
      "needs_background": "light"
     },
     "output_type": "display_data"
    }
   ],
   "source": [
    "plt.scatter(X[(y==1).ravel(),0],X[(y==1).ravel(),1],color='r')\n",
    "plt.scatter(X[(y==2).ravel(),0],X[(y==2).ravel(),1],color='b')\n",
    "plt.scatter(X[(y==3).ravel(),0],X[(y==3).ravel(),1],color='g')\n",
    "\n",
    "fig = plt.gcf()\n",
    "fig.set_size_inches((6,5))"
   ]
  },
  {
   "cell_type": "code",
   "execution_count": 13,
   "metadata": {},
   "outputs": [],
   "source": [
    "x = np.linspace(-5,15,200)\n",
    "XX,YY = np.meshgrid(x,x)\n",
    "sz=XX.shape\n",
    "data=np.c_[XX.ravel(),YY.ravel()] "
   ]
  },
  {
   "cell_type": "code",
   "execution_count": 15,
   "metadata": {},
   "outputs": [],
   "source": [
    "Z=clf.predict(data)"
   ]
  },
  {
   "cell_type": "code",
   "execution_count": 16,
   "metadata": {},
   "outputs": [
    {
     "data": {
      "image/png": "[encoded data removed]",
      "text/plain": [
       "<Figure size 432x360 with 1 Axes>"
      ]
     },
     "metadata": {
      "needs_background": "light"
     },
     "output_type": "display_data"
    }
   ],
   "source": [
    "# Visualize space partition\n",
    "plt.imshow(Z.reshape(sz), interpolation='bilinear', origin='lower', \n",
    "           extent=(-5,15,-5,15),alpha=0.3, vmin=0, vmax=K-1)\n",
    "plt.title('Space partitions', size=14)\n",
    "plt.scatter(X[(y==1).ravel(),0],X[(y==1).ravel(),1],color='r')\n",
    "plt.scatter(X[(y==2).ravel(),0],X[(y==2).ravel(),1],color='b')\n",
    "plt.scatter(X[(y==3).ravel(),0],X[(y==3).ravel(),1],color='g')\n",
    "\n",
    "fig = plt.gcf()\n",
    "fig.set_size_inches((6,5))\n",
    "\n",
    "plt.savefig(\"output/ch07_samples3.png\",dpi = 300, bbox_inches = 'tight')"
   ]
  },
  {
   "cell_type": "code",
   "execution_count": 18,
   "metadata": {},
   "outputs": [],
   "source": [
    "clf = cluster.KMeans(n_clusters = K, random_state = 0) \n",
    "    #initialize the k-means clustering\n",
    "clf.fit(X) #run the k-means clustering\n",
    "\n",
    "data = np.c_[XX.ravel(),YY.ravel()] \n",
    "Z = clf.predict(data) # returns the clustering labels of the data"
   ]
  },
  {
   "cell_type": "code",
   "execution_count": 19,
   "metadata": {},
   "outputs": [
    {
     "data": {
      "image/png": "[encoded data removed]",
      "text/plain": [
       "<Figure size 432x360 with 1 Axes>"
      ]
     },
     "metadata": {
      "needs_background": "light"
     },
     "output_type": "display_data"
    }
   ],
   "source": [
    "# visualizing true labels by colored points and space\n",
    "# tesselation\n",
    "plt.title('Final result of K-means', size=14)\n",
    "\n",
    "plt.scatter(X[(y==1).ravel(),0],X[(y==1).ravel(),1],color='r')\n",
    "plt.scatter(X[(y==2).ravel(),0],X[(y==2).ravel(),1],color='b')\n",
    "plt.scatter(X[(y==3).ravel(),0],X[(y==3).ravel(),1],color='g')\n",
    "\n",
    "plt.imshow(Z.reshape(sz), interpolation='bilinear', origin='lower', \n",
    "           extent=(-5,15,-5,15),alpha=0.3, vmin=0, vmax=K-1)\n",
    "\n",
    "x = np.linspace(-5,15,200)\n",
    "XX,YY = np.meshgrid(x,x)\n",
    "fig = plt.gcf()\n",
    "fig.set_size_inches((6,5))"
   ]
  },
  {
   "cell_type": "code",
   "execution_count": 20,
   "metadata": {},
   "outputs": [
    {
     "data": {
      "image/png": "[encoded data removed]",
      "text/plain": [
       "<Figure size 864x216 with 3 Axes>"
      ]
     },
     "metadata": {
      "needs_background": "light"
     },
     "output_type": "display_data"
    }
   ],
   "source": [
    "clf = cluster.KMeans(init='random', n_clusters=K, random_state=0) \n",
    "    #initialize the k-means clustering\n",
    "clf.fit(X) #run the k-means clustering\n",
    "Zx=clf.predict(X)\n",
    "\n",
    "plt.subplot(1,3,1)\n",
    "plt.title('Original labels', size=14)\n",
    "plt.scatter(X[(y==1).ravel(),0],X[(y==1).ravel(),1],color='r')\n",
    "plt.scatter(X[(y==2).ravel(),0],X[(y==2).ravel(),1],color='b') # b\n",
    "plt.scatter(X[(y==3).ravel(),0],X[(y==3).ravel(),1],color='g')  # g\n",
    "fig = plt.gcf()\n",
    "fig.set_size_inches((12,3))\n",
    "\n",
    "plt.subplot(1,3,2)\n",
    "plt.title('Data without labels', size=14)\n",
    "plt.scatter(X[(y==1).ravel(),0],X[(y==1).ravel(),1],color='r')\n",
    "plt.scatter(X[(y==2).ravel(),0],X[(y==2).ravel(),1],color='r') # b\n",
    "plt.scatter(X[(y==3).ravel(),0],X[(y==3).ravel(),1],color='r')  # g\n",
    "fig = plt.gcf()\n",
    "fig.set_size_inches((12,3))\n",
    "\n",
    "plt.subplot(1,3,3)\n",
    "plt.title('Clustering labels', size=14)\n",
    "plt.scatter(X[(Zx==1).ravel(),0],X[(Zx==1).ravel(),1],color='r')\n",
    "plt.scatter(X[(Zx==2).ravel(),0],X[(Zx==2).ravel(),1],color='b')\n",
    "plt.scatter(X[(Zx==0).ravel(),0],X[(Zx==0).ravel(),1],color='g')\n",
    "fig = plt.gcf()\n",
    "fig.set_size_inches((12,3))"
   ]
  },
  {
   "cell_type": "markdown",
   "metadata": {},
   "source": [
    "\n",
    "\n",
    "The K-means algorithm clusters data by trying to separate samples in $n$ groups of equal variance. In other words, the K-means algorithm divides a set of N samples X into K disjoint clusters C, each described by the mean of the samples in the cluster. The means are commonly called the cluster “centroids”."
   ]
  },
  {
   "cell_type": "markdown",
   "metadata": {},
   "source": [
    "Shall the centroids belong to the original set of points?"
   ]
  },
  {
   "cell_type": "markdown",
   "metadata": {},
   "source": [
    "The K.means algorithm aims to choose centroids minimizing a criterion knows as the\n",
    "__intertia__.\n",
    "Inertia, or the within-cluster sum of squares criterion, can be recognized as a measure of how internally coherent clusters are.\n",
    "Several issues should be taken into account:\n",
    "* Inertia makes the __assumption__ that clusters are __convex and isotropic__, (since the\n",
    "    Euclidean distance is aplpied, which is isotropic with regard to the different dimensions\n",
    "    of the data), which\n",
    "    is not always the case. It responds poorly to elongated clusters, or manifolds\n",
    "    with irregular shapes.\n",
    "* Can the algorithm assure __converging__ to the global minimum? - Given enough time,\n",
    "    K-means will always converge.\n",
    "* This algorithm requires the __number of clusters to be specified__.\n",
    "* It scaled well to alrge number of samples and has been sued across a large range of\n",
    "    application areas in many different fields."
   ]
  },
  {
   "cell_type": "markdown",
   "metadata": {},
   "source": [
    "The computation is often done several times, with different initializations of the centroids. One method to help address this issue is the k-means++ initialization scheme, which has been implemented in scikit-learn (use the init='kmeans++' parameter). This initializes the centroids to be (generally) distant from each other, leading to provably better results than random initialization."
   ]
  },
  {
   "cell_type": "code",
   "execution_count": 27,
   "metadata": {},
   "outputs": [
    {
     "name": "stdout",
     "output_type": "stream",
     "text": [
      "final evlauation of the clustering: \n",
      "inertia: 381.74\n",
      "adjusted_rand_score: 0.90\n",
      "homogeinity: 0.90\n",
      "completeness: 0.90\n",
      "v_measure: 0.90\n",
      "silhouette: 0.54\n"
     ]
    }
   ],
   "source": [
    "from sklearn import metrics\n",
    "\n",
    "clf = cluster.KMeans(\n",
    "    n_clusters = K, init = 'k-means++', random_state = 0,\n",
    "    max_iter = 300, n_init = 10\n",
    ")\n",
    "\n",
    "clf.fit(X)\n",
    "\n",
    "print('final evlauation of the clustering: ')\n",
    "print(f'inertia: {clf.inertia_:.2f}')\n",
    "print(f'adjusted_rand_score: {metrics.adjusted_rand_score(y.ravel(), clf.labels_):.2f}')\n",
    "print(f'homogeinity: {metrics.homogeneity_score(y.ravel(), clf.labels_):.2f}')\n",
    "print(f'completeness: {metrics.completeness_score(y.ravel(), clf.labels_):.2f}')\n",
    "print(f'v_measure: {metrics.v_measure_score(y.ravel(), clf.labels_):.2F}')\n",
    "print(f'silhouette: {metrics.silhouette_score(X, clf.labels_, metric = \"euclidean\"):.2f}')"
   ]
  },
  {
   "cell_type": "code",
   "execution_count": 28,
   "metadata": {},
   "outputs": [
    {
     "name": "stdout",
     "output_type": "stream",
     "text": [
      "final evlauation of the clustering: \n",
      "inertia: 382.55\n",
      "adjusted_rand_score: 0.90\n",
      "homogeinity: 0.90\n",
      "completeness: 0.90\n",
      "v_measure: 0.90\n",
      "silhouette: 0.54\n"
     ]
    }
   ],
   "source": [
    "from sklearn import metrics\n",
    "\n",
    "clf = cluster.KMeans(\n",
    "    n_clusters = K, init = 'random', random_state = 0,\n",
    "    max_iter = 2, n_init = 2\n",
    ")\n",
    "\n",
    "clf.fit(X)\n",
    "\n",
    "print('final evlauation of the clustering: ')\n",
    "print(f'inertia: {clf.inertia_:.2f}')\n",
    "print(f'adjusted_rand_score: {metrics.adjusted_rand_score(y.ravel(), clf.labels_):.2f}')\n",
    "print(f'homogeinity: {metrics.homogeneity_score(y.ravel(), clf.labels_):.2f}')\n",
    "print(f'completeness: {metrics.completeness_score(y.ravel(), clf.labels_):.2f}')\n",
    "print(f'v_measure: {metrics.v_measure_score(y.ravel(), clf.labels_):.2F}')\n",
    "print(f'silhouette: {metrics.silhouette_score(X, clf.labels_, metric = \"euclidean\"):.2f}')"
   ]
  },
  {
   "cell_type": "markdown",
   "metadata": {},
   "source": [
    "## __Spectral Clustering__"
   ]
  },
  {
   "cell_type": "code",
   "execution_count": null,
   "metadata": {},
   "outputs": [],
   "source": []
  }
 ],
 "metadata": {
  "kernelspec": {
   "display_name": "Python 3.7.4 64-bit ('lab': virtualenv)",
   "language": "python",
   "name": "python37464bitlabvirtualenved77d976613b4753a84284c005b6ce98"
  },
  "language_info": {
   "codemirror_mode": {
    "name": "ipython",
    "version": 3
   },
   "file_extension": ".py",
   "mimetype": "text/x-python",
   "name": "python",
   "nbconvert_exporter": "python",
   "pygments_lexer": "ipython3",
   "version": "3.7.4"
  }
 },
 "nbformat": 4,
 "nbformat_minor": 4
}
