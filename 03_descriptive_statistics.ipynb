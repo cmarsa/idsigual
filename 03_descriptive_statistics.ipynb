{
 "cells": [
  {
   "cell_type": "markdown",
   "metadata": {},
   "source": [
    "# 03 __Descriptive Statistics__"
   ]
  },
  {
   "cell_type": "markdown",
   "metadata": {},
   "source": [
    "Descriptive statistics helps to simplify large amounts of data\n",
    "in a sensible way. In constrast to _inferential statistics_, in descriptive\n",
    "statistics we do not draw conclusions beyond the data we are analyzing;\n",
    "neither do we reach anu conclusions regarding hypotheses we may make.\n",
    "We do not try to infer characteristics of the \"population\" of the data,\n",
    "but claim to present quantitative descriptios of it in a manageble form.\n",
    "It is simply a way to describe the data.\n",
    "\n",
    "Statistics, and particulatly descriptive statistics, is based on two main\n",
    "concepts:\n",
    " + a __population__ is a collection of objects, items ('units') about which\n",
    "   information is sought;\n",
    " + a __sample__ is a part of the population that is observed.\n"
   ]
  },
  {
   "cell_type": "markdown",
   "metadata": {},
   "source": [
    "Descriptive statustics applies the concepts, measures and temrs that are used\n",
    "to describe the basic features of the samples in a study.\n",
    "\n",
    "In order to describe the sampled ata and to be able to infer any conclusion, we\n",
    "should go through several steps:\n",
    "\n",
    "1. __Data preparation__: given a specific example, we need to prepare the\n",
    "   data for generating statistically valid descriptions.\n",
    "2. __Descriptive statistics__: this generates different statsitics to describe and\n",
    "   summarize the data concisely and evaluate different ways to visualize them.\n",
    "\n"
   ]
  },
  {
   "cell_type": "markdown",
   "metadata": {},
   "source": [
    "### Adult Example\n",
    "Let us consider a public database called the “Adult” dataset, hosted on the UCI’s\n",
    "Machine Learning Repository"
   ]
  },
  {
   "cell_type": "code",
   "execution_count": 27,
   "metadata": {},
   "outputs": [],
   "source": [
    "# first read the data\n",
    "\n",
    "def char_to_int(a):\n",
    "    if a.isdigit():\n",
    "        return int(a)\n",
    "    else:\n",
    "        return 0\n",
    "    \n",
    "data = []\n",
    "with open('input/adult/adult.data', 'r') as file:\n",
    "    for line in file:\n",
    "        if '\\n' in line:\n",
    "            line = line.replace('\\n', '')\n",
    "        record = line.split(', ')\n",
    "        if len(record) == 15:\n",
    "            data.append(\n",
    "                [\n",
    "                    char_to_int(record[0]), record[1],\n",
    "                    char_to_int(record[2]), record[3],\n",
    "                    char_to_int(record[4]), record[5],\n",
    "                    record[6], record[7], record[8],\n",
    "                    record[9], char_to_int(record[10]),\n",
    "                    char_to_int(record[11]),\n",
    "                    char_to_int(record[12]),\n",
    "                    record[13], record[14]\n",
    "                ]\n",
    "            )\n",
    "        "
   ]
  },
  {
   "cell_type": "code",
   "execution_count": 28,
   "metadata": {},
   "outputs": [
    {
     "name": "stdout",
     "output_type": "stream",
     "text": [
      "[[50, 'Self-emp-not-inc', 83311, 'Bachelors', 13, 'Married-civ-spouse', 'Exec-managerial', 'Husband', 'White', 'Male', 0, 0, 13, 'United-States', '<=50K']]\n"
     ]
    }
   ],
   "source": [
    "print(data[1:2])"
   ]
  },
  {
   "cell_type": "code",
   "execution_count": 29,
   "metadata": {},
   "outputs": [],
   "source": [
    "# use a pandas dataframe\n",
    "import pandas as pd\n",
    "df = pd.DataFrame(data)\n",
    "df.columns = [\n",
    "    'age', 'type_employer', 'fnlwgt',\n",
    "    'education', 'education_num', 'marital',\n",
    "    'occupation', 'relationship', 'race',\n",
    "    'sex', 'capital_gain', 'capital_loss',\n",
    "    'hr_per_week', 'country', 'income'\n",
    "]"
   ]
  },
  {
   "cell_type": "code",
   "execution_count": 30,
   "metadata": {},
   "outputs": [
    {
     "data": {
      "text/plain": [
       "(32561, 15)"
      ]
     },
     "execution_count": 30,
     "metadata": {},
     "output_type": "execute_result"
    }
   ],
   "source": [
    "# get shape of dataframe\n",
    "df.shape"
   ]
  },
  {
   "cell_type": "code",
   "execution_count": 31,
   "metadata": {},
   "outputs": [
    {
     "name": "stdout",
     "output_type": "stream",
     "text": [
      "country\n",
      "?           583\n",
      "Cambodia     19\n",
      "Canada      121\n",
      "China        75\n",
      "Columbia     59\n",
      "dtype: int64\n"
     ]
    }
   ],
   "source": [
    "# count items per country\n",
    "counts = df.groupby('country').size()\n",
    "print(counts.head())"
   ]
  },
  {
   "cell_type": "code",
   "execution_count": 32,
   "metadata": {},
   "outputs": [],
   "source": [
    "# let us split people according to their gender\n",
    "# into two grroups\n",
    "male = df[df['sex'].str.lower() == 'male']\n",
    "female = df[df['sex'].str.lower() == 'female']"
   ]
  },
  {
   "cell_type": "code",
   "execution_count": 34,
   "metadata": {},
   "outputs": [],
   "source": [
    "# high income professionals separatef by sex\n",
    "high_income_male = df[\n",
    "    (df['sex'].str.lower() == 'male') &\n",
    "    (df['income'] == '>50K')\n",
    "]\n",
    "\n",
    "high_income_female = df[\n",
    "    (df['sex'].str.lower() == 'female') &\n",
    "    (df['income'] == '>50K')\n",
    "]"
   ]
  },
  {
   "cell_type": "markdown",
   "metadata": {},
   "source": [
    "## __Exploratory Data Analysis__ (EDA)"
   ]
  },
  {
   "cell_type": "markdown",
   "metadata": {},
   "source": [
    "One of the main goals of EDA is to visualize and summarize the sample distribution, thereby\n",
    "allowing us to make tentative assumptions about the population distribution."
   ]
  },
  {
   "cell_type": "code",
   "execution_count": 39,
   "metadata": {},
   "outputs": [
    {
     "name": "stdout",
     "output_type": "stream",
     "text": [
      "the rate of people with high income is:  24 %\n",
      "the rate of males with high income is:  20 %\n",
      "the rate of females with high income is:  3 %\n"
     ]
    }
   ],
   "source": [
    "high_income = df[df['income'] == '>50K']\n",
    "\n",
    "print('the rate of people with high income is: ', int(len(high_income) / float(len(df)) * 100), '%')\n",
    "print('the rate of males with high income is: ', int(len(high_income_male) / float(len(df)) * 100), '%')\n",
    "print('the rate of females with high income is: ', int(len(high_income_female) / float(len(df)) * 100), '%')"
   ]
  },
  {
   "cell_type": "markdown",
   "metadata": {},
   "source": [
    "Out observed data represent just a finite set of samples of an often infinite number of possible\n",
    "ssamples. The characteristics of out randomly observed samples are interesting only\n",
    "to the degree that they represent the ppùlation of the data they came from."
   ]
  },
  {
   "cell_type": "markdown",
   "metadata": {},
   "source": [
    "### __Mean__\n",
    "One of the first measurement we sue to have a look at the data is to obtain\n",
    "_sample statistics_ from the data, such as the sample mean.\n",
    "Given a sample of _n_ values, $\\{x_i\\}, i = 1, 2, ..., n$, the _mean_, $\\mu$ is the sum\n",
    "of the values divided by the number of values:\n",
    "\n",
    "$$ \\mu = \\frac{1}{n} \\sum_{i = 1}^{n} x_i$$"
   ]
  },
  {
   "cell_type": "markdown",
   "metadata": {},
   "source": [
    "The terms _mean_ and _average_ are often used interchangeably. I fact the main distinction\n",
    "between them is that the mean of a sample is the summary statistic compputed by the equation above,\n",
    "while an average is not strictly defined and could be one of many summary statistics that can be\n",
    "chosen to describe the central tendency of a sample."
   ]
  },
  {
   "cell_type": "code",
   "execution_count": 47,
   "metadata": {},
   "outputs": [
    {
     "name": "stdout",
     "output_type": "stream",
     "text": [
      "Average age of female: 39.434\n",
      "Average age of male: 39.434\n",
      "Average age of high-income male: 44.626\n",
      "Average age of high-income female: 42.126\n"
     ]
    }
   ],
   "source": [
    "# the averages of out dataset\n",
    "print(f'Average age of female: {male[\"age\"].mean():.3f}')\n",
    "print(f'Average age of male: {male[\"age\"].mean():.3f}')\n",
    "print(f'Average age of high-income male: {high_income_male[\"age\"].mean():.3f}')\n",
    "print(f'Average age of high-income female: {high_income_female[\"age\"].mean():.3f}')"
   ]
  },
  {
   "cell_type": "markdown",
   "metadata": {},
   "source": [
    "This difference in the sample means can be considered initial evidence that there\n",
    "are differences between men and women with high income!\n",
    "\n",
    "__Comment__: Later, we will work with both concepts: the population mean and the\n",
    "sample mean. We should not confuse them! The first is the mean of samples taken\n",
    "from the population; the second, the mean of the whole population."
   ]
  },
  {
   "cell_type": "markdown",
   "metadata": {},
   "source": [
    "### __Variance__\n",
    "The mean is not usually a sufficient descriptor of the data. We can go further by\n",
    "knowing two numbers: mean and variance. The variance σ 2 describes the spread of\n",
    "the data and it is defined as follows:"
   ]
  },
  {
   "cell_type": "markdown",
   "metadata": {},
   "source": [
    "$$ \\sigma^2 = \\frac{1}{n} \\sum_{i}(x_i - \\mu)^2 $$"
   ]
  },
  {
   "cell_type": "markdown",
   "metadata": {},
   "source": [
    "The term (x i − μ) is called the __deviation from the mean__, so the variance is the mean\n",
    "squared deviation. The square root of the variance, σ, is called the standard deviation.\n",
    "We consider the standard deviation, because the variance is hard to interpret (e.g., if\n",
    "the units are grams, the variance is in grams squared)."
   ]
  },
  {
   "cell_type": "code",
   "execution_count": 49,
   "metadata": {},
   "outputs": [
    {
     "name": "stdout",
     "output_type": "stream",
     "text": [
      "age variance of female: 178.774\n",
      "age variance of male: 178.774\n",
      "age variance of high-income male: 109.945\n",
      "age variance of high-income female: 109.414\n"
     ]
    }
   ],
   "source": [
    "print(f'age variance of female: {male[\"age\"].var():.3f}')\n",
    "print(f'age variance of male: {male[\"age\"].var():.3f}')\n",
    "print(f'age variance of high-income male: {high_income_male[\"age\"].var():.3f}')\n",
    "print(f'age variance of high-income female: {high_income_female[\"age\"].var():.3f}')"
   ]
  },
  {
   "cell_type": "markdown",
   "metadata": {},
   "source": [
    "### __Sample Median__\n",
    "The mean of the samples is a good descriptor, but it has an important drawback: what\n",
    "will happen if in the sample set there is an error with a value very different from the\n",
    "rest? For example, considering hours worked per week, it would normally be in a\n",
    "range between 20 and 80; but what would happen if by mistake there was a value\n",
    "of 1000? An item of data that is significantly different from the rest of the data is\n",
    "called an outlier. In this case, the mean, μ, will be drastically changed towards the\n",
    "outlier. One solution to this drawback is offered by the statistical median, μ 12 , which\n",
    "is an order statistic giving the middle value of a sample. In this case, all the values\n",
    "are ordered by their magnitude and the median is defined as the value that is in the\n",
    "middle of the ordered list. Hence, it is a value that is much more robust in the face\n",
    "of outliers."
   ]
  },
  {
   "cell_type": "code",
   "execution_count": 52,
   "metadata": {},
   "outputs": [
    {
     "name": "stdout",
     "output_type": "stream",
     "text": [
      "male age median:  38.0\n",
      "female age median:  35.0\n"
     ]
    }
   ],
   "source": [
    "# median age of working men and women\n",
    "male_median = male['age'].median()\n",
    "female_median = female['age'].median()\n",
    "print('male age median: ', male_median)\n",
    "print('female age median: ', female_median)"
   ]
  },
  {
   "cell_type": "markdown",
   "metadata": {},
   "source": [
    "### __Quantiles and Percentiles__\n",
    "Sometimes we are interested in observing how sample data are distributed in general.\n",
    "In this case, we can order the samples $\\{x_i\\}$, then find the $x_p$ so that it divides the data\n",
    "into two parts, where:\n",
    " + a fraction _p_ of the data values is less than or equal to $x_p$ and\n",
    " + the remaining feaction $(1 - p)$ is greater than $x_p$"
   ]
  },
  {
   "cell_type": "markdown",
   "metadata": {},
   "source": [
    "The value $x_p$ is the _p-th_ quantile, or the 100 * _p-th_ percentile."
   ]
  },
  {
   "cell_type": "markdown",
   "metadata": {},
   "source": [
    "### __Data Distributions__"
   ]
  },
  {
   "cell_type": "markdown",
   "metadata": {},
   "source": [
    "Summarizing data by just looking at their mean, median, and variance can be danger-\n",
    "ous: very different data can be described by the same statistics. The best thing to do\n",
    "is to validate the data by inspecting them. We can have a look at the data distribution,\n",
    "which describes how often each value appears (i.e., what is its frequency).\n",
    "\n",
    "The most common representation of a distribution is a histogram, which is a graph\n",
    "that shows the frequency of each value. Let us show the age of working men and\n",
    "women separately."
   ]
  },
  {
   "cell_type": "code",
   "execution_count": 58,
   "metadata": {},
   "outputs": [],
   "source": [
    "import matplotlib.pyplot as plt"
   ]
  },
  {
   "cell_type": "code",
   "execution_count": 59,
   "metadata": {},
   "outputs": [
    {
     "data": {
      "image/png": "[encoded data removed]",
      "text/plain": [
       "<Figure size 432x288 with 1 Axes>"
      ]
     },
     "metadata": {
      "needs_background": "light"
     },
     "output_type": "display_data"
    }
   ],
   "source": [
    "male_age = male['age'].copy()\n",
    "male_age.hist(histtype = 'stepfilled', bins = 20)\n",
    "plt.show()"
   ]
  },
  {
   "cell_type": "code",
   "execution_count": 60,
   "metadata": {},
   "outputs": [
    {
     "data": {
      "image/png": "[encoded data removed]",
      "text/plain": [
       "<Figure size 432x288 with 1 Axes>"
      ]
     },
     "metadata": {
      "needs_background": "light"
     },
     "output_type": "display_data"
    }
   ],
   "source": [
    "female_age = female['age'].copy()\n",
    "female_age.hist(histtype = 'stepfilled', bins = 20)\n",
    "plt.show()"
   ]
  },
  {
   "cell_type": "code",
   "execution_count": 65,
   "metadata": {},
   "outputs": [
    {
     "data": {
      "image/png": "[encoded data removed]",
      "text/plain": [
       "<Figure size 432x288 with 1 Axes>"
      ]
     },
     "metadata": {
      "needs_background": "light"
     },
     "output_type": "display_data"
    }
   ],
   "source": [
    "# overlap the histograms\n",
    "import seaborn as sns\n",
    "female_age.hist(histtype = 'stepfilled', alpha = 0.5, bins = 20)\n",
    "male_age.hist(histtype = 'stepfilled', alpha = 0.5, color = sns.desaturate('indianred', 0.75),\n",
    "              bins = 20)\n",
    "plt.show()"
   ]
  },
  {
   "cell_type": "code",
   "execution_count": 74,
   "metadata": {},
   "outputs": [
    {
     "data": {
      "text/plain": [
       "4        28\n",
       "5        37\n",
       "6        49\n",
       "8        31\n",
       "12       23\n",
       "         ..\n",
       "32546    37\n",
       "32549    43\n",
       "32556    27\n",
       "32558    58\n",
       "32560    52\n",
       "Name: age, Length: 10771, dtype: int64"
      ]
     },
     "execution_count": 74,
     "metadata": {},
     "output_type": "execute_result"
    }
   ],
   "source": [
    "female_age"
   ]
  },
  {
   "cell_type": "code",
   "execution_count": 75,
   "metadata": {},
   "outputs": [
    {
     "data": {
      "text/plain": [
       "4        0.150685\n",
       "5        0.273973\n",
       "6        0.438356\n",
       "8        0.191781\n",
       "12       0.082192\n",
       "           ...   \n",
       "32546    0.273973\n",
       "32549    0.356164\n",
       "32556    0.136986\n",
       "32558    0.561644\n",
       "32560    0.479452\n",
       "Name: age, Length: 10771, dtype: float64"
      ]
     },
     "execution_count": 75,
     "metadata": {},
     "output_type": "execute_result"
    }
   ],
   "source": [
    "female_age_normed"
   ]
  },
  {
   "cell_type": "code",
   "execution_count": 80,
   "metadata": {},
   "outputs": [
    {
     "data": {
      "image/png": "[encoded data removed]",
      "text/plain": [
       "<Figure size 432x288 with 1 Axes>"
      ]
     },
     "metadata": {
      "needs_background": "light"
     },
     "output_type": "display_data"
    }
   ],
   "source": [
    "# we can normalize the frequencies of the histogram bu\n",
    "# dividing/normalizing by n,  the number of samples.\n",
    "# the normalized histogram is called Probability Mass Function (PMF)\n",
    "female_age.hist(\n",
    "    histtype = 'stepfilled', alpha = 0.5, bins = 20, density = True\n",
    ")\n",
    "male_age.hist(\n",
    "    histtype = 'stepfilled', alpha = 0.5, color = sns.desaturate('indianred', 0.75),\n",
    "    bins = 20, density = True\n",
    ")\n",
    "plt.show()"
   ]
  },
  {
   "cell_type": "code",
   "execution_count": 89,
   "metadata": {},
   "outputs": [
    {
     "data": {
      "image/png": "[encoded data removed]",
      "text/plain": [
       "<Figure size 432x288 with 1 Axes>"
      ]
     },
     "metadata": {
      "needs_background": "light"
     },
     "output_type": "display_data"
    }
   ],
   "source": [
    "# the Cumulative Distribution Fcuntion (CDF) or just distribution function,\n",
    "# describes the probability that a real-valued random variable X with a \n",
    "# given probability distrubution will be found to have a value\n",
    "# less than or equal to x. Let us show the CDF of age distribution for both men and women\n",
    "female_age.hist(\n",
    "    histtype = 'step', alpha = 0.5, bins = 20, cumulative = True,\n",
    "    linewidth = 3.5, density = True,\n",
    ")\n",
    "male_age.hist(\n",
    "    histtype = 'step', alpha = 0.5, color = sns.desaturate('indianred', 0.75),\n",
    "    bins = 20, cumulative = True, density = True,\n",
    "    linewidth = 3.5\n",
    ")\n",
    "plt.show()"
   ]
  },
  {
   "cell_type": "markdown",
   "metadata": {},
   "source": [
    "### __Outlier Treatment__\n",
    "As mentioned before, outliers are data samples with a value\n",
    "that is far from the central tendency. Different rules can be defined to detet outliers,\n",
    "as follows:\n",
    " + computing samples that are far from the median\n",
    " + computing samples whose values exceed the mean by 2 or 3 standard deviations\n"
   ]
  },
  {
   "cell_type": "markdown",
   "metadata": {},
   "source": [
    "For example, in our case, we are interested in the age statistics of men versus\n",
    "women with high incomes and we can see that in our dataset, the minimum age is 17\n",
    "years and the maximum is 90 years. We can consider that some of these samples are\n",
    "due to errors or are not representable. Applying the domain knowledge, we focus on\n",
    "the median age (37, in our case) up to 72 and down to 22 years old, and we consider\n",
    "the rest as outliers."
   ]
  },
  {
   "cell_type": "code",
   "execution_count": 114,
   "metadata": {},
   "outputs": [],
   "source": [
    "df2 = df[\n",
    "    (df['income'] == '>50K') &\n",
    "    (df['age'] < df['age'].median() + 35) &\n",
    "    (df['age'] > df['age'].median() - 15)\n",
    "]"
   ]
  },
  {
   "cell_type": "code",
   "execution_count": 110,
   "metadata": {},
   "outputs": [
    {
     "data": {
      "image/png": "[encoded data removed]",
      "text/plain": [
       "<Figure size 964.8x360 with 1 Axes>"
      ]
     },
     "metadata": {
      "needs_background": "light"
     },
     "output_type": "display_data"
    }
   ],
   "source": [
    "# let us visualzie how many outliers are removed\n",
    "# from the whole data\n",
    "plt.figure(figsize = (13.4, 5))\n",
    "df['age'][\n",
    "    df['income'] == '>50K'\n",
    "].plot(alpha = 0.25, color = 'blue')\n",
    "\n",
    "df2['age'][\n",
    "    df2['income'] == '>50K'\n",
    "].plot(alpha = 0.45, color = 'red')\n",
    "\n",
    "plt.show()"
   ]
  },
  {
   "cell_type": "code",
   "execution_count": 111,
   "metadata": {},
   "outputs": [],
   "source": [
    "# the red sows the cleaned data without the considere outliers\n",
    "# lets see summaries of the new and old dfs"
   ]
  },
  {
   "cell_type": "code",
   "execution_count": 112,
   "metadata": {},
   "outputs": [
    {
     "data": {
      "text/html": [
       "<div>\n",
       "<style scoped>\n",
       "    .dataframe tbody tr th:only-of-type {\n",
       "        vertical-align: middle;\n",
       "    }\n",
       "\n",
       "    .dataframe tbody tr th {\n",
       "        vertical-align: top;\n",
       "    }\n",
       "\n",
       "    .dataframe thead th {\n",
       "        text-align: right;\n",
       "    }\n",
       "</style>\n",
       "<table border=\"1\" class=\"dataframe\">\n",
       "  <thead>\n",
       "    <tr style=\"text-align: right;\">\n",
       "      <th></th>\n",
       "      <th>age</th>\n",
       "      <th>fnlwgt</th>\n",
       "      <th>education_num</th>\n",
       "      <th>capital_gain</th>\n",
       "      <th>capital_loss</th>\n",
       "      <th>hr_per_week</th>\n",
       "    </tr>\n",
       "  </thead>\n",
       "  <tbody>\n",
       "    <tr>\n",
       "      <th>count</th>\n",
       "      <td>32561.000000</td>\n",
       "      <td>3.256100e+04</td>\n",
       "      <td>32561.000000</td>\n",
       "      <td>32561.000000</td>\n",
       "      <td>32561.000000</td>\n",
       "      <td>32561.000000</td>\n",
       "    </tr>\n",
       "    <tr>\n",
       "      <th>mean</th>\n",
       "      <td>38.581647</td>\n",
       "      <td>1.897784e+05</td>\n",
       "      <td>10.080679</td>\n",
       "      <td>1077.648844</td>\n",
       "      <td>87.303830</td>\n",
       "      <td>40.437456</td>\n",
       "    </tr>\n",
       "    <tr>\n",
       "      <th>std</th>\n",
       "      <td>13.640433</td>\n",
       "      <td>1.055500e+05</td>\n",
       "      <td>2.572720</td>\n",
       "      <td>7385.292085</td>\n",
       "      <td>402.960219</td>\n",
       "      <td>12.347429</td>\n",
       "    </tr>\n",
       "    <tr>\n",
       "      <th>min</th>\n",
       "      <td>17.000000</td>\n",
       "      <td>1.228500e+04</td>\n",
       "      <td>1.000000</td>\n",
       "      <td>0.000000</td>\n",
       "      <td>0.000000</td>\n",
       "      <td>1.000000</td>\n",
       "    </tr>\n",
       "    <tr>\n",
       "      <th>25%</th>\n",
       "      <td>28.000000</td>\n",
       "      <td>1.178270e+05</td>\n",
       "      <td>9.000000</td>\n",
       "      <td>0.000000</td>\n",
       "      <td>0.000000</td>\n",
       "      <td>40.000000</td>\n",
       "    </tr>\n",
       "    <tr>\n",
       "      <th>50%</th>\n",
       "      <td>37.000000</td>\n",
       "      <td>1.783560e+05</td>\n",
       "      <td>10.000000</td>\n",
       "      <td>0.000000</td>\n",
       "      <td>0.000000</td>\n",
       "      <td>40.000000</td>\n",
       "    </tr>\n",
       "    <tr>\n",
       "      <th>75%</th>\n",
       "      <td>48.000000</td>\n",
       "      <td>2.370510e+05</td>\n",
       "      <td>12.000000</td>\n",
       "      <td>0.000000</td>\n",
       "      <td>0.000000</td>\n",
       "      <td>45.000000</td>\n",
       "    </tr>\n",
       "    <tr>\n",
       "      <th>max</th>\n",
       "      <td>90.000000</td>\n",
       "      <td>1.484705e+06</td>\n",
       "      <td>16.000000</td>\n",
       "      <td>99999.000000</td>\n",
       "      <td>4356.000000</td>\n",
       "      <td>99.000000</td>\n",
       "    </tr>\n",
       "  </tbody>\n",
       "</table>\n",
       "</div>"
      ],
      "text/plain": [
       "                age        fnlwgt  education_num  capital_gain  capital_loss  \\\n",
       "count  32561.000000  3.256100e+04   32561.000000  32561.000000  32561.000000   \n",
       "mean      38.581647  1.897784e+05      10.080679   1077.648844     87.303830   \n",
       "std       13.640433  1.055500e+05       2.572720   7385.292085    402.960219   \n",
       "min       17.000000  1.228500e+04       1.000000      0.000000      0.000000   \n",
       "25%       28.000000  1.178270e+05       9.000000      0.000000      0.000000   \n",
       "50%       37.000000  1.783560e+05      10.000000      0.000000      0.000000   \n",
       "75%       48.000000  2.370510e+05      12.000000      0.000000      0.000000   \n",
       "max       90.000000  1.484705e+06      16.000000  99999.000000   4356.000000   \n",
       "\n",
       "        hr_per_week  \n",
       "count  32561.000000  \n",
       "mean      40.437456  \n",
       "std       12.347429  \n",
       "min        1.000000  \n",
       "25%       40.000000  \n",
       "50%       40.000000  \n",
       "75%       45.000000  \n",
       "max       99.000000  "
      ]
     },
     "execution_count": 112,
     "metadata": {},
     "output_type": "execute_result"
    }
   ],
   "source": [
    "df.describe()"
   ]
  },
  {
   "cell_type": "code",
   "execution_count": 113,
   "metadata": {},
   "outputs": [
    {
     "data": {
      "text/html": [
       "<div>\n",
       "<style scoped>\n",
       "    .dataframe tbody tr th:only-of-type {\n",
       "        vertical-align: middle;\n",
       "    }\n",
       "\n",
       "    .dataframe tbody tr th {\n",
       "        vertical-align: top;\n",
       "    }\n",
       "\n",
       "    .dataframe thead th {\n",
       "        text-align: right;\n",
       "    }\n",
       "</style>\n",
       "<table border=\"1\" class=\"dataframe\">\n",
       "  <thead>\n",
       "    <tr style=\"text-align: right;\">\n",
       "      <th></th>\n",
       "      <th>age</th>\n",
       "      <th>fnlwgt</th>\n",
       "      <th>education_num</th>\n",
       "      <th>capital_gain</th>\n",
       "      <th>capital_loss</th>\n",
       "      <th>hr_per_week</th>\n",
       "    </tr>\n",
       "  </thead>\n",
       "  <tbody>\n",
       "    <tr>\n",
       "      <th>count</th>\n",
       "      <td>7745.000000</td>\n",
       "      <td>7.745000e+03</td>\n",
       "      <td>7745.000000</td>\n",
       "      <td>7745.000000</td>\n",
       "      <td>7745.000000</td>\n",
       "      <td>7745.000000</td>\n",
       "    </tr>\n",
       "    <tr>\n",
       "      <th>mean</th>\n",
       "      <td>43.969787</td>\n",
       "      <td>1.881984e+05</td>\n",
       "      <td>11.615107</td>\n",
       "      <td>3927.157392</td>\n",
       "      <td>193.659135</td>\n",
       "      <td>45.589025</td>\n",
       "    </tr>\n",
       "    <tr>\n",
       "      <th>std</th>\n",
       "      <td>9.972955</td>\n",
       "      <td>1.025561e+05</td>\n",
       "      <td>2.374147</td>\n",
       "      <td>14390.995436</td>\n",
       "      <td>592.093391</td>\n",
       "      <td>10.875973</td>\n",
       "    </tr>\n",
       "    <tr>\n",
       "      <th>min</th>\n",
       "      <td>23.000000</td>\n",
       "      <td>1.487800e+04</td>\n",
       "      <td>2.000000</td>\n",
       "      <td>0.000000</td>\n",
       "      <td>0.000000</td>\n",
       "      <td>1.000000</td>\n",
       "    </tr>\n",
       "    <tr>\n",
       "      <th>25%</th>\n",
       "      <td>36.000000</td>\n",
       "      <td>1.192870e+05</td>\n",
       "      <td>10.000000</td>\n",
       "      <td>0.000000</td>\n",
       "      <td>0.000000</td>\n",
       "      <td>40.000000</td>\n",
       "    </tr>\n",
       "    <tr>\n",
       "      <th>50%</th>\n",
       "      <td>43.000000</td>\n",
       "      <td>1.761850e+05</td>\n",
       "      <td>12.000000</td>\n",
       "      <td>0.000000</td>\n",
       "      <td>0.000000</td>\n",
       "      <td>40.000000</td>\n",
       "    </tr>\n",
       "    <tr>\n",
       "      <th>75%</th>\n",
       "      <td>51.000000</td>\n",
       "      <td>2.311050e+05</td>\n",
       "      <td>13.000000</td>\n",
       "      <td>0.000000</td>\n",
       "      <td>0.000000</td>\n",
       "      <td>50.000000</td>\n",
       "    </tr>\n",
       "    <tr>\n",
       "      <th>max</th>\n",
       "      <td>71.000000</td>\n",
       "      <td>1.226583e+06</td>\n",
       "      <td>16.000000</td>\n",
       "      <td>99999.000000</td>\n",
       "      <td>3004.000000</td>\n",
       "      <td>99.000000</td>\n",
       "    </tr>\n",
       "  </tbody>\n",
       "</table>\n",
       "</div>"
      ],
      "text/plain": [
       "               age        fnlwgt  education_num  capital_gain  capital_loss  \\\n",
       "count  7745.000000  7.745000e+03    7745.000000   7745.000000   7745.000000   \n",
       "mean     43.969787  1.881984e+05      11.615107   3927.157392    193.659135   \n",
       "std       9.972955  1.025561e+05       2.374147  14390.995436    592.093391   \n",
       "min      23.000000  1.487800e+04       2.000000      0.000000      0.000000   \n",
       "25%      36.000000  1.192870e+05      10.000000      0.000000      0.000000   \n",
       "50%      43.000000  1.761850e+05      12.000000      0.000000      0.000000   \n",
       "75%      51.000000  2.311050e+05      13.000000      0.000000      0.000000   \n",
       "max      71.000000  1.226583e+06      16.000000  99999.000000   3004.000000   \n",
       "\n",
       "       hr_per_week  \n",
       "count  7745.000000  \n",
       "mean     45.589025  \n",
       "std      10.875973  \n",
       "min       1.000000  \n",
       "25%      40.000000  \n",
       "50%      40.000000  \n",
       "75%      50.000000  \n",
       "max      99.000000  "
      ]
     },
     "execution_count": 113,
     "metadata": {},
     "output_type": "execute_result"
    }
   ],
   "source": [
    "df2.describe()"
   ]
  },
  {
   "cell_type": "code",
   "execution_count": 117,
   "metadata": {},
   "outputs": [
    {
     "data": {
      "text/html": [
       "<div>\n",
       "<style scoped>\n",
       "    .dataframe tbody tr th:only-of-type {\n",
       "        vertical-align: middle;\n",
       "    }\n",
       "\n",
       "    .dataframe tbody tr th {\n",
       "        vertical-align: top;\n",
       "    }\n",
       "\n",
       "    .dataframe thead th {\n",
       "        text-align: right;\n",
       "    }\n",
       "</style>\n",
       "<table border=\"1\" class=\"dataframe\">\n",
       "  <thead>\n",
       "    <tr style=\"text-align: right;\">\n",
       "      <th></th>\n",
       "      <th>age</th>\n",
       "      <th>fnlwgt</th>\n",
       "      <th>education_num</th>\n",
       "      <th>capital_gain</th>\n",
       "      <th>capital_loss</th>\n",
       "      <th>hr_per_week</th>\n",
       "    </tr>\n",
       "  </thead>\n",
       "  <tbody>\n",
       "    <tr>\n",
       "      <th>count</th>\n",
       "      <td>6582.000000</td>\n",
       "      <td>6.582000e+03</td>\n",
       "      <td>6582.000000</td>\n",
       "      <td>6582.000000</td>\n",
       "      <td>6582.000000</td>\n",
       "      <td>6582.000000</td>\n",
       "    </tr>\n",
       "    <tr>\n",
       "      <th>mean</th>\n",
       "      <td>44.322242</td>\n",
       "      <td>1.889591e+05</td>\n",
       "      <td>11.582802</td>\n",
       "      <td>3914.093133</td>\n",
       "      <td>197.332270</td>\n",
       "      <td>46.486478</td>\n",
       "    </tr>\n",
       "    <tr>\n",
       "      <th>std</th>\n",
       "      <td>9.944471</td>\n",
       "      <td>1.030648e+05</td>\n",
       "      <td>2.397080</td>\n",
       "      <td>14516.253579</td>\n",
       "      <td>595.685281</td>\n",
       "      <td>10.567230</td>\n",
       "    </tr>\n",
       "    <tr>\n",
       "      <th>min</th>\n",
       "      <td>23.000000</td>\n",
       "      <td>1.487800e+04</td>\n",
       "      <td>2.000000</td>\n",
       "      <td>0.000000</td>\n",
       "      <td>0.000000</td>\n",
       "      <td>1.000000</td>\n",
       "    </tr>\n",
       "    <tr>\n",
       "      <th>25%</th>\n",
       "      <td>37.000000</td>\n",
       "      <td>1.200612e+05</td>\n",
       "      <td>9.000000</td>\n",
       "      <td>0.000000</td>\n",
       "      <td>0.000000</td>\n",
       "      <td>40.000000</td>\n",
       "    </tr>\n",
       "    <tr>\n",
       "      <th>50%</th>\n",
       "      <td>44.000000</td>\n",
       "      <td>1.768265e+05</td>\n",
       "      <td>12.000000</td>\n",
       "      <td>0.000000</td>\n",
       "      <td>0.000000</td>\n",
       "      <td>44.500000</td>\n",
       "    </tr>\n",
       "    <tr>\n",
       "      <th>75%</th>\n",
       "      <td>51.000000</td>\n",
       "      <td>2.335080e+05</td>\n",
       "      <td>13.000000</td>\n",
       "      <td>0.000000</td>\n",
       "      <td>0.000000</td>\n",
       "      <td>50.000000</td>\n",
       "    </tr>\n",
       "    <tr>\n",
       "      <th>max</th>\n",
       "      <td>71.000000</td>\n",
       "      <td>1.226583e+06</td>\n",
       "      <td>16.000000</td>\n",
       "      <td>99999.000000</td>\n",
       "      <td>3004.000000</td>\n",
       "      <td>99.000000</td>\n",
       "    </tr>\n",
       "  </tbody>\n",
       "</table>\n",
       "</div>"
      ],
      "text/plain": [
       "               age        fnlwgt  education_num  capital_gain  capital_loss  \\\n",
       "count  6582.000000  6.582000e+03    6582.000000   6582.000000   6582.000000   \n",
       "mean     44.322242  1.889591e+05      11.582802   3914.093133    197.332270   \n",
       "std       9.944471  1.030648e+05       2.397080  14516.253579    595.685281   \n",
       "min      23.000000  1.487800e+04       2.000000      0.000000      0.000000   \n",
       "25%      37.000000  1.200612e+05       9.000000      0.000000      0.000000   \n",
       "50%      44.000000  1.768265e+05      12.000000      0.000000      0.000000   \n",
       "75%      51.000000  2.335080e+05      13.000000      0.000000      0.000000   \n",
       "max      71.000000  1.226583e+06      16.000000  99999.000000   3004.000000   \n",
       "\n",
       "       hr_per_week  \n",
       "count  6582.000000  \n",
       "mean     46.486478  \n",
       "std      10.567230  \n",
       "min       1.000000  \n",
       "25%      40.000000  \n",
       "50%      44.500000  \n",
       "75%      50.000000  \n",
       "max      99.000000  "
      ]
     },
     "execution_count": 117,
     "metadata": {},
     "output_type": "execute_result"
    }
   ],
   "source": [
    "df2[\n",
    "    df2['sex'].str.lower() == 'male'\n",
    "].describe()"
   ]
  },
  {
   "cell_type": "code",
   "execution_count": 118,
   "metadata": {},
   "outputs": [
    {
     "data": {
      "text/html": [
       "<div>\n",
       "<style scoped>\n",
       "    .dataframe tbody tr th:only-of-type {\n",
       "        vertical-align: middle;\n",
       "    }\n",
       "\n",
       "    .dataframe tbody tr th {\n",
       "        vertical-align: top;\n",
       "    }\n",
       "\n",
       "    .dataframe thead th {\n",
       "        text-align: right;\n",
       "    }\n",
       "</style>\n",
       "<table border=\"1\" class=\"dataframe\">\n",
       "  <thead>\n",
       "    <tr style=\"text-align: right;\">\n",
       "      <th></th>\n",
       "      <th>age</th>\n",
       "      <th>fnlwgt</th>\n",
       "      <th>education_num</th>\n",
       "      <th>capital_gain</th>\n",
       "      <th>capital_loss</th>\n",
       "      <th>hr_per_week</th>\n",
       "    </tr>\n",
       "  </thead>\n",
       "  <tbody>\n",
       "    <tr>\n",
       "      <th>count</th>\n",
       "      <td>1163.000000</td>\n",
       "      <td>1163.000000</td>\n",
       "      <td>1163.000000</td>\n",
       "      <td>1163.000000</td>\n",
       "      <td>1163.000000</td>\n",
       "      <td>1163.000000</td>\n",
       "    </tr>\n",
       "    <tr>\n",
       "      <th>mean</th>\n",
       "      <td>41.975064</td>\n",
       "      <td>183893.237317</td>\n",
       "      <td>11.797936</td>\n",
       "      <td>4001.094583</td>\n",
       "      <td>172.871023</td>\n",
       "      <td>40.509888</td>\n",
       "    </tr>\n",
       "    <tr>\n",
       "      <th>std</th>\n",
       "      <td>9.903157</td>\n",
       "      <td>99561.869587</td>\n",
       "      <td>2.232123</td>\n",
       "      <td>13666.225189</td>\n",
       "      <td>571.143337</td>\n",
       "      <td>11.202741</td>\n",
       "    </tr>\n",
       "    <tr>\n",
       "      <th>min</th>\n",
       "      <td>23.000000</td>\n",
       "      <td>19700.000000</td>\n",
       "      <td>3.000000</td>\n",
       "      <td>0.000000</td>\n",
       "      <td>0.000000</td>\n",
       "      <td>2.000000</td>\n",
       "    </tr>\n",
       "    <tr>\n",
       "      <th>25%</th>\n",
       "      <td>34.500000</td>\n",
       "      <td>116594.000000</td>\n",
       "      <td>10.000000</td>\n",
       "      <td>0.000000</td>\n",
       "      <td>0.000000</td>\n",
       "      <td>38.000000</td>\n",
       "    </tr>\n",
       "    <tr>\n",
       "      <th>50%</th>\n",
       "      <td>41.000000</td>\n",
       "      <td>172274.000000</td>\n",
       "      <td>13.000000</td>\n",
       "      <td>0.000000</td>\n",
       "      <td>0.000000</td>\n",
       "      <td>40.000000</td>\n",
       "    </tr>\n",
       "    <tr>\n",
       "      <th>75%</th>\n",
       "      <td>49.000000</td>\n",
       "      <td>221858.500000</td>\n",
       "      <td>13.000000</td>\n",
       "      <td>0.000000</td>\n",
       "      <td>0.000000</td>\n",
       "      <td>45.000000</td>\n",
       "    </tr>\n",
       "    <tr>\n",
       "      <th>max</th>\n",
       "      <td>71.000000</td>\n",
       "      <td>953588.000000</td>\n",
       "      <td>16.000000</td>\n",
       "      <td>99999.000000</td>\n",
       "      <td>3004.000000</td>\n",
       "      <td>99.000000</td>\n",
       "    </tr>\n",
       "  </tbody>\n",
       "</table>\n",
       "</div>"
      ],
      "text/plain": [
       "               age         fnlwgt  education_num  capital_gain  capital_loss  \\\n",
       "count  1163.000000    1163.000000    1163.000000   1163.000000   1163.000000   \n",
       "mean     41.975064  183893.237317      11.797936   4001.094583    172.871023   \n",
       "std       9.903157   99561.869587       2.232123  13666.225189    571.143337   \n",
       "min      23.000000   19700.000000       3.000000      0.000000      0.000000   \n",
       "25%      34.500000  116594.000000      10.000000      0.000000      0.000000   \n",
       "50%      41.000000  172274.000000      13.000000      0.000000      0.000000   \n",
       "75%      49.000000  221858.500000      13.000000      0.000000      0.000000   \n",
       "max      71.000000  953588.000000      16.000000  99999.000000   3004.000000   \n",
       "\n",
       "       hr_per_week  \n",
       "count  1163.000000  \n",
       "mean     40.509888  \n",
       "std      11.202741  \n",
       "min       2.000000  \n",
       "25%      38.000000  \n",
       "50%      40.000000  \n",
       "75%      45.000000  \n",
       "max      99.000000  "
      ]
     },
     "execution_count": 118,
     "metadata": {},
     "output_type": "execute_result"
    }
   ],
   "source": [
    "df2[\n",
    "    df2['sex'].str.lower() == 'female'\n",
    "].describe()"
   ]
  },
  {
   "cell_type": "code",
   "execution_count": 127,
   "metadata": {},
   "outputs": [
    {
     "data": {
      "text/plain": [
       "[<matplotlib.lines.Line2D at 0x7f17a856da10>]"
      ]
     },
     "execution_count": 127,
     "metadata": {},
     "output_type": "execute_result"
    },
    {
     "data": {
      "image/png": "[encoded data removed]",
      "text/plain": [
       "<Figure size 432x288 with 1 Axes>"
      ]
     },
     "metadata": {
      "needs_background": "light"
     },
     "output_type": "display_data"
    }
   ],
   "source": [
    "# let us now observe the difference of men and women\n",
    "# incomes in the cleaned subset with some more details\n",
    "male_age = df2[\n",
    "    df2['sex'].str.lower() == 'male'\n",
    "]['age'].copy()\n",
    "\n",
    "female_age = df2[\n",
    "    df2['sex'].str.lower() == 'female'\n",
    "]['age'].copy()\n",
    "\n",
    "import numpy as np\n",
    "male_count, male_bins = np.histogram(male_age, density = True)\n",
    "female_count, female_bins = np.histogram(female_age, density = True)\n",
    "\n",
    "values = [\n",
    "    (male_bins[i] + male_bins[i + 1]) / 2\n",
    "    for i in range(0, len(male_bins) - 1)\n",
    "]\n",
    "plt.plot(values, male_count - female_count, 'o--')"
   ]
  },
  {
   "cell_type": "code",
   "execution_count": 128,
   "metadata": {},
   "outputs": [],
   "source": [
    "# Differences in high-income earner men versus women as a function of age"
   ]
  },
  {
   "cell_type": "markdown",
   "metadata": {},
   "source": [
    "### __Measuring Asymmetry: Skewness and Pearson's Median Skewnwss Coefficient__"
   ]
  },
  {
   "cell_type": "markdown",
   "metadata": {},
   "source": [
    "For univariate data, the formula for _skewness_ is a statistic that measures the\n",
    "assymetry of the set of n data samples, $x_i$:\n",
    "\n",
    "$$ g_1 = \\frac{1}{n} \\frac{\\sum_{i}(x_i - \\mu)^3}{\\sigma^3} $$"
   ]
  },
  {
   "cell_type": "markdown",
   "metadata": {},
   "source": [
    "Negative deviation indicates that the distribution “skews left” (it extends further\n",
    "to the left than to the right). One can easily see that the skewness for a normal\n",
    "distribution is zero, and any symmetric data must have a skewness of zero.\n",
    "A simpler alternative is to look at the relationship between the mean $\\mu$ and the\n",
    "median $\\mu_{12}$"
   ]
  },
  {
   "cell_type": "code",
   "execution_count": 137,
   "metadata": {},
   "outputs": [
    {
     "name": "stdout",
     "output_type": "stream",
     "text": [
      "skewness of the male population: 0.266\n",
      "skewness of the female population: 0.406\n"
     ]
    }
   ],
   "source": [
    "def skewness(X):\n",
    "    sum = 0; sigma = X.std(); mu = X.mean(); n = len(X);\n",
    "    for xi in X:\n",
    "        sum += (xi - mu) ** 3\n",
    "    return sum / (n * (sigma ** 3))\n",
    "\n",
    "print(f'skewness of the male population: {skewness(male_age):.3f}')\n",
    "print(f'skewness of the female population: {skewness(female_age):.3f}')"
   ]
  },
  {
   "cell_type": "markdown",
   "metadata": {},
   "source": [
    "That is, the female population is more skewed than the male, probably\n",
    "since men could be most prone to retire latern than women\n",
    "The __Person's median skewness coefficient__ is a more rosbust alternative\n",
    "to the skewness coeffiient and is defines as follows:\n",
    "\n",
    "$$ g_p = 3(\\mu - \\mu_{12})\\sigma $$"
   ]
  },
  {
   "cell_type": "code",
   "execution_count": 139,
   "metadata": {},
   "outputs": [
    {
     "name": "stdout",
     "output_type": "stream",
     "text": [
      "pearson skewness of the male population: 9.614\n",
      "pearson skewness of the female population: 28.969\n"
     ]
    }
   ],
   "source": [
    "def pearson_skewness(X):\n",
    "    return 3 * (X.mean() - X.median()) * X.std()\n",
    "\n",
    "print(f'pearson skewness of the male population: {pearson_skewness(male_age):.3f}')\n",
    "print(f'pearson skewness of the female population: {pearson_skewness(female_age):.3f}')"
   ]
  },
  {
   "cell_type": "markdown",
   "metadata": {},
   "source": [
    "After exploring the data, we obtained some apparent effects that seem to support\n",
    "our initial assumptions. For example, the mean age for men in our dataset is 39.4\n",
    "years; while for women, is 36.8 years. When analyzing the high-income salaries, the\n",
    "mean age for men increased to 44.6 years; while for women, increased to 42.1 years.\n",
    "When the data were cleaned from outliers, we obtained mean age for high-income\n",
    "men: 44.3, and for women: 41.8. Moreover, histograms and other statistics show the\n",
    "skewness of the data and the fact that women used to be promoted a little bit earlier\n",
    "than men, in general."
   ]
  },
  {
   "cell_type": "code",
   "execution_count": null,
   "metadata": {},
   "outputs": [],
   "source": [
    "### __Continuous Distribution__\n"
   ]
  }
 ],
 "metadata": {
  "kernelspec": {
   "display_name": "Python 3.7.4 64-bit ('lab': virtualenv)",
   "language": "python",
   "name": "python37464bitlabvirtualenved77d976613b4753a84284c005b6ce98"
  },
  "language_info": {
   "codemirror_mode": {
    "name": "ipython",
    "version": 3
   },
   "file_extension": ".py",
   "mimetype": "text/x-python",
   "name": "python",
   "nbconvert_exporter": "python",
   "pygments_lexer": "ipython3",
   "version": "3.7.4"
  }
 },
 "nbformat": 4,
 "nbformat_minor": 4
}
