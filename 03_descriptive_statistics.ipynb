{
 "cells": [
  {
   "cell_type": "markdown",
   "metadata": {},
   "source": [
    "# 03 __Descriptive Statistics__"
   ]
  },
  {
   "cell_type": "markdown",
   "metadata": {},
   "source": [
    "Descriptive statistics helps to simplify large amounts of data\n",
    "in a sensible way. In constrast to _inferential statistics_, in descriptive\n",
    "statistics we do not draw conclusions beyond the data we are analyzing;\n",
    "neither do we reach anu conclusions regarding hypotheses we may make.\n",
    "We do not try to infer characteristics of the \"population\" of the data,\n",
    "but claim to present quantitative descriptios of it in a manageble form.\n",
    "It is simply a way to describe the data.\n",
    "\n",
    "Statistics, and particulatly descriptive statistics, is based on two main\n",
    "concepts:\n",
    " + a __population__ is a collection of objects, items ('units') about which\n",
    "   information is sought;\n",
    " + a __sample__ is a part of the population that is observed.\n"
   ]
  },
  {
   "cell_type": "markdown",
   "metadata": {},
   "source": [
    "Descriptive statustics applies the concepts, measures and temrs that are used\n",
    "to describe the basic features of the samples in a study.\n",
    "\n",
    "In order to describe the sampled ata and to be able to infer any conclusion, we\n",
    "should go through several steps:\n",
    "\n",
    "1. __Data preparation__: given a specific example, we need to prepare the\n",
    "   data for generating statistically valid descriptions.\n",
    "2. __Descriptive statistics__: this generates different statsitics to describe and\n",
    "   summarize the data concisely and evaluate different ways to visualize them.\n",
    "\n"
   ]
  },
  {
   "cell_type": "markdown",
   "metadata": {},
   "source": [
    "### Adult Example\n",
    "Let us consider a public database called the “Adult” dataset, hosted on the UCI’s\n",
    "Machine Learning Repository"
   ]
  },
  {
   "cell_type": "code",
   "execution_count": 1,
   "metadata": {},
   "outputs": [],
   "source": [
    "# first read the data\n",
    "\n",
    "def char_to_int(a):\n",
    "    if a.isdigit():\n",
    "        return int(a)\n",
    "    else:\n",
    "        return 0\n",
    "    \n",
    "data = []\n",
    "with open('input/adult/adult.data', 'r') as file:\n",
    "    for line in file:\n",
    "        if '\\n' in line:\n",
    "            line = line.replace('\\n', '')\n",
    "        record = line.split(', ')\n",
    "        if len(record) == 15:\n",
    "            data.append(\n",
    "                [\n",
    "                    char_to_int(record[0]), record[1],\n",
    "                    char_to_int(record[2]), record[3],\n",
    "                    char_to_int(record[4]), record[5],\n",
    "                    record[6], record[7], record[8],\n",
    "                    record[9], char_to_int(record[10]),\n",
    "                    char_to_int(record[11]),\n",
    "                    char_to_int(record[12]),\n",
    "                    record[13], record[14]\n",
    "                ]\n",
    "            )\n",
    "        "
   ]
  },
  {
   "cell_type": "code",
   "execution_count": 2,
   "metadata": {},
   "outputs": [
    {
     "name": "stdout",
     "output_type": "stream",
     "text": [
      "[[50, 'Self-emp-not-inc', 83311, 'Bachelors', 13, 'Married-civ-spouse', 'Exec-managerial', 'Husband', 'White', 'Male', 0, 0, 13, 'United-States', '<=50K']]\n"
     ]
    }
   ],
   "source": [
    "print(data[1:2])"
   ]
  },
  {
   "cell_type": "code",
   "execution_count": 3,
   "metadata": {},
   "outputs": [],
   "source": [
    "# use a pandas dataframe\n",
    "import pandas as pd\n",
    "df = pd.DataFrame(data)\n",
    "df.columns = [\n",
    "    'age', 'type_employer', 'fnlwgt',\n",
    "    'education', 'education_num', 'marital',\n",
    "    'occupation', 'relationship', 'race',\n",
    "    'sex', 'capital_gain', 'capital_loss',\n",
    "    'hr_per_week', 'country', 'income'\n",
    "]"
   ]
  },
  {
   "cell_type": "code",
   "execution_count": 4,
   "metadata": {},
   "outputs": [
    {
     "data": {
      "text/plain": [
       "(32561, 15)"
      ]
     },
     "execution_count": 4,
     "metadata": {},
     "output_type": "execute_result"
    }
   ],
   "source": [
    "# get shape of dataframe\n",
    "df.shape"
   ]
  },
  {
   "cell_type": "code",
   "execution_count": 5,
   "metadata": {},
   "outputs": [
    {
     "name": "stdout",
     "output_type": "stream",
     "text": [
      "country\n",
      "?           583\n",
      "Cambodia     19\n",
      "Canada      121\n",
      "China        75\n",
      "Columbia     59\n",
      "dtype: int64\n"
     ]
    }
   ],
   "source": [
    "# count items per country\n",
    "counts = df.groupby('country').size()\n",
    "print(counts.head())"
   ]
  },
  {
   "cell_type": "code",
   "execution_count": 6,
   "metadata": {},
   "outputs": [],
   "source": [
    "# let us split people according to their gender\n",
    "# into two grroups\n",
    "male = df[df['sex'].str.lower() == 'male']\n",
    "female = df[df['sex'].str.lower() == 'female']"
   ]
  },
  {
   "cell_type": "code",
   "execution_count": 7,
   "metadata": {},
   "outputs": [],
   "source": [
    "# high income professionals separatef by sex\n",
    "high_income_male = df[\n",
    "    (df['sex'].str.lower() == 'male') &\n",
    "    (df['income'] == '>50K')\n",
    "]\n",
    "\n",
    "high_income_female = df[\n",
    "    (df['sex'].str.lower() == 'female') &\n",
    "    (df['income'] == '>50K')\n",
    "]"
   ]
  },
  {
   "cell_type": "markdown",
   "metadata": {},
   "source": [
    "## __Exploratory Data Analysis__ (EDA)"
   ]
  },
  {
   "cell_type": "markdown",
   "metadata": {},
   "source": [
    "One of the main goals of EDA is to visualize and summarize the sample distribution, thereby\n",
    "allowing us to make tentative assumptions about the population distribution."
   ]
  },
  {
   "cell_type": "code",
   "execution_count": 8,
   "metadata": {},
   "outputs": [
    {
     "name": "stdout",
     "output_type": "stream",
     "text": [
      "the rate of people with high income is:  24 %\n",
      "the rate of males with high income is:  20 %\n",
      "the rate of females with high income is:  3 %\n"
     ]
    }
   ],
   "source": [
    "high_income = df[df['income'] == '>50K']\n",
    "\n",
    "print('the rate of people with high income is: ', int(len(high_income) / float(len(df)) * 100), '%')\n",
    "print('the rate of males with high income is: ', int(len(high_income_male) / float(len(df)) * 100), '%')\n",
    "print('the rate of females with high income is: ', int(len(high_income_female) / float(len(df)) * 100), '%')"
   ]
  },
  {
   "cell_type": "markdown",
   "metadata": {},
   "source": [
    "Out observed data represent just a finite set of samples of an often infinite number of possible\n",
    "ssamples. The characteristics of out randomly observed samples are interesting only\n",
    "to the degree that they represent the ppùlation of the data they came from."
   ]
  },
  {
   "cell_type": "markdown",
   "metadata": {},
   "source": [
    "### __Mean__\n",
    "One of the first measurement we sue to have a look at the data is to obtain\n",
    "_sample statistics_ from the data, such as the sample mean.\n",
    "Given a sample of _n_ values, $\\{x_i\\}, i = 1, 2, ..., n$, the _mean_, $\\mu$ is the sum\n",
    "of the values divided by the number of values:\n",
    "\n",
    "$$ \\mu = \\frac{1}{n} \\sum_{i = 1}^{n} x_i$$"
   ]
  },
  {
   "cell_type": "markdown",
   "metadata": {},
   "source": [
    "The terms _mean_ and _average_ are often used interchangeably. I fact the main distinction\n",
    "between them is that the mean of a sample is the summary statistic compputed by the equation above,\n",
    "while an average is not strictly defined and could be one of many summary statistics that can be\n",
    "chosen to describe the central tendency of a sample."
   ]
  },
  {
   "cell_type": "code",
   "execution_count": 9,
   "metadata": {},
   "outputs": [
    {
     "name": "stdout",
     "output_type": "stream",
     "text": [
      "Average age of female: 39.434\n",
      "Average age of male: 39.434\n",
      "Average age of high-income male: 44.626\n",
      "Average age of high-income female: 42.126\n"
     ]
    }
   ],
   "source": [
    "# the averages of out dataset\n",
    "print(f'Average age of female: {male[\"age\"].mean():.3f}')\n",
    "print(f'Average age of male: {male[\"age\"].mean():.3f}')\n",
    "print(f'Average age of high-income male: {high_income_male[\"age\"].mean():.3f}')\n",
    "print(f'Average age of high-income female: {high_income_female[\"age\"].mean():.3f}')"
   ]
  },
  {
   "cell_type": "markdown",
   "metadata": {},
   "source": [
    "This difference in the sample means can be considered initial evidence that there\n",
    "are differences between men and women with high income!\n",
    "\n",
    "__Comment__: Later, we will work with both concepts: the population mean and the\n",
    "sample mean. We should not confuse them! The first is the mean of samples taken\n",
    "from the population; the second, the mean of the whole population."
   ]
  },
  {
   "cell_type": "markdown",
   "metadata": {},
   "source": [
    "### __Variance__\n",
    "The mean is not usually a sufficient descriptor of the data. We can go further by\n",
    "knowing two numbers: mean and variance. The variance σ 2 describes the spread of\n",
    "the data and it is defined as follows:"
   ]
  },
  {
   "cell_type": "markdown",
   "metadata": {},
   "source": [
    "$$ \\sigma^2 = \\frac{1}{n} \\sum_{i}(x_i - \\mu)^2 $$"
   ]
  },
  {
   "cell_type": "markdown",
   "metadata": {},
   "source": [
    "The term (x i − μ) is called the __deviation from the mean__, so the variance is the mean\n",
    "squared deviation. The square root of the variance, σ, is called the standard deviation.\n",
    "We consider the standard deviation, because the variance is hard to interpret (e.g., if\n",
    "the units are grams, the variance is in grams squared)."
   ]
  },
  {
   "cell_type": "code",
   "execution_count": 10,
   "metadata": {},
   "outputs": [
    {
     "name": "stdout",
     "output_type": "stream",
     "text": [
      "age variance of female: 178.774\n",
      "age variance of male: 178.774\n",
      "age variance of high-income male: 109.945\n",
      "age variance of high-income female: 109.414\n"
     ]
    }
   ],
   "source": [
    "print(f'age variance of female: {male[\"age\"].var():.3f}')\n",
    "print(f'age variance of male: {male[\"age\"].var():.3f}')\n",
    "print(f'age variance of high-income male: {high_income_male[\"age\"].var():.3f}')\n",
    "print(f'age variance of high-income female: {high_income_female[\"age\"].var():.3f}')"
   ]
  },
  {
   "cell_type": "markdown",
   "metadata": {},
   "source": [
    "### __Sample Median__\n",
    "The mean of the samples is a good descriptor, but it has an important drawback: what\n",
    "will happen if in the sample set there is an error with a value very different from the\n",
    "rest? For example, considering hours worked per week, it would normally be in a\n",
    "range between 20 and 80; but what would happen if by mistake there was a value\n",
    "of 1000? An item of data that is significantly different from the rest of the data is\n",
    "called an outlier. In this case, the mean, μ, will be drastically changed towards the\n",
    "outlier. One solution to this drawback is offered by the statistical median, μ 12 , which\n",
    "is an order statistic giving the middle value of a sample. In this case, all the values\n",
    "are ordered by their magnitude and the median is defined as the value that is in the\n",
    "middle of the ordered list. Hence, it is a value that is much more robust in the face\n",
    "of outliers."
   ]
  },
  {
   "cell_type": "code",
   "execution_count": 11,
   "metadata": {},
   "outputs": [
    {
     "name": "stdout",
     "output_type": "stream",
     "text": [
      "male age median:  38.0\n",
      "female age median:  35.0\n"
     ]
    }
   ],
   "source": [
    "# median age of working men and women\n",
    "male_median = male['age'].median()\n",
    "female_median = female['age'].median()\n",
    "print('male age median: ', male_median)\n",
    "print('female age median: ', female_median)"
   ]
  },
  {
   "cell_type": "markdown",
   "metadata": {},
   "source": [
    "### __Quantiles and Percentiles__\n",
    "Sometimes we are interested in observing how sample data are distributed in general.\n",
    "In this case, we can order the samples $\\{x_i\\}$, then find the $x_p$ so that it divides the data\n",
    "into two parts, where:\n",
    " + a fraction _p_ of the data values is less than or equal to $x_p$ and\n",
    " + the remaining feaction $(1 - p)$ is greater than $x_p$"
   ]
  },
  {
   "cell_type": "markdown",
   "metadata": {},
   "source": [
    "The value $x_p$ is the _p-th_ quantile, or the 100 * _p-th_ percentile."
   ]
  },
  {
   "cell_type": "markdown",
   "metadata": {},
   "source": [
    "### __Data Distributions__"
   ]
  },
  {
   "cell_type": "markdown",
   "metadata": {},
   "source": [
    "Summarizing data by just looking at their mean, median, and variance can be danger-\n",
    "ous: very different data can be described by the same statistics. The best thing to do\n",
    "is to validate the data by inspecting them. We can have a look at the data distribution,\n",
    "which describes how often each value appears (i.e., what is its frequency).\n",
    "\n",
    "The most common representation of a distribution is a histogram, which is a graph\n",
    "that shows the frequency of each value. Let us show the age of working men and\n",
    "women separately."
   ]
  },
  {
   "cell_type": "code",
   "execution_count": 12,
   "metadata": {},
   "outputs": [],
   "source": [
    "import matplotlib.pyplot as plt"
   ]
  },
  {
   "cell_type": "code",
   "execution_count": 13,
   "metadata": {},
   "outputs": [
    {
     "data": {
      "image/png": "[encoded data removed]",
      "text/plain": [
       "<Figure size 432x288 with 1 Axes>"
      ]
     },
     "metadata": {
      "needs_background": "light"
     },
     "output_type": "display_data"
    }
   ],
   "source": [
    "male_age = male['age'].copy()\n",
    "male_age.hist(histtype = 'stepfilled', bins = 20)\n",
    "plt.show()"
   ]
  },
  {
   "cell_type": "code",
   "execution_count": 14,
   "metadata": {},
   "outputs": [
    {
     "data": {
      "image/png": "[encoded data removed]",
      "text/plain": [
       "<Figure size 432x288 with 1 Axes>"
      ]
     },
     "metadata": {
      "needs_background": "light"
     },
     "output_type": "display_data"
    }
   ],
   "source": [
    "female_age = female['age'].copy()\n",
    "female_age.hist(histtype = 'stepfilled', bins = 20)\n",
    "plt.show()"
   ]
  },
  {
   "cell_type": "code",
   "execution_count": 15,
   "metadata": {},
   "outputs": [
    {
     "data": {
      "image/png": "[encoded data removed]",
      "text/plain": [
       "<Figure size 432x288 with 1 Axes>"
      ]
     },
     "metadata": {
      "needs_background": "light"
     },
     "output_type": "display_data"
    }
   ],
   "source": [
    "# overlap the histograms\n",
    "import seaborn as sns\n",
    "female_age.hist(histtype = 'stepfilled', alpha = 0.5, bins = 20)\n",
    "male_age.hist(histtype = 'stepfilled', alpha = 0.5, color = sns.desaturate('indianred', 0.75),\n",
    "              bins = 20)\n",
    "plt.show()"
   ]
  },
  {
   "cell_type": "code",
   "execution_count": 16,
   "metadata": {},
   "outputs": [
    {
     "data": {
      "text/plain": [
       "4        28\n",
       "5        37\n",
       "6        49\n",
       "8        31\n",
       "12       23\n",
       "         ..\n",
       "32546    37\n",
       "32549    43\n",
       "32556    27\n",
       "32558    58\n",
       "32560    52\n",
       "Name: age, Length: 10771, dtype: int64"
      ]
     },
     "execution_count": 16,
     "metadata": {},
     "output_type": "execute_result"
    }
   ],
   "source": [
    "female_age"
   ]
  },
  {
   "cell_type": "code",
   "execution_count": 17,
   "metadata": {},
   "outputs": [
    {
     "ename": "NameError",
     "evalue": "name 'female_age_normed' is not defined",
     "output_type": "error",
     "traceback": [
      "\u001b[0;31m---------------------------------------------------------------------------\u001b[0m",
      "\u001b[0;31mNameError\u001b[0m                                 Traceback (most recent call last)",
      "\u001b[0;32m<ipython-input-17-df2b251e5723>\u001b[0m in \u001b[0;36m<module>\u001b[0;34m\u001b[0m\n\u001b[0;32m----> 1\u001b[0;31m \u001b[0mfemale_age_normed\u001b[0m\u001b[0;34m\u001b[0m\u001b[0;34m\u001b[0m\u001b[0m\n\u001b[0m",
      "\u001b[0;31mNameError\u001b[0m: name 'female_age_normed' is not defined"
     ]
    }
   ],
   "source": [
    "female_age_normed"
   ]
  },
  {
   "cell_type": "code",
   "execution_count": null,
   "metadata": {},
   "outputs": [],
   "source": [
    "# we can normalize the frequencies of the histogram bu\n",
    "# dividing/normalizing by n,  the number of samples.\n",
    "# the normalized histogram is called Probability Mass Function (PMF)\n",
    "female_age.hist(\n",
    "    histtype = 'stepfilled', alpha = 0.5, bins = 20, density = True\n",
    ")\n",
    "male_age.hist(\n",
    "    histtype = 'stepfilled', alpha = 0.5, color = sns.desaturate('indianred', 0.75),\n",
    "    bins = 20, density = True\n",
    ")\n",
    "plt.show()"
   ]
  },
  {
   "cell_type": "code",
   "execution_count": null,
   "metadata": {},
   "outputs": [],
   "source": [
    "# the Cumulative Distribution Fcuntion (CDF) or just distribution function,\n",
    "# describes the probability that a real-valued random variable X with a \n",
    "# given probability distrubution will be found to have a value\n",
    "# less than or equal to x. Let us show the CDF of age distribution for both men and women\n",
    "female_age.hist(\n",
    "    histtype = 'step', alpha = 0.5, bins = 20, cumulative = True,\n",
    "    linewidth = 3.5, density = True,\n",
    ")\n",
    "male_age.hist(\n",
    "    histtype = 'step', alpha = 0.5, color = sns.desaturate('indianred', 0.75),\n",
    "    bins = 20, cumulative = True, density = True,\n",
    "    linewidth = 3.5\n",
    ")\n",
    "plt.show()"
   ]
  },
  {
   "cell_type": "markdown",
   "metadata": {},
   "source": [
    "### __Outlier Treatment__\n",
    "As mentioned before, outliers are data samples with a value\n",
    "that is far from the central tendency. Different rules can be defined to detet outliers,\n",
    "as follows:\n",
    " + computing samples that are far from the median\n",
    " + computing samples whose values exceed the mean by 2 or 3 standard deviations\n"
   ]
  },
  {
   "cell_type": "markdown",
   "metadata": {},
   "source": [
    "For example, in our case, we are interested in the age statistics of men versus\n",
    "women with high incomes and we can see that in our dataset, the minimum age is 17\n",
    "years and the maximum is 90 years. We can consider that some of these samples are\n",
    "due to errors or are not representable. Applying the domain knowledge, we focus on\n",
    "the median age (37, in our case) up to 72 and down to 22 years old, and we consider\n",
    "the rest as outliers."
   ]
  },
  {
   "cell_type": "code",
   "execution_count": null,
   "metadata": {},
   "outputs": [],
   "source": [
    "df2 = df[\n",
    "    (df['income'] == '>50K') &\n",
    "    (df['age'] < df['age'].median() + 35) &\n",
    "    (df['age'] > df['age'].median() - 15)\n",
    "]"
   ]
  },
  {
   "cell_type": "code",
   "execution_count": null,
   "metadata": {},
   "outputs": [],
   "source": [
    "# let us visualzie how many outliers are removed\n",
    "# from the whole data\n",
    "plt.figure(figsize = (13.4, 5))\n",
    "df['age'][\n",
    "    df['income'] == '>50K'\n",
    "].plot(alpha = 0.25, color = 'blue')\n",
    "\n",
    "df2['age'][\n",
    "    df2['income'] == '>50K'\n",
    "].plot(alpha = 0.45, color = 'red')\n",
    "\n",
    "plt.show()"
   ]
  },
  {
   "cell_type": "code",
   "execution_count": null,
   "metadata": {},
   "outputs": [],
   "source": [
    "# the red sows the cleaned data without the considere outliers\n",
    "# lets see summaries of the new and old dfs"
   ]
  },
  {
   "cell_type": "code",
   "execution_count": null,
   "metadata": {},
   "outputs": [],
   "source": [
    "df.describe()"
   ]
  },
  {
   "cell_type": "code",
   "execution_count": null,
   "metadata": {},
   "outputs": [],
   "source": [
    "df2.describe()"
   ]
  },
  {
   "cell_type": "code",
   "execution_count": null,
   "metadata": {},
   "outputs": [],
   "source": [
    "df2[\n",
    "    df2['sex'].str.lower() == 'male'\n",
    "].describe()"
   ]
  },
  {
   "cell_type": "code",
   "execution_count": null,
   "metadata": {},
   "outputs": [],
   "source": [
    "df2[\n",
    "    df2['sex'].str.lower() == 'female'\n",
    "].describe()"
   ]
  },
  {
   "cell_type": "code",
   "execution_count": null,
   "metadata": {},
   "outputs": [],
   "source": [
    "# let us now observe the difference of men and women\n",
    "# incomes in the cleaned subset with some more details\n",
    "male_age = df2[\n",
    "    df2['sex'].str.lower() == 'male'\n",
    "]['age'].copy()\n",
    "\n",
    "female_age = df2[\n",
    "    df2['sex'].str.lower() == 'female'\n",
    "]['age'].copy()\n",
    "\n",
    "import numpy as np\n",
    "male_count, male_bins = np.histogram(male_age, density = True)\n",
    "female_count, female_bins = np.histogram(female_age, density = True)\n",
    "\n",
    "values = [\n",
    "    (male_bins[i] + male_bins[i + 1]) / 2\n",
    "    for i in range(0, len(male_bins) - 1)\n",
    "]\n",
    "plt.plot(values, male_count - female_count, 'o--')"
   ]
  },
  {
   "cell_type": "code",
   "execution_count": null,
   "metadata": {},
   "outputs": [],
   "source": [
    "# Differences in high-income earner men versus women as a function of age"
   ]
  },
  {
   "cell_type": "markdown",
   "metadata": {},
   "source": [
    "### __Measuring Asymmetry: Skewness and Pearson's Median Skewnwss Coefficient__"
   ]
  },
  {
   "cell_type": "markdown",
   "metadata": {},
   "source": [
    "For univariate data, the formula for _skewness_ is a statistic that measures the\n",
    "assymetry of the set of n data samples, $x_i$:\n",
    "\n",
    "$$ g_1 = \\frac{1}{n} \\frac{\\sum_{i}(x_i - \\mu)^3}{\\sigma^3} $$"
   ]
  },
  {
   "cell_type": "markdown",
   "metadata": {},
   "source": [
    "Negative deviation indicates that the distribution “skews left” (it extends further\n",
    "to the left than to the right). One can easily see that the skewness for a normal\n",
    "distribution is zero, and any symmetric data must have a skewness of zero.\n",
    "A simpler alternative is to look at the relationship between the mean $\\mu$ and the\n",
    "median $\\mu_{12}$"
   ]
  },
  {
   "cell_type": "code",
   "execution_count": null,
   "metadata": {},
   "outputs": [],
   "source": [
    "def skewness(X):\n",
    "    sum = 0; sigma = X.std(); mu = X.mean(); n = len(X);\n",
    "    for xi in X:\n",
    "        sum += (xi - mu) ** 3\n",
    "    return sum / (n * (sigma ** 3))\n",
    "\n",
    "print(f'skewness of the male population: {skewness(male_age):.3f}')\n",
    "print(f'skewness of the female population: {skewness(female_age):.3f}')"
   ]
  },
  {
   "cell_type": "markdown",
   "metadata": {},
   "source": [
    "That is, the female population is more skewed than the male, probably\n",
    "since men could be most prone to retire latern than women\n",
    "The __Person's median skewness coefficient__ is a more rosbust alternative\n",
    "to the skewness coeffiient and is defines as follows:\n",
    "\n",
    "$$ g_p = 3(\\mu - \\mu_{12})\\sigma $$"
   ]
  },
  {
   "cell_type": "code",
   "execution_count": null,
   "metadata": {},
   "outputs": [],
   "source": [
    "def pearson_skewness(X):\n",
    "    return 3 * (X.mean() - X.median()) * X.std()\n",
    "\n",
    "print(f'pearson skewness of the male population: {pearson_skewness(male_age):.3f}')\n",
    "print(f'pearson skewness of the female population: {pearson_skewness(female_age):.3f}')"
   ]
  },
  {
   "cell_type": "markdown",
   "metadata": {},
   "source": [
    "After exploring the data, we obtained some apparent effects that seem to support\n",
    "our initial assumptions. For example, the mean age for men in our dataset is 39.4\n",
    "years; while for women, is 36.8 years. When analyzing the high-income salaries, the\n",
    "mean age for men increased to 44.6 years; while for women, increased to 42.1 years.\n",
    "When the data were cleaned from outliers, we obtained mean age for high-income\n",
    "men: 44.3, and for women: 41.8. Moreover, histograms and other statistics show the\n",
    "skewness of the data and the fact that women used to be promoted a little bit earlier\n",
    "than men, in general."
   ]
  },
  {
   "cell_type": "markdown",
   "metadata": {},
   "source": [
    "### __Continuous Distribution__\n",
    "Remember that we defined the __PMF__, $f_X(x)$, of a discrete random variable $X$ as \n",
    "$f_X(x) = P(X = x)$ for all $x$. In the case of a continuous random variable $X$, we speak\n",
    "of the _Probability Density Function_ (__PDF__), which is defined as F_X(x) where this\n",
    "satisfies: $F_X(x) = \\int_{\\infty}^{x}f_X(t)\\delta t$ for all $x$.\n"
   ]
  },
  {
   "cell_type": "markdown",
   "metadata": {},
   "source": [
    "### The Exponential Distribution"
   ]
  },
  {
   "cell_type": "markdown",
   "metadata": {},
   "source": [
    "__Exponential distributions are well known since they describe the inter-arrival time\n",
    "between events. When the events are equally likely to occur at any time, the\n",
    "distribution of the inter-arrival time tends to an exponential distribution.__ The\n",
    "CDF and the PDF of the exponential distribution are defined as:\n",
    "$$ CDF(x) = 1 - e^{-\\lambda x} $$ and $$ PDF(x) = \\lambda e^{-\\lambda x} $$"
   ]
  },
  {
   "cell_type": "markdown",
   "metadata": {},
   "source": [
    "The parameter $\\lambda$ defines the shape of the distribution.\n",
    "The mean of the distribution is $\\frac{1}{\\lambda}$, the variance is $\\frac{1}{\\lambda^2}$\n",
    "and the median is $\\frac{ln(2)}{\\lambda} $"
   ]
  },
  {
   "cell_type": "markdown",
   "metadata": {},
   "source": [
    "### The Normal Distribution\n",
    "The _normal distribution_, also called the _Gaussian distribution_, is the most common\n",
    "since it represents many real phenomena: economic, natural, social and others.\n",
    "Some well-known examples of real phenomena with a normal disribution are as fwoolows:\n",
    " + The size of living tissue\n",
    " + the length of iner appengages of biological specimens\n",
    " + different physiological measurements (blood preasure, etc)\n",
    "\n",
    "The normal CDF has no closed-form expression and its most\n",
    "common representation is the PDF:\n",
    "$$ PDF(x) = \\frac{1}{\\sqrt{2\\pi \\sigma^2}} e^{-\\frac{(x - \\mu)^2}{2\\sigma ^2}} $$\n",
    "\n",
    "The parameter $\\sigma$ defines the shape of the distribution."
   ]
  },
  {
   "cell_type": "markdown",
   "metadata": {},
   "source": [
    "### Kernel Density\n",
    "In many real problems, we may not be interested in the parameters\n",
    "of a particular distribution of data, but just a continuous representation of the data.\n",
    "In this case, we should estimate the distribution _non-parametrically_ (i.e. making no\n",
    "assumptions about the form of the underlying distribution) using kernel density estimation.\n",
    "Let us\n",
    "imagine that we have a set of data measurements without knowing their distribution\n",
    "and we need to estimate the continuous representation of their distribution. In this\n",
    "case, we can consider a Gaussian kernel to generate the density around the data. Let\n",
    "us consider a set of random data generated by a bimodal normal distribution. If we\n",
    "consider a Gaussian kernel around the data, the sum of those kernels can give us\n",
    "a continuous function that when normalized would approximate the\n",
    "density of the distribution"
   ]
  },
  {
   "cell_type": "code",
   "execution_count": 23,
   "metadata": {},
   "outputs": [
    {
     "data": {
      "image/png": "[encoded data removed]",
      "text/plain": [
       "<Figure size 432x288 with 1 Axes>"
      ]
     },
     "metadata": {
      "needs_background": "light"
     },
     "output_type": "display_data"
    }
   ],
   "source": [
    "import numpy as np\n",
    "from scipy.stats import norm\n",
    "\n",
    "x1 = np.random.normal(-1, 0.5 , 15)\n",
    "x2 = np.random.normal(6, 1, 10)\n",
    "\n",
    "# `r_` translates slice objects to concatenation along the first axis\n",
    "y = np.r_[x1, x2]\n",
    "x = np.linspace(min(y), max(y), 100)\n",
    "\n",
    "# smoothing parameter\n",
    "s = 0.4\n",
    "\n",
    "# calculate the kernels\n",
    "kernels = np.transpose(\n",
    "    [norm.pdf(x, yi, s) for yi in y]\n",
    ")\n",
    "plt.plot(x, kernels, 'k:')\n",
    "plt.plot(x, kernels.sum(1), 'r')\n",
    "plt.plot(y, np.zeros(len(y)), 'bo', ms = 10)\n",
    "plt.show()"
   ]
  },
  {
   "cell_type": "markdown",
   "metadata": {},
   "source": [
    "The figure above shows the result of the construction of the continuous function\n",
    "from the kernel summarization.\n",
    "In fact, the library SciPy implements a Gaussian kernel density estimation that automatically\n",
    "chooses the appropriate bandwdith parameter for the kernel. This the final construction\n",
    "of the density estimate will be obtained by:\n"
   ]
  },
  {
   "cell_type": "code",
   "execution_count": 25,
   "metadata": {},
   "outputs": [
    {
     "data": {
      "image/png": "[encoded data removed]",
      "text/plain": [
       "<Figure size 432x288 with 1 Axes>"
      ]
     },
     "metadata": {
      "needs_background": "light"
     },
     "output_type": "display_data"
    }
   ],
   "source": [
    "from scipy.stats import kde\n",
    "density = kde.gaussian_kde(y)\n",
    "xgrid = np.linspace(x.min(), x.max(), 200)\n",
    "\n",
    "plt.hist(y, bins = 28, density = True)\n",
    "plt.plot(xgrid, density(xgrid), 'r-')\n",
    "plt.show()"
   ]
  },
  {
   "cell_type": "code",
   "execution_count": null,
   "metadata": {},
   "outputs": [],
   "source": []
  }
 ],
 "metadata": {
  "kernelspec": {
   "display_name": "Python 3.7.4 64-bit ('lab': virtualenv)",
   "language": "python",
   "name": "python37464bitlabvirtualenved77d976613b4753a84284c005b6ce98"
  },
  "language_info": {
   "codemirror_mode": {
    "name": "ipython",
    "version": 3
   },
   "file_extension": ".py",
   "mimetype": "text/x-python",
   "name": "python",
   "nbconvert_exporter": "python",
   "pygments_lexer": "ipython3",
   "version": "3.7.4"
  }
 },
 "nbformat": 4,
 "nbformat_minor": 4
}
