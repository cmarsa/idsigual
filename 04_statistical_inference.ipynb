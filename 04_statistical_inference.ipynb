{
 "cells": [
  {
   "cell_type": "markdown",
   "metadata": {},
   "source": [
    "# 04 __Statistical Inference__"
   ]
  },
  {
   "cell_type": "markdown",
   "metadata": {},
   "source": [
    "There is not only one way to address the problem of statistical inference. In fact,\n",
    "there are two main approaches to statistical inference: the frequentist\n",
    "and Bayesian approaches, Their diiferences are sublte but fundamental:\n",
    "\n",
    " + In the case of _frequentist apprach_, the main assumption is that there is\n",
    "   a population, which can be represented by several parameters, from which\n",
    "   we can obtain numerous random samples. The only way to derive the information\n",
    "   aboyt these parameters is to take a sample of the population, to compute\n",
    "   the parameters of the sample an to use statistical inference techqiniques to\n",
    "   make probable propositions regarding population parameters.\n",
    "   \n",
    " + The _Bayesian apprach_ is based on a considereation that data are fixed, not \n",
    "   the result of a repeatable sampling process, but parameters describing data\n",
    "   can be described proabilisitically. To this end, Bayersian inference methods focus\n",
    "   on reproducing parameter distributions that represent all the knowledge we \n",
    "   can extract from the sample and from prioir information about the problem.\n",
    "   \n",
    "\n"
   ]
  },
  {
   "cell_type": "markdown",
   "metadata": {},
   "source": [
    "The assumptions are related in the first case to a sampling process; and to a statistical\n",
    "model in the second case. Correct inference requires these assumptions to be correct.\n",
    "The fulfillment of this requirement is not part of the method, but it is the responsibility\n",
    "of the data scientist."
   ]
  },
  {
   "cell_type": "markdown",
   "metadata": {},
   "source": [
    "## __Frequentist Approach to Statistical Inference__"
   ]
  },
  {
   "cell_type": "markdown",
   "metadata": {},
   "source": [
    "If we adopt the frequentist approach, is to produce probable\n",
    "propositions concerning population param-\n",
    "eters from analysis of a sample. The most important classes of propositions are as\n",
    "follows:\n",
    "\n",
    " + Propositions about _point estimates_. Apoint estimate is a particular value that\n",
    "   best approximates some parameter of interest. For example, the mean or the\n",
    "   variance of a sample.\n",
    "   \n",
    " + Propositions about _confidence intervals_ or _set estimates_. A confidence interval\n",
    "   is a range of values that best represents some parameter of interest.\n",
    "   Propositions about the acceptance or rejection of a _hypothesis_.\n",
    "   \n",
    "  "
   ]
  },
  {
   "cell_type": "markdown",
   "metadata": {},
   "source": [
    "In all these cases, the production of propositions is based on a simple assumptions:\n",
    "we can estimate the probability that the result represented by the proposition\n",
    "has been caused by chance. The estimation of this probability by sound method is one\n",
    "of the main topics of statistics."
   ]
  },
  {
   "cell_type": "markdown",
   "metadata": {},
   "source": [
    "## __Measuring the Variability in Estimates__"
   ]
  },
  {
   "cell_type": "markdown",
   "metadata": {},
   "source": [
    "Estimates produced by descriptive statistics are not equal to the truth but they are\n",
    "better as more data become available. So, it makes sense to use them as central\n",
    "elements of our propositions and to measure its variability with respect to the sample\n",
    "size."
   ]
  },
  {
   "cell_type": "markdown",
   "metadata": {},
   "source": [
    "### __Point Estimates__"
   ]
  },
  {
   "cell_type": "markdown",
   "metadata": {},
   "source": [
    "Let us suppose that we are interested in describing the daily number of\n",
    "traffic accidents in the streets of Barcelona in 2013. If we have access to the population, the\n",
    "computation of this parameter is a simple operation: the total number of accidents\n",
    "divided by 365."
   ]
  },
  {
   "cell_type": "code",
   "execution_count": 24,
   "metadata": {},
   "outputs": [],
   "source": [
    "import numpy as np\n",
    "import pandas as pd\n",
    "data = pd.read_csv(\n",
    "    'input/accidents_gu_bnc_2013.csv'\n",
    ")"
   ]
  },
  {
   "cell_type": "code",
   "execution_count": 25,
   "metadata": {},
   "outputs": [
    {
     "data": {
      "text/html": [
       "<div>\n",
       "<style scoped>\n",
       "    .dataframe tbody tr th:only-of-type {\n",
       "        vertical-align: middle;\n",
       "    }\n",
       "\n",
       "    .dataframe tbody tr th {\n",
       "        vertical-align: top;\n",
       "    }\n",
       "\n",
       "    .dataframe thead th {\n",
       "        text-align: right;\n",
       "    }\n",
       "</style>\n",
       "<table border=\"1\" class=\"dataframe\">\n",
       "  <thead>\n",
       "    <tr style=\"text-align: right;\">\n",
       "      <th></th>\n",
       "      <th>N�mero d'expedient</th>\n",
       "      <th>Codi districte</th>\n",
       "      <th>Nom districte</th>\n",
       "      <th>NK barri</th>\n",
       "      <th>Nom barri</th>\n",
       "      <th>Codi carrer</th>\n",
       "      <th>Nom carrer</th>\n",
       "      <th>Num postal caption</th>\n",
       "      <th>Descripci� dia setmana</th>\n",
       "      <th>Dia de setmana</th>\n",
       "      <th>...</th>\n",
       "      <th>Hora de dia</th>\n",
       "      <th>Descripci� torn</th>\n",
       "      <th>Descripci� causa vianant</th>\n",
       "      <th>N�mero de morts</th>\n",
       "      <th>N�mero de lesionats lleus</th>\n",
       "      <th>N�mero de lesionats greus</th>\n",
       "      <th>N�mero de v�ctimes</th>\n",
       "      <th>N�mero de vehicles implicats</th>\n",
       "      <th>Coordenada UTM (Y)</th>\n",
       "      <th>Coordenada UTM (X)</th>\n",
       "    </tr>\n",
       "  </thead>\n",
       "  <tbody>\n",
       "    <tr>\n",
       "      <th>0</th>\n",
       "      <td>2013S007360</td>\n",
       "      <td>-1</td>\n",
       "      <td>Desconegut</td>\n",
       "      <td>-1--1--1</td>\n",
       "      <td>Desconegut</td>\n",
       "      <td>-1</td>\n",
       "      <td>Desconegut</td>\n",
       "      <td>Desconegut</td>\n",
       "      <td>Dimecres</td>\n",
       "      <td>3</td>\n",
       "      <td>...</td>\n",
       "      <td>21</td>\n",
       "      <td>Tarda</td>\n",
       "      <td>Desconegut</td>\n",
       "      <td>0</td>\n",
       "      <td>1</td>\n",
       "      <td>0</td>\n",
       "      <td>1</td>\n",
       "      <td>2</td>\n",
       "      <td>-1</td>\n",
       "      <td>-1</td>\n",
       "    </tr>\n",
       "    <tr>\n",
       "      <th>1</th>\n",
       "      <td>2013S007723</td>\n",
       "      <td>10</td>\n",
       "      <td>Sant Mart�</td>\n",
       "      <td>101-10-64</td>\n",
       "      <td>el Camp de l'Arpa del Clot</td>\n",
       "      <td>152600</td>\n",
       "      <td>Guinard�</td>\n",
       "      <td>0028 0032</td>\n",
       "      <td>Dimarts</td>\n",
       "      <td>2</td>\n",
       "      <td>...</td>\n",
       "      <td>21</td>\n",
       "      <td>Tarda</td>\n",
       "      <td>Desconegut</td>\n",
       "      <td>0</td>\n",
       "      <td>1</td>\n",
       "      <td>0</td>\n",
       "      <td>1</td>\n",
       "      <td>2</td>\n",
       "      <td>4585218,67</td>\n",
       "      <td>431621,41</td>\n",
       "    </tr>\n",
       "    <tr>\n",
       "      <th>2</th>\n",
       "      <td>2013S005373</td>\n",
       "      <td>10</td>\n",
       "      <td>Sant Mart�</td>\n",
       "      <td>101-10-64</td>\n",
       "      <td>el Camp de l'Arpa del Clot</td>\n",
       "      <td>134801</td>\n",
       "      <td>Freser</td>\n",
       "      <td>0053 0053</td>\n",
       "      <td>Dimarts</td>\n",
       "      <td>2</td>\n",
       "      <td>...</td>\n",
       "      <td>10</td>\n",
       "      <td>Mat�</td>\n",
       "      <td>Creuar per fora pas de vianants</td>\n",
       "      <td>0</td>\n",
       "      <td>1</td>\n",
       "      <td>0</td>\n",
       "      <td>1</td>\n",
       "      <td>1</td>\n",
       "      <td>4585049,89</td>\n",
       "      <td>431605,09</td>\n",
       "    </tr>\n",
       "    <tr>\n",
       "      <th>3</th>\n",
       "      <td>2013S001486</td>\n",
       "      <td>10</td>\n",
       "      <td>Sant Mart�</td>\n",
       "      <td>101-10-64</td>\n",
       "      <td>el Camp de l'Arpa del Clot</td>\n",
       "      <td>161407</td>\n",
       "      <td>Ind�stria</td>\n",
       "      <td>0224 0224</td>\n",
       "      <td>Dimarts</td>\n",
       "      <td>2</td>\n",
       "      <td>...</td>\n",
       "      <td>10</td>\n",
       "      <td>Mat�</td>\n",
       "      <td>Altres</td>\n",
       "      <td>0</td>\n",
       "      <td>1</td>\n",
       "      <td>0</td>\n",
       "      <td>1</td>\n",
       "      <td>1</td>\n",
       "      <td>4584836,20</td>\n",
       "      <td>431302,26</td>\n",
       "    </tr>\n",
       "    <tr>\n",
       "      <th>4</th>\n",
       "      <td>2013S008254</td>\n",
       "      <td>10</td>\n",
       "      <td>Sant Mart�</td>\n",
       "      <td>101-10-64</td>\n",
       "      <td>el Camp de l'Arpa del Clot</td>\n",
       "      <td>161101</td>\n",
       "      <td>Independ�ncia</td>\n",
       "      <td>0357 0357</td>\n",
       "      <td>Dilluns</td>\n",
       "      <td>1</td>\n",
       "      <td>...</td>\n",
       "      <td>16</td>\n",
       "      <td>Tarda</td>\n",
       "      <td>Desconegut</td>\n",
       "      <td>0</td>\n",
       "      <td>1</td>\n",
       "      <td>0</td>\n",
       "      <td>1</td>\n",
       "      <td>2</td>\n",
       "      <td>4584704,26</td>\n",
       "      <td>431385,76</td>\n",
       "    </tr>\n",
       "  </tbody>\n",
       "</table>\n",
       "<p>5 rows × 25 columns</p>\n",
       "</div>"
      ],
      "text/plain": [
       "  N�mero d'expedient  Codi districte Nom districte   NK barri  \\\n",
       "0        2013S007360              -1    Desconegut   -1--1--1   \n",
       "1        2013S007723              10    Sant Mart�  101-10-64   \n",
       "2        2013S005373              10    Sant Mart�  101-10-64   \n",
       "3        2013S001486              10    Sant Mart�  101-10-64   \n",
       "4        2013S008254              10    Sant Mart�  101-10-64   \n",
       "\n",
       "                    Nom barri  Codi carrer     Nom carrer Num postal caption  \\\n",
       "0                  Desconegut           -1     Desconegut         Desconegut   \n",
       "1  el Camp de l'Arpa del Clot       152600       Guinard�          0028 0032   \n",
       "2  el Camp de l'Arpa del Clot       134801         Freser          0053 0053   \n",
       "3  el Camp de l'Arpa del Clot       161407      Ind�stria          0224 0224   \n",
       "4  el Camp de l'Arpa del Clot       161101  Independ�ncia          0357 0357   \n",
       "\n",
       "  Descripci� dia setmana  Dia de setmana  ... Hora de dia  Descripci� torn  \\\n",
       "0               Dimecres               3  ...          21            Tarda   \n",
       "1                Dimarts               2  ...          21            Tarda   \n",
       "2                Dimarts               2  ...          10             Mat�   \n",
       "3                Dimarts               2  ...          10             Mat�   \n",
       "4                Dilluns               1  ...          16            Tarda   \n",
       "\n",
       "          Descripci� causa vianant N�mero de morts  N�mero de lesionats lleus  \\\n",
       "0                       Desconegut               0                          1   \n",
       "1                       Desconegut               0                          1   \n",
       "2  Creuar per fora pas de vianants               0                          1   \n",
       "3                           Altres               0                          1   \n",
       "4                       Desconegut               0                          1   \n",
       "\n",
       "   N�mero de lesionats greus N�mero de v�ctimes N�mero de vehicles implicats  \\\n",
       "0                          0                  1                            2   \n",
       "1                          0                  1                            2   \n",
       "2                          0                  1                            1   \n",
       "3                          0                  1                            1   \n",
       "4                          0                  1                            2   \n",
       "\n",
       "   Coordenada UTM (Y)  Coordenada UTM (X)  \n",
       "0                  -1                  -1  \n",
       "1          4585218,67           431621,41  \n",
       "2          4585049,89           431605,09  \n",
       "3          4584836,20           431302,26  \n",
       "4          4584704,26           431385,76  \n",
       "\n",
       "[5 rows x 25 columns]"
      ]
     },
     "execution_count": 25,
     "metadata": {},
     "output_type": "execute_result"
    }
   ],
   "source": [
    "data.head()"
   ]
  },
  {
   "cell_type": "code",
   "execution_count": 26,
   "metadata": {},
   "outputs": [
    {
     "data": {
      "text/plain": [
       "Index(['N�mero d'expedient', 'Codi districte', 'Nom districte', 'NK barri',\n",
       "       'Nom barri', 'Codi carrer', 'Nom carrer', 'Num postal caption',\n",
       "       'Descripci� dia setmana', 'Dia de setmana', 'Descripci� tipus dia',\n",
       "       'NK Any', 'Mes de any', 'Nom mes', 'Dia de mes', 'Hora de dia',\n",
       "       'Descripci� torn', 'Descripci� causa vianant', 'N�mero de morts',\n",
       "       'N�mero de lesionats lleus', 'N�mero de lesionats greus',\n",
       "       'N�mero de v�ctimes', 'N�mero de vehicles implicats',\n",
       "       'Coordenada UTM (Y)', 'Coordenada UTM (X)'],\n",
       "      dtype='object')"
      ]
     },
     "execution_count": 26,
     "metadata": {},
     "output_type": "execute_result"
    }
   ],
   "source": [
    "data.columns"
   ]
  },
  {
   "cell_type": "code",
   "execution_count": 27,
   "metadata": {},
   "outputs": [],
   "source": [
    "import os\n",
    "import re\n",
    "import unicodedata\n",
    "\n",
    "\n",
    "def strip_accents(text:str) -> str:\n",
    "    \"\"\"\n",
    "    Strip accents from input String.\n",
    "    \n",
    "    arguments\n",
    "    ---------\n",
    "        text: text to be parsed\n",
    "    \n",
    "    returns\n",
    "    -------\n",
    "        text: parsed text with accents removed\n",
    "    \"\"\"\n",
    "    try:\n",
    "        text = unicode(text, 'utf-8')\n",
    "    except (TypeError, NameError): # unicode is a default on python 3 \n",
    "        pass\n",
    "    text = unicodedata.normalize('NFD', text)\n",
    "    text = text.encode('ascii', 'ignore')\n",
    "    text = text.decode(\"utf-8\")\n",
    "    return str(text)\n",
    "\n",
    "\n",
    "\n",
    "def parse_col_names(colnames_list: list) -> dict:\n",
    "    \"\"\"\n",
    "    Parses the column names to a standard format:\n",
    "    removes parentheses, slashes and $,\n",
    "    converts every character to lower case, and converts\n",
    "    blank spaces to `_`.\n",
    "    arguments\n",
    "    ---------\n",
    "        colnames_list: a list-like structure that haves\n",
    "            the current names of the columns to be parsed.\n",
    "    \n",
    "    returns\n",
    "    -------\n",
    "        new_col_names: a dictionary containing the old column names\n",
    "            and their respective parsed names.\n",
    "    \"\"\"\n",
    "    new_col_names = {key: 0 for key in colnames_list}\n",
    "    for key, value in new_col_names.items():\n",
    "        text = strip_accents(key.lower())\n",
    "        text = re.sub(' - ', '_', text)\n",
    "        text = re.sub('/[ ]+', '_', text)\n",
    "        text = re.sub('[ ]-+', '_', text)\n",
    "        text = re.sub('[. ]+', '_', text)\n",
    "        text = re.sub('[ ]+', '_', text)\n",
    "        text = re.sub('[-]+', '_', text)\n",
    "        text = re.sub('[^0-9a-zA-Z_-]', '', text)\n",
    "\n",
    "        # assign to dict key the new_col_name\n",
    "        new_col_names[key] = text\n",
    "        \n",
    "    # remove the _ left at the start and/or end of the string\n",
    "    for key, value in new_col_names.items():\n",
    "        text = re.sub('^_*|_*$', '', value)\n",
    "        new_col_names[key] = text\n",
    "        \n",
    "    return new_col_names"
   ]
  },
  {
   "cell_type": "code",
   "execution_count": 28,
   "metadata": {},
   "outputs": [],
   "source": [
    "data = data.rename(columns = parse_col_names(data.columns))"
   ]
  },
  {
   "cell_type": "code",
   "execution_count": 29,
   "metadata": {},
   "outputs": [],
   "source": [
    "data['date'] = data['dia_de_mes'].apply(lambda x: str(x)) + '-' + \\\n",
    "               data['mes_de_any'].apply(lambda x: str(x)) + '-'+ '2013'"
   ]
  },
  {
   "cell_type": "code",
   "execution_count": 30,
   "metadata": {},
   "outputs": [
    {
     "data": {
      "text/plain": [
       "0       16-10-2013\n",
       "1       29-10-2013\n",
       "2        23-7-2013\n",
       "3        26-2-2013\n",
       "4       18-11-2013\n",
       "           ...    \n",
       "9452    10-11-2013\n",
       "9453      5-9-2013\n",
       "9454     14-8-2013\n",
       "9455     20-2-2013\n",
       "9456     23-9-2013\n",
       "Name: date, Length: 9457, dtype: object"
      ]
     },
     "execution_count": 30,
     "metadata": {},
     "output_type": "execute_result"
    }
   ],
   "source": [
    "data['date']"
   ]
  },
  {
   "cell_type": "code",
   "execution_count": 31,
   "metadata": {},
   "outputs": [],
   "source": [
    "data['date'] = pd.to_datetime(data['date'])\n",
    "accidents = data.groupby(['date']).size()"
   ]
  },
  {
   "cell_type": "code",
   "execution_count": 32,
   "metadata": {},
   "outputs": [
    {
     "name": "stdout",
     "output_type": "stream",
     "text": [
      "25.90958904109589\n"
     ]
    }
   ],
   "source": [
    "print(accidents.mean())"
   ]
  },
  {
   "cell_type": "markdown",
   "metadata": {},
   "source": [
    "But now, for illustrative purposes, let us suppose that we only have access to a\n",
    "limited part of the data (the sample): the number of accidents during some days of\n",
    "2013. Can we still give an approximation of the population mean?\n",
    "The most intuitive way to go about providing such a mean is simply to take the\n",
    "sample mean. The sample mean is a point estimate of the population mean. If we can\n",
    "only choose one value to estimate the population mean, then this is our best guess.\n",
    "\n",
    "The problem we face is that estimates generally vary from one sample to another,\n",
    "and this sampling variation suggests our estimate may be close, but it will not be\n",
    "exactly equal to our parameter of interest. How can we measure this variability?\n",
    "\n",
    "In our example, because we have access to the population, we can empirically build\n",
    "the sampling distribution of the sample mean for a given number of observations.\n",
    "Then, we can use the sampling distribution to compute a measure of the variability."
   ]
  },
  {
   "cell_type": "code",
   "execution_count": 49,
   "metadata": {},
   "outputs": [
    {
     "name": "stdout",
     "output_type": "stream",
     "text": [
      "9999 / 10000\r"
     ]
    }
   ],
   "source": [
    "# making an empirical sample distribution of the mean\n",
    "# s = 100000, n = 200\n",
    "\n",
    "# population\n",
    "accs = accidents.to_frame()\n",
    "s = 10000; n = 200; means = []\n",
    "\n",
    "# sample generation\n",
    "for i in range(0, s):\n",
    "    print(f'{i:03d} / {s:03d}', end = '\\r')\n",
    "    rows = np.random.choice(accs.index.values, n)\n",
    "    sample = accidents.loc[rows]\n",
    "    means.append(sample.mean())"
   ]
  },
  {
   "cell_type": "code",
   "execution_count": 50,
   "metadata": {},
   "outputs": [],
   "source": [
    "means = pd.Series(means)"
   ]
  },
  {
   "cell_type": "code",
   "execution_count": 51,
   "metadata": {},
   "outputs": [
    {
     "data": {
      "image/png": "[encoded data removed]",
      "text/plain": [
       "<Figure size 432x288 with 1 Axes>"
      ]
     },
     "metadata": {
      "needs_background": "light"
     },
     "output_type": "display_data"
    }
   ],
   "source": [
    "import matplotlib.pyplot as plt\n",
    "means.plot.hist(bins = 30, edgecolor = 'k')\n",
    "plt.show()"
   ]
  },
  {
   "cell_type": "markdown",
   "metadata": {},
   "source": [
    "In general, given a point estimate from a sample of size n, we define its sampling\n",
    "distribution as the distribution of the point estimate based on samples of size n\n",
    "from its population. This definition is valid for point estimates of other population\n",
    "parameters, such as the population median or population standard deviation, but we\n",
    "will focus on the analysis of the sample mean.\n",
    "\n",
    "The sampling distribution of an estimate plays an important role in understanding\n",
    "the real meaning of propositions concerning point estimates. It is very useful to think\n",
    "of a particular point estimate as being drawn from such a distribution."
   ]
  },
  {
   "cell_type": "markdown",
   "metadata": {},
   "source": [
    "#### __The traditional approach__"
   ]
  },
  {
   "cell_type": "markdown",
   "metadata": {},
   "source": [
    "In real problems, we do not have access to the real population and so estimation\n",
    "of the sampling distribution of the estimate from the empirical distribution of the\n",
    "sample replications is not an option. But this problem can be solved by making use\n",
    "of some theoretical results from traditional statistics."
   ]
  },
  {
   "cell_type": "markdown",
   "metadata": {},
   "source": [
    "I can be mathematically shown that given _n_ independent observations\n",
    "$\\{x_i\\}_i = 1, 2, ...,n$ of a population with a standard deviation\n",
    "$\\sigma_x$, the standard deviation of the sample mean $\\sigma_\\bar{x}$,\n",
    "or _standard error_, can be approximated by:\n",
    "\n",
    "$$ SE = \\frac{\\sigma_x}{\\sqrt{n}} $$"
   ]
  },
  {
   "cell_type": "markdown",
   "metadata": {},
   "source": [
    "This formula uses the standard deviation of the population $\\sigma_x$ , which is not known,\n",
    "but it can be shown that if it is substituted by its empirical estimate $\\hat{\\sigma}_x $  , the estimation\n",
    "is sufficiently good if n > 30 and the population distribution is not skewed. This\n",
    "allows us to estimate the standard error of the sample mean even if we do not have\n",
    "access to the population.\n",
    "So, how can we give a measure of the variability of the sample mean? The answer\n",
    "is simple: by giving the empirical standard error of the mean distribution."
   ]
  },
  {
   "cell_type": "code",
   "execution_count": 36,
   "metadata": {},
   "outputs": [],
   "source": [
    "import math\n",
    "rows = np.random.choice(accs.index.values, 200)\n",
    "sample = accs.loc[rows]\n",
    "est_sigma_mean = sample.std() / math.sqrt(200)"
   ]
  },
  {
   "cell_type": "code",
   "execution_count": 53,
   "metadata": {},
   "outputs": [
    {
     "name": "stdout",
     "output_type": "stream",
     "text": [
      "direct estimation of SE from one sample of 200 elements:  0.6084563217498745\n",
      "estimation of the SE by simulating 1000 samples of 200 elements:  0.6379453367630725\n"
     ]
    }
   ],
   "source": [
    "print(\n",
    "    'direct estimation of SE from one sample of 200 elements: ', est_sigma_mean.mean()\n",
    ")\n",
    "\n",
    "print(\n",
    "    'estimation of the SE by simulating 1000 samples of 200 elements: ', np.array(means).std()\n",
    ")"
   ]
  },
  {
   "cell_type": "markdown",
   "metadata": {},
   "source": [
    "Unlike the case of the sample mean, there is no formula for the standard error of\n",
    "other interesting sample estimates, such as the median."
   ]
  },
  {
   "cell_type": "markdown",
   "metadata": {},
   "source": [
    "Unlike the case of the sample mean, there is no formula for the standard error of\n",
    "other interesting sample estimates, such as the median."
   ]
  },
  {
   "cell_type": "markdown",
   "metadata": {},
   "source": [
    "### __Computationally Intensive Approach__"
   ]
  },
  {
   "cell_type": "markdown",
   "metadata": {},
   "source": [
    "Let us consider from now that our full dataset is a sample from a hypothetical\n",
    "population (this is the most common situation when analyzing real data!).\n",
    "A modern alternative to the traditional approach to statistical inference is the\n",
    "_bootstrapping_ method. In the bootstrap, we draw _n_ observations with replacement\n",
    "from the original data to create a bootstrap sample or resample. Then, we can calculate\n",
    "the mean for this resample. By repeating this process a large number of times, we\n",
    "can build a good approximation of the mean sampling distribution."
   ]
  },
  {
   "cell_type": "code",
   "execution_count": 88,
   "metadata": {},
   "outputs": [
    {
     "name": "stdout",
     "output_type": "stream",
     "text": [
      "bstrp:  9999 / 10000| mean(sample): 26.6219\r"
     ]
    }
   ],
   "source": [
    "def mean_bootstrap(X, numberb):\n",
    "    x = [0] * numberb\n",
    "    for i in range(0, numberb):\n",
    "        sample = [\n",
    "            X[j] for j in np.random.randint(len(X), size = len(X))\n",
    "        ]\n",
    "        x[i] = np.mean(sample)\n",
    "        print(\n",
    "            f'bstrp: {i:5d} / {numberb:5d}| mean(sample): {np.mean(sample):4.4f}', end = '\\r'\n",
    "        )\n",
    "    return x\n",
    "\n",
    "m = mean_bootstrap(accidents, 10000)"
   ]
  },
  {
   "cell_type": "code",
   "execution_count": 90,
   "metadata": {},
   "outputs": [],
   "source": [
    "m_series = pd.Series(m)"
   ]
  },
  {
   "cell_type": "code",
   "execution_count": 89,
   "metadata": {},
   "outputs": [
    {
     "name": "stdout",
     "output_type": "stream",
     "text": [
      "mean estimate:  25.912499726027395\n"
     ]
    }
   ],
   "source": [
    "print('mean estimate: ', np.mean(m))"
   ]
  },
  {
   "cell_type": "code",
   "execution_count": 102,
   "metadata": {},
   "outputs": [
    {
     "data": {
      "image/png": "[encoded data removed]",
      "text/plain": [
       "<Figure size 432x288 with 1 Axes>"
      ]
     },
     "metadata": {
      "needs_background": "light"
     },
     "output_type": "display_data"
    }
   ],
   "source": [
    "m_series.hist(bins = 30, edgecolor = 'k')\n",
    "plt.axvline(m_series.mean(), color = 'r')\n",
    "plt.show()"
   ]
  },
  {
   "cell_type": "markdown",
   "metadata": {},
   "source": [
    "The basic idea of the bootstrapping method is that the observed sample contains\n",
    "sufficient information about the underlying distribution. So, the information we can\n",
    "extract from resampling the sample is a good approximation of what can be expected\n",
    "from resampling the population.\n",
    "The bootstrapping method can be applied to other simple estimates such as the\n",
    "median or the variance and also to more complex operations such as estimates of\n",
    "censored data."
   ]
  },
  {
   "cell_type": "markdown",
   "metadata": {},
   "source": [
    "### __Confidence Intervals__"
   ]
  },
  {
   "cell_type": "code",
   "execution_count": null,
   "metadata": {},
   "outputs": [],
   "source": []
  }
 ],
 "metadata": {
  "kernelspec": {
   "display_name": "Python 3.7.4 64-bit ('lab': virtualenv)",
   "language": "python",
   "name": "python37464bitlabvirtualenved77d976613b4753a84284c005b6ce98"
  },
  "language_info": {
   "codemirror_mode": {
    "name": "ipython",
    "version": 3
   },
   "file_extension": ".py",
   "mimetype": "text/x-python",
   "name": "python",
   "nbconvert_exporter": "python",
   "pygments_lexer": "ipython3",
   "version": "3.7.4"
  }
 },
 "nbformat": 4,
 "nbformat_minor": 4
}
