{
 "cells": [
  {
   "cell_type": "markdown",
   "metadata": {},
   "source": [
    "# __05 Supervised Learning__"
   ]
  },
  {
   "cell_type": "markdown",
   "metadata": {},
   "source": [
    "Machine learning involves coding programs that automatically adjust their perfor-\n",
    "mance in accordance with their exposure to information in data. This learning is\n",
    "achieved via a parameterized model with tunable parameters that are automatically\n",
    "adjusted according to different performance criteria. Machine learning can be con-\n",
    "sidered a subfield of artificial intelligence (AI) and we can roughly divide the field\n",
    "into the following three major classes.\n",
    "\n",
    "- __Supervised Learning__: Algorithms which learn from a training set of labeled\n",
    "  examples (exemplars) to generalize to the set of all possible inputs. Examples\n",
    "  of techniques in supervised learning:\n",
    "    - logistic regression\n",
    "    - support vector machines\n",
    "    - decision trees\n",
    "    - random forest\n",
    "    - etc\n",
    "- __Unsupervised Learning__: Algorithms that learn from a training set of unlabeled\n",
    "  examples. Used to explore data according to some statistical, geometric or\n",
    "  similarity criterion. Examples of unsupervised learning include:\n",
    "    - k-means clustering\n",
    "    - kernel density estimation\n",
    "    - etc\n",
    "- __Reincforcement learning__: Algorithms that learn via reinforcement from\n",
    "  criticism that provides information on the quality of a solution, but not\n",
    "  on how to improve it. Improved solutions are achieved by iteratively\n",
    "  exploring the solution space.\n",
    " "
   ]
  },
  {
   "cell_type": "markdown",
   "metadata": {},
   "source": [
    "### __The Problem__"
   ]
  },
  {
   "cell_type": "markdown",
   "metadata": {},
   "source": [
    "In this chapter we use data from the Lending Club to develop our understanding of\n",
    "machine learning concepts. The Lending Club is a peer-to-peer lending company.\n",
    "It offers loans which are funded by other people. In this sense, the Lending Club\n",
    "acts as a hub connecting borrowers with investors. The client applies for a loan of a\n",
    "certain amount, and the company assesses the risk of the operation. If the application\n",
    "is accepted, it may or may not be fully covered. We will focus on the prediction\n",
    "of whether the loan will be fully funded, based on the scoring of and information\n",
    "related to the application.\n",
    "We will use the partial dataset of period 2007–2011. Framing the problem a little\n",
    "bit more, based on the information supplied by the customer asking for a loan, we\n",
    "want to predict whether it will be granted up to a certain threshold thr . The attributes\n",
    "we use in this problem are related to some of the details of the loan application, such\n",
    "as amount of the loan applied for the borrower, monthly payment to be made by\n",
    "the borrower if the loan is accepted, the borrower’s annual income, the number of\n",
    "incidences of delinquency in the borrower’s credit file, and interest rate of the loan,\n",
    "among others.\n",
    "In this case we would like to predict unsuccessful accepted loans. A loan applica-\n",
    "tion is unsuccessful if the funded amount (funded_amnt) or the amount funded\n",
    "by investors (funded_amnt_inv) falls far short of the requested loan amount\n",
    "(loan_amnt). That is,\n",
    "\n",
    "$$ \\frac{loan - funded}{loan} \\ge 0.95$$"
   ]
  },
  {
   "cell_type": "markdown",
   "metadata": {},
   "source": [
    "Note that in this problem we are predicting a binary value: either the loan is fully\n",
    "funded or not. Classification is the natural choice of machine learning tools for\n",
    "prediction with discrete known outcomes. According to the cardinality of the target\n",
    "set, one usually distinguishes between binary classifiers when the target output only\n",
    "takes two values, i.e., the classifier answers questions with a yes or a no; or multiclass\n",
    "classifiers, for a larger number of classes. This issue is important in that not all\n",
    "methods can naturally handle the multiclass setting."
   ]
  },
  {
   "cell_type": "markdown",
   "metadata": {},
   "source": [
    "In a formal way, classification is regarded as the problem of finding a function \n",
    "$ h(\\mathbf{x}) = \\mathbb{R}^d \\rightarrow \\mathbb{K}$ that maps an input space in $\\mathbb{R}^d$\n",
    "onto a discrete set of k target outputs or classes $\\mathbb{K} = \\{1, 2, ..., k\\}$.\n",
    "In this setting, the features are arranged as a vector $\\mathbf{x}$ of $d$ real-valued numbers."
   ]
  },
  {
   "cell_type": "markdown",
   "metadata": {},
   "source": [
    "We can encode both target states in a numerical variable, e.g., a successful\n",
    "loan target can take value +1; -1 otherwise."
   ]
  },
  {
   "cell_type": "code",
   "execution_count": 1,
   "metadata": {},
   "outputs": [],
   "source": [
    "import pickle\n",
    "ofname = open('input/dataset_small.pkl', 'br')\n",
    "\n",
    "\n",
    "(x, y) = pickle.load(ofname, encoding = 'bytes')"
   ]
  },
  {
   "cell_type": "code",
   "execution_count": 2,
   "metadata": {},
   "outputs": [
    {
     "name": "stdout",
     "output_type": "stream",
     "text": [
      "dims: 15, samples: 4140\n"
     ]
    }
   ],
   "source": [
    "dims = x.shape[1]\n",
    "N = x.shape[0]\n",
    "print(f'dims: {dims}, samples: {N}')"
   ]
  },
  {
   "cell_type": "markdown",
   "metadata": {},
   "source": [
    "Considering data arranged as in the previous matrices we refer to:\n",
    "- The columns as features, attributes, dimensions, regressors, covariates, predictors\n",
    "  or independent variables.\n",
    "- the rows as instances, examples or samples\n",
    "- the target as the label, outcome, response or dependent variable.\n"
   ]
  },
  {
   "cell_type": "code",
   "execution_count": 3,
   "metadata": {},
   "outputs": [
    {
     "name": "stdout",
     "output_type": "stream",
     "text": [
      "predicted value: -1.0, real target: -1.0\n"
     ]
    }
   ],
   "source": [
    "# apply sk-learn libraries\n",
    "from sklearn import neighbors\n",
    "from sklearn import datasets\n",
    "\n",
    "# create an isntance of k-nearest neighbor classifier\n",
    "knn = neighbors.KNeighborsClassifier(n_neighbors = 11)\n",
    "\n",
    "# train the classifier\n",
    "knn.fit(x, y)\n",
    "\n",
    "# compute the prediction according to the model\n",
    "y_hat = knn.predict(x)\n",
    "\n",
    "# check results\n",
    "print(f'predicted value: {y_hat[-1]}, real target: {y[-1]}')"
   ]
  },
  {
   "cell_type": "markdown",
   "metadata": {},
   "source": [
    "The basic measure of performance of a classifier is its accuracy. This is defined as\n",
    "the number of correctly predicted examples divided by the total amount of examples.\n",
    "\n",
    "$$ acc = \\frac{\\mbox{Number of correct predictions}}{n} $$"
   ]
  },
  {
   "cell_type": "markdown",
   "metadata": {},
   "source": [
    "Each estimator has a score() method that invokes the default scoring metric.\n",
    "In the case of k-nearest neighbors, this is the classification accuracy."
   ]
  },
  {
   "cell_type": "code",
   "execution_count": 4,
   "metadata": {},
   "outputs": [
    {
     "data": {
      "text/plain": [
       "0.8316425120772947"
      ]
     },
     "execution_count": 4,
     "metadata": {},
     "output_type": "execute_result"
    }
   ],
   "source": [
    "knn.score(x, y)"
   ]
  },
  {
   "cell_type": "markdown",
   "metadata": {},
   "source": [
    "It looks like a really good result. But how good is it? Let us first understand a little\n",
    "bit more about the problem by checking the distribution of the labels.\n",
    "Let us load the dataset and check the distribution of labels:"
   ]
  },
  {
   "cell_type": "code",
   "execution_count": 5,
   "metadata": {},
   "outputs": [
    {
     "data": {
      "image/png": "[encoded data removed]",
      "text/plain": [
       "<Figure size 504x504 with 1 Axes>"
      ]
     },
     "metadata": {},
     "output_type": "display_data"
    }
   ],
   "source": [
    "import numpy as np\n",
    "import matplotlib.pyplot as plt\n",
    "\n",
    "plt.pie(\n",
    "    np.c_[np.sum(np.where(y == 1, 1, 0)), np.sum(np.where(y == -1, 1, 0))][0],\n",
    "    labels = ['Not fully funded', 'Full amount'],\n",
    "    colors = ['r', 'g'],\n",
    "    shadow = False,\n",
    "    autopct = '%.2f'\n",
    ")\n",
    "plt.gcf().set_size_inches((7, 7))"
   ]
  },
  {
   "cell_type": "markdown",
   "metadata": {},
   "source": [
    "ith the result observed in Fig. 5.1.\n",
    "Note that there are far more positive labels than negative ones. In this case, the\n",
    "dataset is referred to as unbalanced. This has important consequences for a classifier\n",
    "as we will see later on. In particular, a very simple rule such as always predict the\n",
    "majority class, will give us good performance. In our problem, always predicting\n",
    "that the loan will be fully funded correctly predicts 81.57% of the samples. Observe\n",
    "that this value is very close to that obtained using the classifier.\n",
    "Although accuracy is the most normal metric for evaluating classifiers, there are\n",
    "cases when the business value of correctly predicting elements from one class is\n",
    "different from the value for the prediction of elements of another class. In those\n",
    "cases, accuracy is not a good performance metric and more detailed analysis is\n",
    "needed. The confusion matrix enables us to define different metrics considering such\n",
    "scenarios. The confusion matrix considers the concepts of the classifier outcome and\n",
    "the actual ground truth or gold standard. In a binary problem, there are four possible\n",
    "cases:"
   ]
  },
  {
   "cell_type": "markdown",
   "metadata": {},
   "source": [
    "* __True Positives (TP)__: When the classifier predicts a sample as positive\n",
    "  and it really is positive.\n",
    "* __False Positives (FP)__: When the classifier predicts a sample as positive\n",
    "  but in fact it is negative.\n",
    "* __True Negative (TN)__: When the classifier predicts a sample as negative\n",
    "  and it really is negative\n",
    "* __False Negative (FN)__: When the classifier predicts a sample as negative\n",
    "  but in fact it is positive.\n",
    "  "
   ]
  },
  {
   "cell_type": "markdown",
   "metadata": {},
   "source": [
    "<img src=\"images/conmatr.png\">,"
   ]
  },
  {
   "cell_type": "markdown",
   "metadata": {},
   "source": [
    "A combination of these elements allows us to define several perfromance metrics:\n",
    "- _Accuracyy_:\n",
    "$$ \\mbox{accuracy} = \\frac{TP + TN}{TP + TN + FP + FN}$$\n",
    "\n",
    "- Column-wise we find these two partial performance emtrics:\n",
    "    - _Sensitivity_ or _Recall_:\n",
    "    $$ \\mbox{sensitivity} = \\frac{TP}{\\mbox{Real Positives}} = \\frac{TP}{TP + FN} $$\n",
    "    - _Specificity_:\n",
    "    $$ \\mbox{specificity} = \\frac{TN}{\\mbox{Real Negatives}} = \\frac{TP}{TN + FP} $$\n",
    "    \n",
    "- Row-wise we find these two partial performance emtrics:\n",
    "    - _Precision or Positive Predictive Value_:\n",
    "    $$ \\mbox{precision} = \\frac{TP}{\\mbox{Predicted Positives}} = \\frac{TP}{TP + FP} $$\n",
    "    - _Negative Predictive Value_:\n",
    "    $$ \\mbox{NPC} = \\frac{TN}{\\mbox{Predicted Negatives}} = \\frac{TP}{TN + FN} $$"
   ]
  },
  {
   "cell_type": "markdown",
   "metadata": {},
   "source": [
    "These partial performance metrics allow us to answer questions concerning how\n",
    "often a classifier predicts a particular class, e.g., what is the rate of predictions for\n",
    "not fully funded loans that have actually not been fully funded? This question is\n",
    "answered by recall. In contrast, we could ask: Of all the fully funded loans predicted\n",
    "by the classifier, how many have been fully funded? This is answered by the precision\n",
    "metric."
   ]
  },
  {
   "cell_type": "code",
   "execution_count": 6,
   "metadata": {},
   "outputs": [
    {
     "data": {
      "text/plain": [
       "array([[3370,  690],\n",
       "       [   7,   73]])"
      ]
     },
     "execution_count": 6,
     "metadata": {},
     "output_type": "execute_result"
    }
   ],
   "source": [
    "from sklearn import metrics\n",
    "metrics.confusion_matrix(y_hat, y)"
   ]
  },
  {
   "cell_type": "markdown",
   "metadata": {},
   "source": [
    "Let us check the following example. Let us select a nearest neighbor classifier\n",
    "with the number of neighbors equal to one instead of eleven, as we did before, and\n",
    "check the training error."
   ]
  },
  {
   "cell_type": "code",
   "execution_count": 7,
   "metadata": {},
   "outputs": [
    {
     "name": "stdout",
     "output_type": "stream",
     "text": [
      "accuracy: 1.0\n",
      "confusion matrix:\n",
      "[[3377    0]\n",
      " [   0  763]]\n"
     ]
    }
   ],
   "source": [
    "# train a classifier\n",
    "knn = neighbors.KNeighborsClassifier(n_neighbors = 1)\n",
    "knn.fit(x, y)\n",
    "y_hat = knn.predict(x)\n",
    "\n",
    "print(f'accuracy: {metrics.accuracy_score(y_hat, y)}')\n",
    "print(f'confusion matrix:\\n{metrics.confusion_matrix(y_hat, y)}')"
   ]
  },
  {
   "cell_type": "markdown",
   "metadata": {},
   "source": [
    "The performance measure is perfect! 100% accuracy and a diagonal confusion\n",
    "matrix! This looks good. However, up to this point we have checked the classifier\n",
    "performance on the same data it has been trained with. During exploitation, in real\n",
    "applications, we will use the classifier on data not previously seen. Let us simulate\n",
    "this effect by splitting the data into two sets: one will be used for learning (training\n",
    "set) and the other for testing the accuracy (test set)."
   ]
  },
  {
   "cell_type": "code",
   "execution_count": 8,
   "metadata": {},
   "outputs": [],
   "source": [
    "# simulate a real case: Randomize and split data into\n",
    "# two subsets PRC * 100 \\% for training and the rest\n",
    "# (1 - PRC) * 100 \\% for testing\n",
    "perm = np.random.permutation(y.size)\n",
    "PRC = 0.7\n",
    "split_point = int(np.ceil(y.shape[0] * PRC))\n",
    "\n",
    "X_train = x[perm[:split_point].ravel(), :]\n",
    "y_train = y[perm[:split_point].ravel()]\n",
    "\n",
    "X_test = x[perm[split_point:].ravel(), :]\n",
    "y_test = y[perm[split_point:].ravel()]"
   ]
  },
  {
   "cell_type": "code",
   "execution_count": 9,
   "metadata": {},
   "outputs": [
    {
     "name": "stdout",
     "output_type": "stream",
     "text": [
      "training stats:\n",
      "classification accuracy: 1.0\n",
      "confusion matrix:\n",
      "[[2365    0]\n",
      " [   0  533]]\n"
     ]
    }
   ],
   "source": [
    "# let's train the model with this new partition\n",
    "# train a classifier on training data\n",
    "knn = neighbors.KNeighborsClassifier(n_neighbors = 1)\n",
    "knn.fit(X_train, y_train)\n",
    "y_hat = knn.predict(X_train)\n",
    "\n",
    "print('training stats:')\n",
    "print(f'classification accuracy: {metrics.accuracy_score(y_train, y_hat)}')\n",
    "print(f'confusion matrix:\\n{metrics.confusion_matrix(y_train, y_hat)}')"
   ]
  },
  {
   "cell_type": "markdown",
   "metadata": {},
   "source": [
    "As expected from the former experiment, we achieve a perfect score. Now let us\n",
    "see what happens in the simulation with previously unseen data"
   ]
  },
  {
   "cell_type": "code",
   "execution_count": 10,
   "metadata": {},
   "outputs": [
    {
     "name": "stdout",
     "output_type": "stream",
     "text": [
      "training stats:\n",
      "classification accuracy: 0.7624798711755234\n",
      "confusion matrix:\n",
      "[[874 138]\n",
      " [157  73]]\n"
     ]
    }
   ],
   "source": [
    "# check on the test set\n",
    "y_hat = knn.predict(X_test)\n",
    "\n",
    "print('training stats:')\n",
    "print(f'classification accuracy: {metrics.accuracy_score(y_test, y_hat)}')\n",
    "print(f'confusion matrix:\\n{metrics.confusion_matrix(y_test, y_hat)}')"
   ]
  },
  {
   "cell_type": "markdown",
   "metadata": {},
   "source": [
    "A good simulation for approximating the test error is to run this process many times and average the performances."
   ]
  },
  {
   "cell_type": "code",
   "execution_count": 11,
   "metadata": {},
   "outputs": [
    {
     "name": "stdout",
     "output_type": "stream",
     "text": [
      "mean expected error: 0.749\n"
     ]
    }
   ],
   "source": [
    "# splitting done by using the tools provided by sklearn\n",
    "from sklearn.model_selection import train_test_split\n",
    "\n",
    "PRC = 0.3\n",
    "acc = np.zeros((10,))\n",
    "for i in range(0, 10):\n",
    "    X_train, X_test, y_train, y_test = train_test_split(x, y, test_size = PRC)\n",
    "    knn = neighbors.KNeighborsClassifier(n_neighbors = 1)\n",
    "    knn.fit(X_train, y_train)\n",
    "    y_hat = knn.predict(X_test)\n",
    "    acc[i] = metrics.accuracy_score(y_hat, y_test)\n",
    "    \n",
    "acc.shape = (1, 10)\n",
    "print(f'mean expected error: {np.mean(acc[0]):.3F}')"
   ]
  },
  {
   "cell_type": "markdown",
   "metadata": {},
   "source": [
    "As we can see, the resulting error is below 81%, which was the result of the most\n",
    "naive decision process. What is wrong with this result?\n",
    "Let us introduce the nomenclature for the quantities we have just computed and\n",
    "define the following terms."
   ]
  },
  {
   "cell_type": "markdown",
   "metadata": {},
   "source": [
    "- __In-sample error__ $E_{in}$: The in.sample error or training error is the error\n",
    "  measured over all the observed data samples in the training set, i.e.,\n",
    "  \n",
    "  $$ E_{in} = \\frac{1}{N}\\sum_{i = 1}^{N} e(x_i, y_i) $$\n",
    "  \n",
    "- __Out-of-sample error__ $E_{out}: he out-of-sample error or generalization error mea-\n",
    "    sures the expected error on unseen data. We can approximate/simulate this quantity\n",
    "    by holding back some training data for testing purposes.\n",
    "   \n",
    "  $$ E_{out} = \\mathbb{E}_{x, y} (e(x, y)) $$\n",
    "  \n",
    "Note that the definition of the instantaneous error e(x i , y i ) is still missing. For\n",
    "example, in classification we could use the indicator function to account for a cor-\n",
    "rectly classified sample as follows:\n",
    "\n",
    "$$ e(x_i, y_i) = I[h(x_i) = y_i] = \\begin{cases}\n",
    "        \\begin{array}{lcl}\n",
    "        1, \\mbox{if  } h(x_i) = y_i \\\\\n",
    "        0 \\mbox{  otherwise}\n",
    "        \\end{array}\n",
    "\\end{cases}  $$\n",
    "\n",
    "Observe that:\n",
    "\n",
    "$$  E_{out} \\ge E_{in} $$"
   ]
  },
  {
   "cell_type": "code",
   "execution_count": 12,
   "metadata": {},
   "outputs": [],
   "source": [
    "# select \"best model\" by choosing the one with\n",
    "# lowest error rate\n",
    "from sklearn import tree\n",
    "from sklearn import svm\n",
    "\n",
    "PRC = 0.1\n",
    "acc_r = np.zeros((10, 4))\n",
    "\n",
    "for i in range(0, 10):\n",
    "    X_train, X_test, y_train, y_test = train_test_split(x, y, test_size = PRC)\n",
    "    nn1 = neighbors.KNeighborsClassifier(n_neighbors = 1)\n",
    "    nn3 = neighbors.KNeighborsClassifier(n_neighbors = 3)\n",
    "    svc = svm.SVC()\n",
    "    dt = tree.DecisionTreeClassifier()\n",
    "    \n",
    "    nn1.fit(X_train, y_train)\n",
    "    nn3.fit(X_train, y_train)\n",
    "    svc.fit(X_train, y_train)\n",
    "    dt.fit(X_train, y_train)\n",
    "    \n",
    "    yhat_nn1 = nn1.predict(X_test)\n",
    "    yhat_nn3 = nn3.predict(X_test)\n",
    "    yhat_svc = svc.predict(X_test)\n",
    "    yhat_dt = dt.predict(X_test)\n",
    "    \n",
    "    acc_r[i][0] = metrics.accuracy_score(yhat_nn1, y_test)\n",
    "    acc_r[i][1] = metrics.accuracy_score(yhat_nn3, y_test)\n",
    "    acc_r[i][2] = metrics.accuracy_score(yhat_svc, y_test)\n",
    "    acc_r[i][3] = metrics.accuracy_score(yhat_dt, y_test)"
   ]
  },
  {
   "cell_type": "code",
   "execution_count": 13,
   "metadata": {},
   "outputs": [
    {
     "data": {
      "text/plain": [
       "array([[0.7705314 , 0.78019324, 0.8115942 , 0.76811594],\n",
       "       [0.78019324, 0.8236715 , 0.81884058, 0.80434783],\n",
       "       [0.7705314 , 0.79710145, 0.81642512, 0.76570048],\n",
       "       [0.74637681, 0.78019324, 0.80434783, 0.77777778],\n",
       "       [0.80434783, 0.81642512, 0.8236715 , 0.76328502],\n",
       "       [0.77294686, 0.79227053, 0.82608696, 0.80193237],\n",
       "       [0.76086957, 0.7705314 , 0.79468599, 0.75603865],\n",
       "       [0.76086957, 0.80193237, 0.83091787, 0.76086957],\n",
       "       [0.76811594, 0.78743961, 0.80434783, 0.74879227],\n",
       "       [0.76811594, 0.8115942 , 0.83816425, 0.7705314 ]])"
      ]
     },
     "execution_count": 13,
     "metadata": {},
     "output_type": "execute_result"
    }
   ],
   "source": [
    "acc_r"
   ]
  },
  {
   "cell_type": "code",
   "execution_count": 14,
   "metadata": {},
   "outputs": [
    {
     "data": {
      "image/png": "[encoded data removed]",
      "text/plain": [
       "<Figure size 432x288 with 1 Axes>"
      ]
     },
     "metadata": {
      "needs_background": "light"
     },
     "output_type": "display_data"
    }
   ],
   "source": [
    "plt.boxplot(\n",
    "    acc_r, whis=True,\n",
    "    showcaps=True,\n",
    "    labels=('1-NN', '3-NN', 'SVM', 'Decision Tree'),\n",
    "    patch_artist=True,\n",
    ")\n",
    "plt.show()"
   ]
  },
  {
   "cell_type": "markdown",
   "metadata": {},
   "source": [
    "This process is one particular form of a general model selection technique called\n",
    "cross-validation. There are other kinds of cross-validation, such as leave-one-out or\n",
    "K-fold cross-validation.\n",
    " - In leave-one-out, given N samples, the model is trained with N − 1 samples and\n",
    "tested with the remaining one. This is repeated N times, once per training sample\n",
    "and the result is averaged.\n",
    " - In K-fold cross-validation, the training set is divided into K nonoverlapping splits.\n",
    "K-1 splits are used for training and the remaining one used to assess the mean.\n",
    "This process is repeated K times leaving one split out each time. The results are\n",
    "then averaged."
   ]
  },
  {
   "cell_type": "markdown",
   "metadata": {},
   "source": [
    "## What is Learning?\n",
    "Let us recall the two basic values defined in the last section. We talk of training error\n",
    "or in-sample error, $E_{in}$ , which refers to the error measured over all the observed data\n",
    "samples in the training set. We also talk of test error or generalization error, $E_{out}$ ,\n",
    "as the error expected on unseen data.\n",
    "We can empirically estimate the generalization error by means of cross-validation\n",
    "techniques and observe that:\n",
    "\n",
    "$$ E_{out} \\ge E_{in} $$\n",
    "\n",
    "The goal of learning is to minimize the generalization error; but how can we\n",
    "guarantee this minimization using only training data?\n",
    "From the above inequality it is easy to derive a couple of very intuitive ideas.\n",
    "\n",
    " - Because $E_{out}$ is greater than or equal to $E_{in}$ it is desirible to have\n",
    " $$ E_{in} \\rightarrow 0 $$\n",
    " \n",
    " - Addidionally, we also want the training error behaviour to track the\n",
    "   generalization error so tha tif one minimizes the n-sample error the out-of-sample\n",
    "   error follows, i.e.,\n",
    " $$ E_{out} \\approx E_{in} $$\n",
    " \n",
    " We can write the second condition as\n",
    " $$ E_{in} \\le E_{out} \\le E_{in} + \\Omega $$\n",
    " \n",
    " with $\\Omega \\rightarrow 0 $.\n",
    " \n",
    "We would like to characterize $\\Omega$ in terms of oyr problem parameters, i.e., \n",
    "the number of samples (N), dimensionality of the problem (d), etc.\n",
    "Statistical analysis offers an interesting characterization of this quantity\n",
    "\n",
    "$$ E_{out} \\le E_{in}(C) + \\mathcal{O} \\Big( \\sqrt{\\frac{log C}{N}} \\Big)$$\n",
    "\n",
    "Where $C$ is a measure of the complexity of the model class we are using. Technically,\n",
    "we may also refer to this model class as the hypothesis space."
   ]
  },
  {
   "cell_type": "markdown",
   "metadata": {},
   "source": [
    "## Cross Validation in Practice"
   ]
  },
  {
   "cell_type": "code",
   "execution_count": 24,
   "metadata": {},
   "outputs": [],
   "source": [
    "# create a 10-fold cross-valdiation set\n",
    "from sklearn.model_selection import KFold\n",
    "kf = KFold(\n",
    "    n_splits = 10,\n",
    "    shuffle = True,\n",
    "    random_state=0\n",
    ")\n",
    "\n",
    "# search for the parameter among the following\n",
    "C = np.arange(2, 20)\n",
    "\n",
    "acc = np.zeros((10, 18))\n",
    "i = 0\n",
    "for train_index, val_index in kf.split(x):\n",
    "    X_train, X_val = x[train_index], x[val_index]\n",
    "    y_train, y_val = y[train_index], y[val_index]\n",
    "    j = 0\n",
    "    for c in C:\n",
    "        dt = tree.DecisionTreeClassifier(\n",
    "            min_samples_leaf=1,\n",
    "            max_depth=c\n",
    "        )\n",
    "        dt.fit(X_train, y_train)\n",
    "        yhat = dt.predict(X_val)\n",
    "        acc[i][j] = metrics.accuracy_score(yhat, y_val)\n",
    "        j = j + 1\n",
    "    i = i + 1"
   ]
  },
  {
   "cell_type": "code",
   "execution_count": 42,
   "metadata": {},
   "outputs": [
    {
     "name": "stdout",
     "output_type": "stream",
     "text": [
      "mean accuracy:  [0.81460707 0.81370163 0.80947203 0.80312853 0.80071707 0.79618899\n",
      " 0.79105576 0.78471408 0.78290412 0.7780712  0.76750264 0.76871656\n",
      " 0.76418666 0.76057038 0.75392294 0.75604048 0.75241419 0.7460807 ]\n",
      "selected model index: 0\n"
     ]
    }
   ],
   "source": [
    "# train_Test split\n",
    "X = x.copy()\n",
    "X_train, X_test, y_train, y_test = train_test_split(X, y, test_size = 0.20)\n",
    "\n",
    "# create a 10-fold cross-validation set\n",
    "fold = KFold(\n",
    "    n_splits=10,\n",
    "    shuffle=True,\n",
    "    random_state=0\n",
    ")\n",
    "\n",
    "# search the parameter among the following\n",
    "C = np.arange(2, 20)\n",
    "acc = np.zeros((10, 18))\n",
    "i = 0\n",
    "for train_index, val_index in fold.split(X_train):\n",
    "    X_t, X_val = X_train[train_index - 1], X_train[val_index - 1]\n",
    "    y_t, y_val = y_train[train_index], y_train[val_index]\n",
    "    j = 0\n",
    "    for c in C:\n",
    "        dt = tree.DecisionTreeClassifier(\n",
    "            min_samples_leaf=1,\n",
    "            max_depth = c\n",
    "        )\n",
    "        dt.fit(X_t, y_t)\n",
    "        yhat = dt.predict(X_val)\n",
    "        acc[i][j] = metrics.accuracy_score(yhat, y_val)\n",
    "        j = j + 1\n",
    "    i = i + 1\n",
    "\n",
    "print('mean accuracy: ', np.mean(acc, axis = 0))\n",
    "\n",
    "print('selected model index:', np.argmax(np.mean(acc, axis = 0)))"
   ]
  },
  {
   "cell_type": "code",
   "execution_count": 43,
   "metadata": {},
   "outputs": [
    {
     "name": "stdout",
     "output_type": "stream",
     "text": [
      "test accuracy:  0.8236714975845411\n"
     ]
    }
   ],
   "source": [
    "# train the model with the complete trainin set \n",
    "# with the selected complexity\n",
    "dt = tree.DecisionTreeClassifier(\n",
    "    min_samples_leaf=1,\n",
    "    max_depth=C[np.argmax(np.mean(acc, axis = 0))]\n",
    ")\n",
    "dt.fit(X_train, y_train)\n",
    "\n",
    "# test the model with the test set\n",
    "yhat = dt.predict(X_test)\n",
    "print('test accuracy: ', metrics.accuracy_score(yhat, y_test))"
   ]
  },
  {
   "cell_type": "code",
   "execution_count": 44,
   "metadata": {},
   "outputs": [
    {
     "data": {
      "text/plain": [
       "DecisionTreeClassifier(ccp_alpha=0.0, class_weight=None, criterion='gini',\n",
       "                       max_depth=2, max_features=None, max_leaf_nodes=None,\n",
       "                       min_impurity_decrease=0.0, min_impurity_split=None,\n",
       "                       min_samples_leaf=1, min_samples_split=2,\n",
       "                       min_weight_fraction_leaf=0.0, presort='deprecated',\n",
       "                       random_state=None, splitter='best')"
      ]
     },
     "execution_count": 44,
     "metadata": {},
     "output_type": "execute_result"
    }
   ],
   "source": [
    "# train final model\n",
    "dt = tree.DecisionTreeClassifier(\n",
    "    min_samples_leaf = 1,\n",
    "    max_depth = C[np.argmax(np.mean(acc, axis = 0))]\n",
    ")\n",
    "dt.fit(X, y)"
   ]
  },
  {
   "cell_type": "markdown",
   "metadata": {},
   "source": [
    "## Generalities Concerning Learning Models\n",
    "Before going into some of the details of the models selected, let us check the com-\n",
    "ponents of any learning algorithm. In order to be able to learn, an algorithm has to\n",
    "define at least three components:\n",
    "\n",
    "- _The model class/hypothesis space_ defines the family of mathematical models that will\n",
    "  be used. The target decision boundary will be approximated from one element of this\n",
    "  space. For example, we can consider the class of lienar models. In this case our decision\n",
    "  boundary will be a line if the problem is defined in __R²__ and the model class is the space of all\n",
    "  possible lines in __R²__.\n",
    "  Model classes define the geometric properties of the decision function. There are different\n",
    "  taxonomies but the best known are the families of _linear_ and _nonlinear_ models.\n",
    "  These families usually depend on some parameters; and the solution to a learning problem\n",
    "  is the selection of a particular set of parameters, i.e., the selection of an instance\n",
    "  of a model from the model class space. The model class space is also\n",
    "  called the _hypothesis space_.\n",
    "  The selection of the best model will depend on our problem and what we want to obtain from the problem.\n",
    "  The primary goal in learning is usually to achieve the minimum error/maximum performance; but\n",
    "  according to what else we want from the algorithm, we can come up with different algorithms.\n",
    "  Other common desireble properties are interpretability, behaviour when faced with missing data,\n",
    "  fast training, etc.\n",
    "  \n",
    "- _The problem model_ formalizes and encodes the desired properties of the solution.\n",
    "  In many cases, this formalization takes the form of an optimization problem. In its most\n",
    "  basic instantiation, the problem model can be the _minimization of an error function_. The error\n",
    "  function measures the difference between oyr mdoel and the target. Informally speaking, in a\n",
    "  classifiaction problem it measures how \"irritated\" we are when our model misses the right\n",
    "  label for a training sample.\n",
    "  The problem model can also be sued to impose other constraints on our solution, such as finding\n",
    "  a smooth approximation, a model with a low degree of small complexity, a sparse colution, etc.\n",
    "  \n",
    "- _The learning algorithm_ is an optimization/search method or algorithm that, given a model class,\n",
    "  fits it to the training data ccording to the error function. According to the nature of our\n",
    "  problem there are many different algorithms. In general, we are talking about finding the minimum\n",
    "  error approximation or maximum probable model. In those cases, if the problem is convex/quasi-convex\n",
    "  we will typically use first-or second order methods (i.e., gradient descent, coordinate descent,\n",
    "  Newton's method, interior point methods, etc). Other searching techniques such as genetic algorithms\n",
    "  or Monte Carlo techniques can be used if we do not have access to the derivatives of the\n",
    "  objective function."
   ]
  },
  {
   "cell_type": "markdown",
   "metadata": {},
   "source": [
    "### __GridSearch validation on SVMs and Random Forests__"
   ]
  },
  {
   "cell_type": "code",
   "execution_count": 47,
   "metadata": {},
   "outputs": [
    {
     "name": "stdout",
     "output_type": "stream",
     "text": [
      "0.856280193236715\n",
      "[[3372  590]\n",
      " [   5  173]]\n"
     ]
    }
   ],
   "source": [
    "from sklearn.preprocessing import StandardScaler\n",
    "from sklearn.model_selection import GridSearchCV\n",
    "\n",
    "parameters = {\n",
    "    'C': [1e4, 1e5, 1e6],\n",
    "    'gamma': [1e-5, 1e-4, 1e-3]\n",
    "}\n",
    "\n",
    "kf = KFold(\n",
    "    n_splits = 5,\n",
    "    shuffle=True,\n",
    "    random_state=0\n",
    ")\n",
    "\n",
    "acc = np.zeros((5, ))\n",
    "i = 0\n",
    "\n",
    "# we will build the predicted y from the partial\n",
    "# predictions on the test of each of the folds\n",
    "yhat = y.copy()\n",
    "for train_index, test_index in kf.split(X):\n",
    "    X_train, X_test = X[train_index, :], X[test_index, :]\n",
    "    y_train, y_test = y[train_index], y[test_index]\n",
    "    scaler = StandardScaler()\n",
    "    X_train = scaler.fit_transform(X_train)\n",
    "    clf = svm.SVC(kernel = 'rbf')\n",
    "    clf = GridSearchCV(clf, parameters, cv = 3)\n",
    "    clf.fit(X_train, y_train.ravel())\n",
    "    X_test = scaler.transform(X_test)\n",
    "    yhat[test_index] = clf.predict(X_test)\n",
    "    \n",
    "print(metrics.accuracy_score(yhat, y))\n",
    "print(metrics.confusion_matrix(yhat, y))"
   ]
  },
  {
   "cell_type": "markdown",
   "metadata": {},
   "source": [
    "The result obtained has a large error in the non-fully funded class (negative). This\n",
    "is because the default scoring for cross-validation grid-search is mean accuracy.\n",
    "Depending on our business, this large error in recall for this class may be unaccept-\n",
    "able. There are different strategies for diminishing the impact of this effect. On the\n",
    "one hand, we may change the default scoring and find the parameter setting that cor-\n",
    "responds to the maximum average recall. On the other hand, we could mitigate this\n",
    "effect by imposing a different weight on an error on the critical class."
   ]
  },
  {
   "cell_type": "code",
   "execution_count": null,
   "metadata": {},
   "outputs": [],
   "source": []
  }
 ],
 "metadata": {
  "kernelspec": {
   "display_name": "Python 3.7.4 64-bit ('lab': virtualenv)",
   "language": "python",
   "name": "python37464bitlabvirtualenved77d976613b4753a84284c005b6ce98"
  },
  "language_info": {
   "codemirror_mode": {
    "name": "ipython",
    "version": 3
   },
   "file_extension": ".py",
   "mimetype": "text/x-python",
   "name": "python",
   "nbconvert_exporter": "python",
   "pygments_lexer": "ipython3",
   "version": "3.7.4"
  }
 },
 "nbformat": 4,
 "nbformat_minor": 4
}
