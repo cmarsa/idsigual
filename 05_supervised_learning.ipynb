{
 "cells": [
  {
   "cell_type": "markdown",
   "metadata": {},
   "source": [
    "# __05 Supervised Learning__"
   ]
  },
  {
   "cell_type": "markdown",
   "metadata": {},
   "source": [
    "Machine learning involves coding programs that automatically adjust their perfor-\n",
    "mance in accordance with their exposure to information in data. This learning is\n",
    "achieved via a parameterized model with tunable parameters that are automatically\n",
    "adjusted according to different performance criteria. Machine learning can be con-\n",
    "sidered a subfield of artificial intelligence (AI) and we can roughly divide the field\n",
    "into the following three major classes.\n",
    "\n",
    "- __Supervised Learning__: Algorithms which learn from a training set of labeled\n",
    "  examples (exemplars) to generalize to the set of all possible inputs. Examples\n",
    "  of techniques in supervised learning:\n",
    "    - logistic regression\n",
    "    - support vector machines\n",
    "    - decision trees\n",
    "    - random forest\n",
    "    - etc\n",
    "- __Unsupervised Learning__: Algorithms that learn from a training set of unlabeled\n",
    "  examples. Used to explore data according to some statistical, geometric or\n",
    "  similarity criterion. Examples of unsupervised learning include:\n",
    "    - k-means clustering\n",
    "    - kernel density estimation\n",
    "    - etc\n",
    "- __Reincforcement learning__: Algorithms that learn via reinforcement from\n",
    "  criticism that provides information on the quality of a solution, but not\n",
    "  on how to improve it. Improved solutions are achieved by iteratively\n",
    "  exploring the solution space.\n",
    " "
   ]
  },
  {
   "cell_type": "markdown",
   "metadata": {},
   "source": [
    "### __The Problem__"
   ]
  },
  {
   "cell_type": "markdown",
   "metadata": {},
   "source": [
    "In this chapter we use data from the Lending Club to develop our understanding of\n",
    "machine learning concepts. The Lending Club is a peer-to-peer lending company.\n",
    "It offers loans which are funded by other people. In this sense, the Lending Club\n",
    "acts as a hub connecting borrowers with investors. The client applies for a loan of a\n",
    "certain amount, and the company assesses the risk of the operation. If the application\n",
    "is accepted, it may or may not be fully covered. We will focus on the prediction\n",
    "of whether the loan will be fully funded, based on the scoring of and information\n",
    "related to the application.\n",
    "We will use the partial dataset of period 2007–2011. Framing the problem a little\n",
    "bit more, based on the information supplied by the customer asking for a loan, we\n",
    "want to predict whether it will be granted up to a certain threshold thr . The attributes\n",
    "we use in this problem are related to some of the details of the loan application, such\n",
    "as amount of the loan applied for the borrower, monthly payment to be made by\n",
    "the borrower if the loan is accepted, the borrower’s annual income, the number of\n",
    "incidences of delinquency in the borrower’s credit file, and interest rate of the loan,\n",
    "among others.\n",
    "In this case we would like to predict unsuccessful accepted loans. A loan applica-\n",
    "tion is unsuccessful if the funded amount (funded_amnt) or the amount funded\n",
    "by investors (funded_amnt_inv) falls far short of the requested loan amount\n",
    "(loan_amnt). That is,\n",
    "\n",
    "$$ \\frac{loan - funded}{loan} \\ge 0.95$$"
   ]
  },
  {
   "cell_type": "markdown",
   "metadata": {},
   "source": [
    "Note that in this problem we are predicting a binary value: either the loan is fully\n",
    "funded or not. Classification is the natural choice of machine learning tools for\n",
    "prediction with discrete known outcomes. According to the cardinality of the target\n",
    "set, one usually distinguishes between binary classifiers when the target output only\n",
    "takes two values, i.e., the classifier answers questions with a yes or a no; or multiclass\n",
    "classifiers, for a larger number of classes. This issue is important in that not all\n",
    "methods can naturally handle the multiclass setting."
   ]
  },
  {
   "cell_type": "markdown",
   "metadata": {},
   "source": [
    "In a formal way, classification is regarded as the problem of finding a function \n",
    "$ h(\\mathbf{x}) = \\mathbb{R}^d \\rightarrow \\mathbb{K}$ that maps an input space in $\\mathbb{R}^d$\n",
    "onto a discrete set of k target outputs or classes $\\mathbb{K} = \\{1, 2, ..., k\\}$.\n",
    "In this setting, the features are arranged as a vector $\\mathbf{x}$ of $d$ real-valued numbers."
   ]
  },
  {
   "cell_type": "markdown",
   "metadata": {},
   "source": [
    "We can encode both target states in a numerical variable, e.g., a successful\n",
    "loan target can take value +1; -1 otherwise."
   ]
  },
  {
   "cell_type": "code",
   "execution_count": 23,
   "metadata": {},
   "outputs": [],
   "source": [
    "import pickle\n",
    "ofname = open('input/dataset_small.pkl', 'br')\n",
    "\n",
    "\n",
    "(x, y) = pickle.load(ofname, encoding = 'bytes')"
   ]
  },
  {
   "cell_type": "code",
   "execution_count": 26,
   "metadata": {},
   "outputs": [
    {
     "name": "stdout",
     "output_type": "stream",
     "text": [
      "dims: 15, samples: 4140\n"
     ]
    }
   ],
   "source": [
    "dims = x.shape[1]\n",
    "N = x.shape[0]\n",
    "print(f'dims: {dims}, samples: {N}')"
   ]
  },
  {
   "cell_type": "markdown",
   "metadata": {},
   "source": [
    "Considering data arranged as in the previous matrices we refer to:\n",
    "- The columns as features, attributes, dimensions, regressors, covariates, predictors\n",
    "  or independent variables.\n",
    "- the rows as instances, examples or samples\n",
    "- the target as the label, outcome, response or dependent variable.\n"
   ]
  },
  {
   "cell_type": "code",
   "execution_count": 27,
   "metadata": {},
   "outputs": [
    {
     "name": "stdout",
     "output_type": "stream",
     "text": [
      "predicted value: -1.0, real target: -1.0\n"
     ]
    }
   ],
   "source": [
    "# apply sk-learn libraries\n",
    "from sklearn import neighbors\n",
    "from sklearn import datasets\n",
    "\n",
    "# create an isntance of k-nearest neighbor classifier\n",
    "knn = neighbors.KNeighborsClassifier(n_neighbors = 11)\n",
    "\n",
    "# train the classifier\n",
    "knn.fit(x, y)\n",
    "\n",
    "# compute the prediction according to the model\n",
    "y_hat = knn.predict(x)\n",
    "\n",
    "# check results\n",
    "print(f'predicted value: {y_hat[-1]}, real target: {y[-1]}')"
   ]
  },
  {
   "cell_type": "markdown",
   "metadata": {},
   "source": [
    "The basic measure of performance of a classifier is its accuracy. This is defined as\n",
    "the number of correctly predicted examples divided by the total amount of examples.\n",
    "\n",
    "$$ acc = \\frac{\\mbox{Number of correct predictions}}{n} $$"
   ]
  },
  {
   "cell_type": "markdown",
   "metadata": {},
   "source": [
    "Each estimator has a score() method that invokes the default scoring metric.\n",
    "In the case of k-nearest neighbors, this is the classification accuracy."
   ]
  },
  {
   "cell_type": "code",
   "execution_count": 28,
   "metadata": {},
   "outputs": [
    {
     "data": {
      "text/plain": [
       "0.8316425120772947"
      ]
     },
     "execution_count": 28,
     "metadata": {},
     "output_type": "execute_result"
    }
   ],
   "source": [
    "knn.score(x, y)"
   ]
  },
  {
   "cell_type": "markdown",
   "metadata": {},
   "source": [
    "It looks like a really good result. But how good is it? Let us first understand a little\n",
    "bit more about the problem by checking the distribution of the labels.\n",
    "Let us load the dataset and check the distribution of labels:"
   ]
  },
  {
   "cell_type": "code",
   "execution_count": 29,
   "metadata": {},
   "outputs": [
    {
     "data": {
      "image/png": "[encoded data removed]",
      "text/plain": [
       "<Figure size 504x504 with 1 Axes>"
      ]
     },
     "metadata": {},
     "output_type": "display_data"
    }
   ],
   "source": [
    "import numpy as np\n",
    "import matplotlib.pyplot as plt\n",
    "\n",
    "plt.pie(\n",
    "    np.c_[np.sum(np.where(y == 1, 1, 0)), np.sum(np.where(y == -1, 1, 0))][0],\n",
    "    labels = ['Not fully funded', 'Full amount'],\n",
    "    colors = ['r', 'g'],\n",
    "    shadow = False,\n",
    "    autopct = '%.2f'\n",
    ")\n",
    "plt.gcf().set_size_inches((7, 7))"
   ]
  },
  {
   "cell_type": "markdown",
   "metadata": {},
   "source": [
    "ith the result observed in Fig. 5.1.\n",
    "Note that there are far more positive labels than negative ones. In this case, the\n",
    "dataset is referred to as unbalanced. This has important consequences for a classifier\n",
    "as we will see later on. In particular, a very simple rule such as always predict the\n",
    "majority class, will give us good performance. In our problem, always predicting\n",
    "that the loan will be fully funded correctly predicts 81.57% of the samples. Observe\n",
    "that this value is very close to that obtained using the classifier.\n",
    "Although accuracy is the most normal metric for evaluating classifiers, there are\n",
    "cases when the business value of correctly predicting elements from one class is\n",
    "different from the value for the prediction of elements of another class. In those\n",
    "cases, accuracy is not a good performance metric and more detailed analysis is\n",
    "needed. The confusion matrix enables us to define different metrics considering such\n",
    "scenarios. The confusion matrix considers the concepts of the classifier outcome and\n",
    "the actual ground truth or gold standard. In a binary problem, there are four possible\n",
    "cases:"
   ]
  },
  {
   "cell_type": "markdown",
   "metadata": {},
   "source": [
    "* __True Positives (TP)__: When the classifier predicts a sample as positive\n",
    "  and it really is positive.\n",
    "* __False Positives (FP)__: When the classifier predicts a sample as positive\n",
    "  but in fact it is negative.\n",
    "* __True Negative (TN)__: When the classifier predicts a sample as negative\n",
    "  and it really is negative\n",
    "* __False Negative (FN)__: When the classifier predicts a sample as negative\n",
    "  but in fact it is positive.\n",
    "  "
   ]
  },
  {
   "cell_type": "markdown",
   "metadata": {},
   "source": [
    "<img src=\"images/conmatr.png\">,"
   ]
  },
  {
   "cell_type": "markdown",
   "metadata": {},
   "source": [
    "A combination of these elements allows us to define several perfromance metrics:\n",
    "- _Accuracyy_:\n",
    "$$ \\mbox{accuracy} = \\frac{TP + TN}{TP + TN + FP + FN}$$\n",
    "\n",
    "- Column-wise we find these two partial performance emtrics:\n",
    "    - _Sensitivity_ or _Recall_:\n",
    "    $$ \\mbox{sensitivity} = \\frac{TP}{\\mbox{Real Positives}} = \\frac{TP}{TP + FN} $$\n",
    "    - _Specificity_:\n",
    "    $$ \\mbox{specificity} = \\frac{TN}{\\mbox{Real Negatives}} = \\frac{TP}{TN + FP} $$\n",
    "    \n",
    "- Row-wise we find these two partial performance emtrics:\n",
    "    - _Precision or Positive Predictive Value_:\n",
    "    $$ \\mbox{precision} = \\frac{TP}{\\mbox{Predicted Positives}} = \\frac{TP}{TP + FP} $$\n",
    "    - _Negative Predictive Value_:\n",
    "    $$ \\mbox{NPC} = \\frac{TN}{\\mbox{Predicted Negatives}} = \\frac{TP}{TN + FN} $$"
   ]
  },
  {
   "cell_type": "markdown",
   "metadata": {},
   "source": [
    "These partial performance metrics allow us to answer questions concerning how\n",
    "often a classifier predicts a particular class, e.g., what is the rate of predictions for\n",
    "not fully funded loans that have actually not been fully funded? This question is\n",
    "answered by recall. In contrast, we could ask: Of all the fully funded loans predicted\n",
    "by the classifier, how many have been fully funded? This is answered by the precision\n",
    "metric."
   ]
  },
  {
   "cell_type": "code",
   "execution_count": 31,
   "metadata": {},
   "outputs": [
    {
     "data": {
      "text/plain": [
       "array([[3370,  690],\n",
       "       [   7,   73]])"
      ]
     },
     "execution_count": 31,
     "metadata": {},
     "output_type": "execute_result"
    }
   ],
   "source": [
    "from sklearn import metrics\n",
    "metrics.confusion_matrix(y_hat, y)"
   ]
  },
  {
   "cell_type": "markdown",
   "metadata": {},
   "source": [
    "Let us check the following example. Let us select a nearest neighbor classifier\n",
    "with the number of neighbors equal to one instead of eleven, as we did before, and\n",
    "check the training error."
   ]
  },
  {
   "cell_type": "code",
   "execution_count": 32,
   "metadata": {},
   "outputs": [
    {
     "name": "stdout",
     "output_type": "stream",
     "text": [
      "accuracy: 1.0\n",
      "confusion matrix:\n",
      "[[3377    0]\n",
      " [   0  763]]\n"
     ]
    }
   ],
   "source": [
    "# train a classifier\n",
    "knn = neighbors.KNeighborsClassifier(n_neighbors = 1)\n",
    "knn.fit(x, y)\n",
    "y_hat = knn.predict(x)\n",
    "\n",
    "print(f'accuracy: {metrics.accuracy_score(y_hat, y)}')\n",
    "print(f'confusion matrix:\\n{metrics.confusion_matrix(y_hat, y)}')"
   ]
  },
  {
   "cell_type": "markdown",
   "metadata": {},
   "source": [
    "The performance measure is perfect! 100% accuracy and a diagonal confusion\n",
    "matrix! This looks good. However, up to this point we have checked the classifier\n",
    "performance on the same data it has been trained with. During exploitation, in real\n",
    "applications, we will use the classifier on data not previously seen. Let us simulate\n",
    "this effect by splitting the data into two sets: one will be used for learning (training\n",
    "set) and the other for testing the accuracy (test set)."
   ]
  },
  {
   "cell_type": "code",
   "execution_count": 33,
   "metadata": {},
   "outputs": [],
   "source": [
    "# simulate a real case: Randomize and split data into\n",
    "# two subsets PRC * 100 \\% for training and the rest\n",
    "# (1 - PRC) * 100 \\% for testing\n",
    "perm = np.random.permutation(y.size)\n",
    "PRC = 0.7\n",
    "split_point = int(np.ceil(y.shape[0] * PRC))\n",
    "\n",
    "X_train = x[perm[:split_point].ravel(), :]\n",
    "y_train = y[perm[:split_point].ravel()]\n",
    "\n",
    "X_test = x[perm[split_point:].ravel(), :]\n",
    "y_test = y[perm[split_point:].ravel()]"
   ]
  },
  {
   "cell_type": "code",
   "execution_count": 39,
   "metadata": {},
   "outputs": [
    {
     "name": "stdout",
     "output_type": "stream",
     "text": [
      "training stats:\n",
      "classification accuracy: 1.0\n",
      "confusion matrix:\n",
      "[[2368    0]\n",
      " [   0  530]]\n"
     ]
    }
   ],
   "source": [
    "# let's train the model with this new partition\n",
    "# train a classifier on training data\n",
    "knn = neighbors.KNeighborsClassifier(n_neighbors = 1)\n",
    "knn.fit(X_train, y_train)\n",
    "y_hat = knn.predict(X_train)\n",
    "\n",
    "print('training stats:')\n",
    "print(f'classification accuracy: {metrics.accuracy_score(y_train, y_hat)}')\n",
    "print(f'confusion matrix:\\n{metrics.confusion_matrix(y_train, y_hat)}')"
   ]
  },
  {
   "cell_type": "markdown",
   "metadata": {},
   "source": [
    "As expected from the former experiment, we achieve a perfect score. Now let us\n",
    "see what happens in the simulation with previously unseen data"
   ]
  },
  {
   "cell_type": "code",
   "execution_count": 38,
   "metadata": {},
   "outputs": [
    {
     "name": "stdout",
     "output_type": "stream",
     "text": [
      "training stats:\n",
      "classification accuracy: 0.7471819645732689\n",
      "confusion matrix:\n",
      "[[854 155]\n",
      " [159  74]]\n"
     ]
    }
   ],
   "source": [
    "# check on the test set\n",
    "y_hat = knn.predict(X_test)\n",
    "\n",
    "print('training stats:')\n",
    "print(f'classification accuracy: {metrics.accuracy_score(y_test, y_hat)}')\n",
    "print(f'confusion matrix:\\n{metrics.confusion_matrix(y_test, y_hat)}')"
   ]
  },
  {
   "cell_type": "markdown",
   "metadata": {},
   "source": [
    "A good simulation for approximating the test error is to run this process many times and average the performances."
   ]
  },
  {
   "cell_type": "code",
   "execution_count": 42,
   "metadata": {},
   "outputs": [
    {
     "name": "stdout",
     "output_type": "stream",
     "text": [
      "mean expected error: 0.756\n"
     ]
    }
   ],
   "source": [
    "# splitting done by using the tools provided by sklearn\n",
    "from sklearn.model_selection import train_test_split\n",
    "\n",
    "PRC = 0.3\n",
    "acc = np.zeros((10,))\n",
    "for i in range(0, 10):\n",
    "    X_train, X_test, y_train, y_test = train_test_split(x, y, test_size = PRC)\n",
    "    knn = neighbors.KNeighborsClassifier(n_neighbors = 1)\n",
    "    knn.fit(X_train, y_train)\n",
    "    y_hat = knn.predict(X_test)\n",
    "    acc[i] = metrics.accuracy_score(y_hat, y_test)\n",
    "    \n",
    "acc.shape = (1, 10)\n",
    "print(f'mean expected error: {np.mean(acc[0]):.3F}')"
   ]
  },
  {
   "cell_type": "markdown",
   "metadata": {},
   "source": [
    "As we can see, the resulting error is below 81%, which was the result of the most\n",
    "naive decision process. What is wrong with this result?\n",
    "Let us introduce the nomenclature for the quantities we have just computed and\n",
    "define the following terms."
   ]
  },
  {
   "cell_type": "markdown",
   "metadata": {},
   "source": [
    "- __In-sample error__ $E_{in}$: The in.sample error or training error is the error\n",
    "  measured over all the observed data samples in the training set, i.e.,\n",
    "  \n",
    "  $$ E_{in} = \\frac{1}{N}\\sum_{i = 1}^{N} e(x_i, y_i) $$\n",
    "  \n",
    "- __Out-of-sample error__ $E_{out}: he out-of-sample error or generalization error mea-\n",
    "    sures the expected error on unseen data. We can approximate/simulate this quantity\n",
    "    by holding back some training data for testing purposes.\n",
    "   \n",
    "  $$ E_{out} = \\mathbb{E}_{x, y} (e(x, y)) $$\n",
    "  \n",
    "Note that the definition of the instantaneous error e(x i , y i ) is still missing. For\n",
    "example, in classification we could use the indicator function to account for a cor-\n",
    "rectly classified sample as follows:\n",
    "\n",
    "$$ e(x_i, y_i) = I[h(x_i) = y_i] = \\begin{cases}\n",
    "        \\begin{array}{lcl}\n",
    "        1, \\mbox{if  } h(x_i) = y_i \\\\\n",
    "        0 \\mbox{  otherwise}\n",
    "        \\end{array}\n",
    "\\end{cases}  $$\n",
    "\n",
    "Observe that:\n",
    "\n",
    "$$  E_{out} \\ge E_{in} $$"
   ]
  },
  {
   "cell_type": "code",
   "execution_count": 47,
   "metadata": {},
   "outputs": [],
   "source": [
    "# select \"best model\" by choosing the one with\n",
    "# lowest error rate\n",
    "from sklearn import tree\n",
    "from sklearn import svm\n",
    "\n",
    "PRC = 0.1\n",
    "acc_r = np.zeros((10, 4))\n",
    "\n",
    "for i in range(0, 10):\n",
    "    X_train, X_test, y_train, y_test = train_test_split(x, y, test_size = PRC)\n",
    "    nn1 = neighbors.KNeighborsClassifier(n_neighbors = 1)\n",
    "    nn3 = neighbors.KNeighborsClassifier(n_neighbors = 3)\n",
    "    svc = svm.SVC()\n",
    "    dt = tree.DecisionTreeClassifier()\n",
    "    \n",
    "    nn1.fit(X_train, y_train)\n",
    "    nn3.fit(X_train, y_train)\n",
    "    svc.fit(X_train, y_train)\n",
    "    dt.fit(X_train, y_train)\n",
    "    \n",
    "    yhat_nn1 = nn1.predict(X_test)\n",
    "    yhat_nn3 = nn3.predict(X_test)\n",
    "    yhat_svc = svc.predict(X_test)\n",
    "    yhat_dt = dt.predict(X_test)\n",
    "    \n",
    "    acc_r[i][0] = metrics.accuracy_score(yhat_nn1, y_test)\n",
    "    acc_r[i][1] = metrics.accuracy_score(yhat_nn3, y_test)\n",
    "    acc_r[i][2] = metrics.accuracy_score(yhat_svc, y_test)\n",
    "    acc_r[i][3] = metrics.accuracy_score(yhat_dt, y_test)"
   ]
  },
  {
   "cell_type": "code",
   "execution_count": 48,
   "metadata": {},
   "outputs": [
    {
     "data": {
      "text/plain": [
       "array([[0.7705314 , 0.7826087 , 0.80917874, 0.7705314 ],\n",
       "       [0.7705314 , 0.78985507, 0.80434783, 0.7705314 ],\n",
       "       [0.79951691, 0.80434783, 0.83816425, 0.79951691],\n",
       "       [0.74637681, 0.78985507, 0.80434783, 0.7826087 ],\n",
       "       [0.77294686, 0.82125604, 0.84299517, 0.78502415],\n",
       "       [0.75362319, 0.78743961, 0.81642512, 0.76811594],\n",
       "       [0.75362319, 0.77294686, 0.78743961, 0.82608696],\n",
       "       [0.74396135, 0.76570048, 0.78985507, 0.74637681],\n",
       "       [0.74637681, 0.79227053, 0.8115942 , 0.76086957],\n",
       "       [0.7705314 , 0.79951691, 0.82125604, 0.7705314 ]])"
      ]
     },
     "execution_count": 48,
     "metadata": {},
     "output_type": "execute_result"
    }
   ],
   "source": [
    "acc_r"
   ]
  },
  {
   "cell_type": "code",
   "execution_count": 66,
   "metadata": {},
   "outputs": [
    {
     "data": {
      "image/png": "[encoded data removed]",
      "text/plain": [
       "<Figure size 432x288 with 1 Axes>"
      ]
     },
     "metadata": {
      "needs_background": "light"
     },
     "output_type": "display_data"
    }
   ],
   "source": [
    "plt.boxplot(\n",
    "    acc_r, whis=True,\n",
    "    showcaps=True,\n",
    "    labels=('1-NN', '3-NN', 'SVM', 'Decision Tree'),\n",
    "    patch_artist=True,\n",
    ")\n",
    "plt.show()"
   ]
  },
  {
   "cell_type": "code",
   "execution_count": null,
   "metadata": {},
   "outputs": [],
   "source": []
  }
 ],
 "metadata": {
  "kernelspec": {
   "display_name": "Python 3.7.4 64-bit ('lab': virtualenv)",
   "language": "python",
   "name": "python37464bitlabvirtualenved77d976613b4753a84284c005b6ce98"
  },
  "language_info": {
   "codemirror_mode": {
    "name": "ipython",
    "version": 3
   },
   "file_extension": ".py",
   "mimetype": "text/x-python",
   "name": "python",
   "nbconvert_exporter": "python",
   "pygments_lexer": "ipython3",
   "version": "3.7.4"
  }
 },
 "nbformat": 4,
 "nbformat_minor": 4
}
