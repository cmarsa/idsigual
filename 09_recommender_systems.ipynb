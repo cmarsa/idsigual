{
 "cells": [
  {
   "cell_type": "markdown",
   "metadata": {},
   "source": [
    "# __09 Recommender Systems__"
   ]
  },
  {
   "cell_type": "markdown",
   "metadata": {},
   "source": [
    "## __Introduction__"
   ]
  },
  {
   "cell_type": "markdown",
   "metadata": {},
   "source": [
    "What is a recommender system? It can\n",
    "be defined as a tool designed to interact with large and complex information spaces,\n",
    "and to provide information or items that are likely to be of interest to the user, in an\n",
    "automated fashion. We refer to complex information space to the set of items, and\n",
    "its characteristics, which the system recommends to the user, i.e., books, movies, or\n",
    "city trips.\n",
    "Nowadays, recommender systems are extremely common, and are applied in a\n",
    "large variety of applications. Perhaps one of the most popular types are the movie\n",
    "recommender systems in applications used by companies such as Netflix, and the\n",
    "music recommenders in Pandora or Spotify, as well as any kind of product recom-\n",
    "mendation from Amazon.com. However, the truth is that recommender systems are\n",
    "present in a huge variety of applications, such as movies, music, news, books, re-\n",
    "search papers, search queries, social tags, and products in general, but they are also\n",
    "present in more sophisticated products where personalization is critical, like recom-\n",
    "mender systems for restaurants, financial services, life assurance, online dating, and\n",
    "Twitter followers."
   ]
  },
  {
   "cell_type": "markdown",
   "metadata": {},
   "source": [
    "There are several different ways to build a recommender system. However, most of\n",
    "them take one of two basic approaches: _content-based filtering_ (__CBF__) or _collabora-\n",
    "tive filtering_ (__CF__)."
   ]
  },
  {
   "cell_type": "markdown",
   "metadata": {},
   "source": [
    "### __Content Based Filtering__"
   ]
  },
  {
   "cell_type": "markdown",
   "metadata": {},
   "source": [
    "CBF methods are constructed behind the following paradigm: “Show me more of\n",
    "the same what I’ve liked”. So, this approach will recommend items which are similar\n",
    "to those the user liked before and the recommendations are based on descriptions\n",
    "of items and a profile of the user’s preferences. The computation of the similarity\n",
    "between items is the most important part of these methods and it is based on the\n",
    "content of the items themselves. As the content of the item can be very diverse, and it\n",
    "usually depends on the kind of items the system recommends, a range of sophisticated\n",
    "algorithms are usually used to abstract features from items. When dealing with textual\n",
    "information such as books or news, a widely used algorithm is tf–idf representation.\n",
    "The term tf–idf refers to frequency–inverse document frequency, it is a numerical\n",
    "statistic that measures how important a word is to a document in a collection or\n",
    "corpus."
   ]
  },
  {
   "cell_type": "markdown",
   "metadata": {},
   "source": [
    "### __Collaborative Filtering__"
   ]
  },
  {
   "cell_type": "markdown",
   "metadata": {},
   "source": [
    "CF methods are constructed behind the following paradigm: “Tell me what’s popular\n",
    "among my like-minded users”. This is really intuitive paradigm since it is really\n",
    "similar of what people use to do: ask or look at the preferences of the people they\n",
    "trust. An important working hypothesis behind these kind of recommenders is that\n",
    "similar users tend to like similar items. In order to do so, these approaches are based\n",
    "on collecting and analyzing a large number of data related to the behavior, activities,\n",
    "or tastes of users, and predicting what users will like based on their similarity to other\n",
    "users. One of the main advantages of this type of system is that it does not need to\n",
    "“understand” what the item it recommends is.\n",
    "Nowadays, these methods are extremely popular because of the simplicity and\n",
    "the large amount of data available from users. The main drawbacks of this kind of\n",
    "method is the need for a user community, as well as the cold-start effect for new\n",
    "users in the community. The cold-start problem appears when the system cannot\n",
    "draw any, or an optimal, inference or recommendation for the users (or items) since\n",
    "it has not yet obtained the sufficient information of them.\n",
    "CF can be of two types: user-based or item-based."
   ]
  },
  {
   "cell_type": "markdown",
   "metadata": {},
   "source": [
    "+ User-based CF works like this: Find similar users to me and recommend what they\n",
    "    liked. In this method, given a user, U , we first find a set of other users, D, whose\n",
    "    ratings are similar to the ratings of U and then we calculate a prediction for U.\n",
    "    \n",
    "+ Item-based CF works like this: Find similar items to those that I previously liked.\n",
    "    In item-based CF, we first build an item–item matrix that determines relationships\n",
    "    between pairs of items; then using this matrix and data on the current user U ,\n",
    "    we infer the user’s taste. Typically, this approach is used in the domain: people\n",
    "    who buy x also buy y. This is a really popular approach used by companies like\n",
    "    Amazon. Moreover, one of the advantages of this approach is that items usually\n",
    "    do not change much, so its similarities can be computed offline."
   ]
  },
  {
   "cell_type": "markdown",
   "metadata": {},
   "source": [
    "### Hybrid Recommenders\n",
    "Hybrid approaches can be implemented in several ways: by making content-based\n",
    "and collaborative predictions separately and then combining them; by adding content-based capabilities to a collaborative approach (and vice versa); or by unifying the\n",
    "approaches into one model."
   ]
  },
  {
   "cell_type": "markdown",
   "metadata": {},
   "source": [
    "## __Modeling User Preferences__\n",
    "Both, CBF and CF recommender systems, require to understand the user prefer-\n",
    "ences. Understanding how to model the user preference is a critical step due to the\n",
    "variety of sources. It is not the same when we deal with applications like the movie\n",
    "recommender from Netflix, where the users rank the movies with 1 to 5 stars; or\n",
    "as dealing with any product recommender system from Amazon, where usually the\n",
    "tracking information of the purchases is used. In this case, three values can be used:\n",
    "0 - not bought; 1 - viewed; 2 - bought.\n",
    "The most common types of labels used to estimate the user preferences are:\n",
    "\n",
    "- Boolean expressions (is bought?; is viewed?)\n",
    "- Numerical expressions (e.g., star ranking)\n",
    "- Up-Down expressions (e.g., like, neutral, or dislike)\n",
    "- Weighted value expressions (e.g., number of reproductions or clicks)"
   ]
  },
  {
   "cell_type": "markdown",
   "metadata": {},
   "source": [
    "## __Evaluating Recommenders__"
   ]
  },
  {
   "cell_type": "markdown",
   "metadata": {},
   "source": [
    "The evaluation of the recommender systems is another important step in order to\n",
    "assess the effectiveness of the method. When dealing with numerical labels, as the\n",
    "5-star ratings, the most common way to validate a recommender system is based\n",
    "on their prediction value, i.e., the capacity to predict the user’s choices. Standard\n",
    "functions such as root mean square error (RMSE), precision, recall, or ROC/cost\n",
    "curves have been extensively used.\n",
    "\n",
    "However, there are several other ways to evaluate the systems. It is because metrics\n",
    "are entirely relevant to point of view of the person who has to evaluate it. Imagine\n",
    "the following three persons: (a) a marketing guy; (b) a technical system designer;\n",
    "and (c) a final user. It is clear that what is relevant for all of them is not the same.\n",
    "For a marketing guy, what is usually important is how the system helps to push the\n",
    "product, for the technical system designer is how efficient is the algorithm, and for\n",
    "the final user is if the system gives him good, or mostly cool, results. In the literature\n",
    "we can see two main typologies: offline and online evaluation.\n",
    "\n",
    "We refer to evaluation as offline when a set of labeled data is obtained and then\n",
    "divided into two sets: a training set and a test set. The training set is used to create the\n",
    "model and adjust all the parameters; while the test set is used to determine selected\n",
    "evaluation metrics. As mentioned above, standard metrics such as RMSE, preci-\n",
    "sion, and recall are extensively used, but recently other indirect functions have also\n",
    "started to be widely considered. Examples of these: diversity, novelty, coverage, cold-start, or serendipity, the latter is a quite popular metric that evaluates how surprising\n",
    "the recommendations are.\n",
    "\n",
    "We refer to evaluation as online when a set of tools is used that allows us to look at\n",
    "the interactions of users with the system. The most common online technique is called\n",
    "A-B testing and has the benefit of allowing evaluation of the system at the same time\n",
    "as users are learning, buying, or playing with the recommender system. This brings\n",
    "the evaluation closer to the actual working of the system and makes it really effective\n",
    "when the purpose of the system is to change or influence the behavior of users. In\n",
    "order to evaluate the test, we are interested in measuring how user behavior changes\n",
    "when the user is interacting with different recommender systems. Let us give an\n",
    "example: imagine we want to develop a music recommender system like Pandora,\n",
    "where your final goal is none other than for users to love your intelligent music\n",
    "station and spend more time listening to it. In such a situation, offline metrics like\n",
    "RMSE are not good enough. In this case, we are particularly interested in evaluation\n",
    "of the global goal of the recommender system as it is the long-term profit or user\n",
    "retention."
   ]
  },
  {
   "cell_type": "markdown",
   "metadata": {},
   "source": [
    "## __MovieLens Dataset__"
   ]
  },
  {
   "cell_type": "code",
   "execution_count": 1,
   "metadata": {},
   "outputs": [],
   "source": [
    "import matplotlib.pyplot as plt"
   ]
  },
  {
   "cell_type": "code",
   "execution_count": 2,
   "metadata": {},
   "outputs": [],
   "source": [
    "import pandas as pd\n",
    "\n",
    "# load user data\n",
    "u_cols = [\n",
    "    'user_id', 'age', 'sex', 'occupation', 'zip_code'\n",
    "]\n",
    "\n",
    "users = pd.read_csv(\n",
    "    'input/ml-100k/u.user',\n",
    "    sep = '|',\n",
    "    names = u_cols\n",
    ")"
   ]
  },
  {
   "cell_type": "code",
   "execution_count": 3,
   "metadata": {},
   "outputs": [],
   "source": [
    "# load movie data\n",
    "r_cols = [\n",
    "    'user_id', 'movie_id', 'rating', 'unix_timestamp'\n",
    "]\n",
    "ratings = pd.read_csv(\n",
    "    'input/ml-100k/u.data',\n",
    "    sep = '\\t',\n",
    "    names = r_cols\n",
    ")\n",
    "\n",
    "m_cols = [\n",
    "    'movie_id', 'title', 'release_data'\n",
    "]\n",
    "movies = pd.read_csv(\n",
    "    'input/ml-100k/u.item',\n",
    "    sep = '|',\n",
    "    names = m_cols,\n",
    "    usecols = [0, 1, 2],\n",
    "    encoding = 'latin1'\n",
    ")"
   ]
  },
  {
   "cell_type": "code",
   "execution_count": 4,
   "metadata": {},
   "outputs": [],
   "source": [
    "# create a dataframe using only the fields required\n",
    "data = pd.merge(pd.merge(ratings, users), movies)\n",
    "data = data[['user_id', 'title', 'movie_id', 'rating']]"
   ]
  },
  {
   "cell_type": "code",
   "execution_count": 5,
   "metadata": {},
   "outputs": [
    {
     "name": "stdout",
     "output_type": "stream",
     "text": [
      "100000\n",
      "943\n",
      "1682\n"
     ]
    }
   ],
   "source": [
    "print(data.shape[0])\n",
    "print(data.user_id.nunique())\n",
    "print(data.movie_id.nunique())"
   ]
  },
  {
   "cell_type": "markdown",
   "metadata": {},
   "source": [
    "## __User-Based Collaborative Filtering__"
   ]
  },
  {
   "cell_type": "markdown",
   "metadata": {},
   "source": [
    "In order to create a user-based collaborative recommender system we must define:\n",
    "1. a prediction function\n",
    "2. a user similarity function \n",
    "3. an evaluation function."
   ]
  },
  {
   "cell_type": "markdown",
   "metadata": {},
   "source": [
    "## Prediction Function\n",
    "The prediction function behind the user-based CF will be based on the movie ratings\n",
    "from similar users. So, in order to recommend a movie, $p$, from a set of movies, $P$,\n",
    "to a given user, $a$, we first need to see the set of users, $B$, who have already seen p.\n",
    "Then, we need to see the taste similarity between these users in $B$ and user $a$. The\n",
    "most simple prediction function for a user $a$ and movie $p$ can be defined as follows:\n",
    "\n",
    "$$ \\text{pred}(a, b) = \\frac{\\sum_{b \\in B} \\text{sim}(a, b)(r_b, p}{\\sum_{b \\in B} \\text{sim}(a, b)} $$\n",
    "\n",
    "Where $\\text{sim}(a, b)$ is the similarity between user $a$ and user $b$, $B$ is the set of users\n",
    "in the dataset that have already seen $p$ and $r_{b, p}$ is the rating of $p$ by $b$."
   ]
  },
  {
   "cell_type": "markdown",
   "metadata": {},
   "source": [
    "## User Similarity Function\n",
    "The computation of the similarity between users is one of the most critical steps in\n",
    "the CF algorithms. The basic idea behind the similarity computation between two\n",
    "users $a$ and $b$ is that we can first isolate the set $P$ of items rated by both users, and\n",
    "then apply a similarity computation technique to determine the similarity."
   ]
  },
  {
   "cell_type": "code",
   "execution_count": 6,
   "metadata": {},
   "outputs": [
    {
     "name": "stdout",
     "output_type": "stream",
     "text": [
      "number of common movies:  96\n",
      "                                    title  rating\n",
      "14                           Kolya (1996)       5\n",
      "417                Shall We Dance? (1996)       4\n",
      "708     Ace Ventura: Pet Detective (1994)       3\n",
      "940                Raising Arizona (1987)       4\n",
      "1306  Truth About Cats & Dogs, The (1996)       5\n",
      "                                    title  rating\n",
      "2                            Kolya (1996)       4\n",
      "885                Raising Arizona (1987)       5\n",
      "1255  Truth About Cats & Dogs, The (1996)       2\n",
      "2636                          Babe (1995)       4\n",
      "3022   Four Weddings and a Funeral (1994)       3\n"
     ]
    }
   ],
   "source": [
    "# the set of common_movies\n",
    "# dataframe with the data from user 1\n",
    "df_user1 = data[data.user_id == 1]\n",
    "\n",
    "# dataframe with the data from user 2\n",
    "df_user2 = data[data.user_id == 6]\n",
    "\n",
    "# we first compute the ser of common movies\n",
    "common_mov = set(df_user1.movie_id).intersection(df_user2.movie_id)\n",
    "\n",
    "print('number of common movies: ', len(common_mov))\n",
    "\n",
    "# subdataframe with only the common movies\n",
    "mask = (df_user1.movie_id.isin(common_mov))\n",
    "df_user1 = df_user1[['title', 'rating']].head()\n",
    "print(df_user1[['title', 'rating']].head())\n",
    "\n",
    "mask = (df_user2.movie_id.isin(common_mov))\n",
    "df_user2 = df_user2[mask]\n",
    "\n",
    "print(df_user2[['title', 'rating']].head())"
   ]
  },
  {
   "cell_type": "markdown",
   "metadata": {},
   "source": [
    "Once the set of ratings for all movies common to the two users has been obtained, we can compute the user similarity. These are some of the most common similarity functions used in CF methods:"
   ]
  },
  {
   "cell_type": "markdown",
   "metadata": {},
   "source": [
    "+ __Euclidean distance__:\n",
    "\n",
    "$$ \\text{sim}(a, b) = \\sqrt{\\sum_{p \\in P} (r_{a,p} - r_{b, p})^2} $$\n",
    "\n",
    "+ __Pearsons Correlation__:\n",
    "\n",
    "$$ \\text{sim}(a, b) = \\frac{\\sum_{p \\in P} (r_{a,p} - \\bar{r}_a)(r_{b,p} - \\bar{r}_b)}{\\sqrt{\\sum_{p \\in P} (r_{a,p} - \\bar{r}_a)^2} \\sqrt{ \\sum_{p \\in P} (r_{b,p} - \\bar{r}_b)^2} } $$\n",
    "\n",
    "+ __Cosine distance__:\n",
    "$$ \\text{sim}(a, b) = \\frac{\\vec{a} \\cdot \\vec{b}}{\\vec{a} \\times \\vec{b}}$$\n",
    "\n",
    "Where $P$ is the set of commonr ated movies by user $a$ and $b$.\n",
    "$r_{a,p}$ is the rating of movie $p$ by user $a$\n",
    "$\\bar{r_{a}}$ is the mean rating fiven by user $a$"
   ]
  },
  {
   "cell_type": "markdown",
   "metadata": {},
   "source": [
    "### Some issues to take into account\n",
    "+ Pearson Correlation used to work better than euclidean distance since it is based\n",
    "    on the ranking than on the values.\n",
    "+ Cosine distance is usually used when our data is binary/unary\n",
    "+ What happens if two users have very few itmes in common?\n",
    "\n"
   ]
  },
  {
   "cell_type": "code",
   "execution_count": 31,
   "metadata": {},
   "outputs": [],
   "source": [
    "# define a fucntion to compute the users similarity\n",
    "from scipy.stats import pearsonr\n",
    "from scipy.spatial.distance import euclidean\n",
    "import seaborn as sns\n",
    "\n",
    "\n",
    "def sim_euclidean(dataframe, user_1, user_2, min_common_items = 2):\n",
    "    '''Returns a distance-based similarity score for person1 and person2\n",
    "    '''\n",
    "    movies_user_1 = dataframe[dataframe['user_id'] == user_1]\n",
    "    movies_user_2 = dataframe[dataframe['user_id'] == user_2]\n",
    "    \n",
    "    # find shared films\n",
    "    rep = pd.merge(movies_user_1, movies_user_2, on = 'movie_id')\n",
    "    if len(rep) == 0:\n",
    "        return 0\n",
    "    if (len(rep) < min_common_items):\n",
    "        return 0\n",
    "    return 1.0 / (1.0 + euclidean(rep['rating_x'], rep['rating_y']))\n",
    "\n",
    "def sim_pearson(dataframe, user_1, user_2, min_common_items = 2):\n",
    "    '''Returns a Pearson Correlation-based similarity score for person1 and person2\n",
    "    '''\n",
    "    movies_user_1 = dataframe[dataframe['user_id'] == user_1]\n",
    "    movies_user_2 = dataframe[dataframe['user_id'] == user_2]\n",
    "    \n",
    "    # find shared films\n",
    "    rep = pd.merge(movies_user_1, movies_user_2, on = 'movie_id')\n",
    "    if len(rep) == 0:\n",
    "        return 0\n",
    "    if (len(rep) < min_common_items):\n",
    "        return 0\n",
    "    res = pearsonr(rep['rating_x'], rep['rating_y'])[0]\n",
    "    if (pd.isna(res)):\n",
    "        return 0\n",
    "    return res"
   ]
  },
  {
   "cell_type": "code",
   "execution_count": 32,
   "metadata": {},
   "outputs": [
    {
     "name": "stdout",
     "output_type": "stream",
     "text": [
      "Euclidean Similarity 0.1566130288262323\n",
      "Pearson Similarity 0.6920863660773593\n",
      "-----\n",
      "Euclidean Similarity 0.1757340838011157\n",
      "Pearson Similarity -0.09221388919541465\n"
     ]
    }
   ],
   "source": [
    "\n",
    "\n",
    "print(\"Euclidean Similarity\",sim_euclidean(data,1,8))\n",
    "print(\"Pearson Similarity\",sim_pearson(data,1,8))\n",
    "print(\"-----\")\n",
    "print(\"Euclidean Similarity\",sim_euclidean(data,1,31))\n",
    "print(\"Pearson Similarity\",sim_pearson(data,1,31))\n",
    "\n"
   ]
  },
  {
   "cell_type": "code",
   "execution_count": 33,
   "metadata": {},
   "outputs": [],
   "source": [
    "import numpy as np\n",
    "\n",
    "movies_user1=data[data['user_id'] ==1 ][['user_id','movie_id','rating']]\n",
    "movies_user2=data[data['user_id'] ==8 ][['user_id','movie_id','rating']]\n",
    "    \n",
    "# FIND SHARED FILMS\n",
    "rep=pd.merge(movies_user1 ,movies_user2,on='movie_id')\n",
    "x= rep.rating_x + np.random.normal(loc=0.0, scale=0.1,size=len(rep.rating_x))\n",
    "y= rep.rating_y +np.random.normal(loc=0.0, scale=0.1,size=len(rep.rating_y))\n",
    "    \n",
    "a=rep.groupby(['rating_x', 'rating_y']).size()\n",
    "x=[]\n",
    "y=[]\n",
    "s=[]\n",
    "for item,b in a.iteritems():\n",
    "    x.append(item[0])\n",
    "    y.append(item[1])\n",
    "    s.append(b*30)\n"
   ]
  },
  {
   "cell_type": "code",
   "execution_count": 34,
   "metadata": {},
   "outputs": [
    {
     "data": {
      "image/png": "[encoded data removed]",
      "text/plain": [
       "<Figure size 432x288 with 1 Axes>"
      ]
     },
     "metadata": {
      "needs_background": "light"
     },
     "output_type": "display_data"
    }
   ],
   "source": [
    "fig = plt.figure(figsize=(6,4))\n",
    "plt.scatter(x,y, s=s)\n",
    "plt.xlabel('Rating User 1')\n",
    "plt.ylabel('Rating User '+str(8))\n",
    "plt.axis([0.5,5.5,0.5,5.5])\n",
    "plt.savefig(\"corre18.png\",dpi= 300, bbox_inches='tight')\n",
    "plt.show()"
   ]
  },
  {
   "cell_type": "code",
   "execution_count": 35,
   "metadata": {},
   "outputs": [
    {
     "data": {
      "image/png": "[encoded data removed]",
      "text/plain": [
       "<Figure size 432x288 with 1 Axes>"
      ]
     },
     "metadata": {
      "needs_background": "light"
     },
     "output_type": "display_data"
    }
   ],
   "source": [
    "# with user31\n",
    "\n",
    "\n",
    "movies_user1=data[data['user_id'] ==1 ][['user_id','movie_id','rating']]\n",
    "movies_user2=data[data['user_id'] ==31 ][['user_id','movie_id','rating']]\n",
    "    \n",
    "# FIND SHARED FILMS\n",
    "rep=pd.merge(movies_user1 ,movies_user2,on='movie_id')\n",
    "x= rep.rating_x + np.random.normal(loc=0.0, scale=0.1,size=len(rep.rating_x))\n",
    "y= rep.rating_y +np.random.normal(loc=0.0, scale=0.1,size=len(rep.rating_y))\n",
    "    \n",
    "a=rep.groupby(['rating_x', 'rating_y']).size()\n",
    "x=[]\n",
    "y=[]\n",
    "s=[]\n",
    "\n",
    "fig = plt.figure(figsize=(6,4))\n",
    "for item,b in a.iteritems():\n",
    "    x.append(item[0])\n",
    "    y.append(item[1])\n",
    "    s.append(b*30)\n",
    "plt.scatter(x,y, s=s)\n",
    "plt.xlabel('Rating User 1')\n",
    "plt.ylabel('Rating User '+str(31))\n",
    "plt.axis([0.5,5.5,0.5,5.5])\n",
    "plt.savefig(\"corre131.png\",dpi= 300, bbox_inches='tight')\n",
    "plt.show()\n",
    "\n"
   ]
  },
  {
   "cell_type": "markdown",
   "metadata": {},
   "source": [
    "## __Evaluation: Performance criterion__"
   ]
  },
  {
   "cell_type": "code",
   "execution_count": 36,
   "metadata": {},
   "outputs": [],
   "source": [
    "def assign_to_set(df):\n",
    "    sampled_ids = np.random.choice(df.index,\n",
    "                                   size=np.int64(np.ceil(df.index.size * 0.2)),\n",
    "                                   replace=False)\n",
    "    df.loc[sampled_ids, 'for_testing'] = True\n",
    "    return df\n",
    "\n",
    "data['for_testing'] = False\n",
    "grouped = data.groupby('user_id', group_keys=False).apply(assign_to_set)\n",
    "data_train = data[grouped.for_testing == False]\n",
    "data_test = data[grouped.for_testing == True]"
   ]
  },
  {
   "cell_type": "code",
   "execution_count": 37,
   "metadata": {},
   "outputs": [
    {
     "name": "stdout",
     "output_type": "stream",
     "text": [
      "(79619, 5)\n",
      "(20381, 5)\n",
      "Int64Index([], dtype='int64')\n",
      "Training data_set has 79619 ratings\n",
      "Test data set has 20381 ratings\n",
      "La BD has  1682  movies\n"
     ]
    }
   ],
   "source": [
    "print(data_train.shape)\n",
    "print(data_test.shape)\n",
    "print(data_train.index & data_test.index)\n",
    "\n",
    "print(\"Training data_set has \"+ str(data_train.shape[0]) +\" ratings\")\n",
    "print(\"Test data set has \"+ str(data_test.shape[0]) +\" ratings\")\n",
    "print(\"La BD has \", data.movie_id.nunique(), \" movies\")\n",
    "\n"
   ]
  },
  {
   "cell_type": "code",
   "execution_count": 38,
   "metadata": {},
   "outputs": [],
   "source": [
    "def compute_rmse(y_pred, y_true):\n",
    "    '''Compute Root Mean Squared Error.\n",
    "    '''\n",
    "    return np.sqrt(np.mean(np.power(y_pred - y_true, 2)))"
   ]
  },
  {
   "cell_type": "markdown",
   "metadata": {},
   "source": [
    "## Implementation of the Recommender System\n"
   ]
  },
  {
   "cell_type": "code",
   "execution_count": 39,
   "metadata": {},
   "outputs": [],
   "source": [
    "class CollaborativeFiltering:\n",
    "    '''\n",
    "    Colaborative Filtering using a custom sum(u, u)\n",
    "    '''\n",
    "    def __init__(self, dataframe, similarity = sim_pearson):\n",
    "        '''\n",
    "        Constructor\n",
    "        '''\n",
    "        self.sim_method = similarity\n",
    "        self.df = dataframe\n",
    "        self.sim = pd.DataFrame(np.sum([0]), columns = data_train.user_id.unique(), index = data_train.user_id.unique())\n",
    "        \n",
    "    def learn(self):\n",
    "        '''\n",
    "        Prepare data structures for estimation. Similarity matrix for users\n",
    "        '''\n",
    "        all_users = set(self.df['user_id'])\n",
    "        self.sim = {}\n",
    "        for person_1 in all_users:\n",
    "            self.sim.setdefault(person_1, {})\n",
    "            a = data_train[data_train['user_id'] == person_1][['movie_id']]\n",
    "            data_reduced = pd.merge(data_train, a, on = 'movie_id')\n",
    "            for person_2  in all_users:\n",
    "                if person_1 == person_2:\n",
    "                    continue\n",
    "                self.sim.setdefault(person_2, {})\n",
    "                if (person_1 in self.sim[person_2]): # since is asimetric matrix\n",
    "                    continue\n",
    "                sim = self.sim_method(data_reduced, person_1, person_2)\n",
    "                if (sim < 0):\n",
    "                    self.sim[person_1][person_2] = 0\n",
    "                    self.sim[person_2][person_1] = 0\n",
    "                else:\n",
    "                    self.sim[person_1][person_2] = sim\n",
    "                    self.sim[person_2][person_1] = sim\n",
    "    \n",
    "    def estimate(self, user_id, movie_id):\n",
    "        totals = {}\n",
    "        movie_users = self.df[self.df['movie_id'] == movie_id]\n",
    "        rating_num = 0.0\n",
    "        rating_den = 0.0\n",
    "        all_users = set(movie_users['user_id'])\n",
    "        for other in all_users:\n",
    "            if user_id == other:\n",
    "                continue\n",
    "            rating_num += self.sim[user_id][other] * float(movie_users[movie_users['user_id'] == other]['rating'])\n",
    "            if rating_den == 0:\n",
    "                if self.df.rating[self.df['movie_id'] == movie_id].mean() > 0:\n",
    "                    return self.df.rating[self.df['movie_id'] == movie_id].mean()\n",
    "                else:\n",
    "                    \n",
    "                    return self.df.rating[self.df['user_id'] == user_id].mean()\n",
    "            return rating_num / rating_den\n",
    "        \n",
    "                "
   ]
  },
  {
   "cell_type": "code",
   "execution_count": 40,
   "metadata": {},
   "outputs": [
    {
     "data": {
      "text/plain": [
       "3.9051724137931036"
      ]
     },
     "execution_count": 40,
     "metadata": {},
     "output_type": "execute_result"
    }
   ],
   "source": [
    "reco = CollaborativeFiltering(data_train)\n",
    "reco.learn()\n",
    "reco.estimate(user_id=2,movie_id=1)"
   ]
  },
  {
   "cell_type": "code",
   "execution_count": 46,
   "metadata": {},
   "outputs": [],
   "source": [
    "# evaluate model\n",
    "def evaluate(estimate_d, data_train, data_test):\n",
    "    ids_to_estimate = zip(data_test.user_id, data_test.movie_id)\n",
    "    estimated = np.array([estimate_d(u, i) if u in data_train.user_id else 3 for (u, i) in ids_to_estimate])\n",
    "    real = data_test.rating.values\n",
    "    return compute_rmse(estimated, real)\n"
   ]
  }
 ],
 "metadata": {
  "kernelspec": {
   "display_name": "Python 3.7.4 64-bit ('lab': virtualenv)",
   "language": "python",
   "name": "python37464bitlabvirtualenved77d976613b4753a84284c005b6ce98"
  },
  "language_info": {
   "codemirror_mode": {
    "name": "ipython",
    "version": 3
   },
   "file_extension": ".py",
   "mimetype": "text/x-python",
   "name": "python",
   "nbconvert_exporter": "python",
   "pygments_lexer": "ipython3",
   "version": "3.7.4"
  }
 },
 "nbformat": 4,
 "nbformat_minor": 4
}
